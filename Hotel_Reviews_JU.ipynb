{
 "cells": [
  {
   "attachments": {},
   "cell_type": "markdown",
   "metadata": {},
   "source": [
    "# Hotel Review Classification\n",
    "\n",
    "### Team 1: Renetta Nelson, Jacqueline Urenda\n",
    "\n",
    "### June 26, 2023"
   ]
  },
  {
   "attachments": {},
   "cell_type": "markdown",
   "metadata": {},
   "source": [
    "## Importing Libraries"
   ]
  },
  {
   "cell_type": "code",
   "execution_count": 4,
   "metadata": {},
   "outputs": [
    {
     "data": {
      "text/html": [
       "        <script type=\"text/javascript\">\n",
       "        window.PlotlyConfig = {MathJaxConfig: 'local'};\n",
       "        if (window.MathJax && window.MathJax.Hub && window.MathJax.Hub.Config) {window.MathJax.Hub.Config({SVG: {font: \"STIX-Web\"}});}\n",
       "        if (typeof require !== 'undefined') {\n",
       "        require.undef(\"plotly\");\n",
       "        requirejs.config({\n",
       "            paths: {\n",
       "                'plotly': ['https://cdn.plot.ly/plotly-2.18.0.min']\n",
       "            }\n",
       "        });\n",
       "        require(['plotly'], function(Plotly) {\n",
       "            window._Plotly = Plotly;\n",
       "        });\n",
       "        }\n",
       "        </script>\n",
       "        "
      ]
     },
     "metadata": {},
     "output_type": "display_data"
    }
   ],
   "source": [
    "import pandas as pd\n",
    "import numpy as np\n",
    "from bs4 import BeautifulSoup\n",
    "import requests\n",
    "import csv\n",
    "import time\n",
    "import random\n",
    "from collections import OrderedDict\n",
    "import string\n",
    "import re\n",
    "import matplotlib.pyplot as plt\n",
    "import seaborn as sns\n",
    "color = sns.color_palette()\n",
    "%matplotlib inline\n",
    "import plotly.offline as py\n",
    "py.init_notebook_mode(connected=True)\n",
    "import plotly.graph_objs as go\n",
    "import plotly.tools as tls\n",
    "import plotly.express as px\n",
    "\n",
    "\n",
    "from random import randint\n",
    "from time import sleep\n",
    "\n"
   ]
  },
  {
   "attachments": {},
   "cell_type": "markdown",
   "metadata": {},
   "source": [
    "## Retrieving Data from Website"
   ]
  },
  {
   "cell_type": "code",
   "execution_count": 5,
   "metadata": {},
   "outputs": [],
   "source": [
    "\n",
    "\n",
    "hotel_page1 = (\"https://www.tripadvisor.in/Hotels-g60750-San_Diego_California-Hotels.html\")\n",
    "hotel_page2 = (\"https://www.tripadvisor.in/Hotels-g60750-oa30-San_Diego_California-Hotels.html\")\n",
    "hotel_page3 = (\"https://www.tripadvisor.in/Hotels-g60750-oa60-San_Diego_California-Hotels.html\")\n",
    "hotel_page4 = (\"https://www.tripadvisor.in/Hotels-g60750-oa90-San_Diego_California-Hotels.html\")\n",
    "hotel_page5 = (\"https://www.tripadvisor.in/Hotels-g60750-oa120-San_Diego_California-Hotels.html\")\n",
    "hotel_page6 = (\"https://www.tripadvisor.in/Hotels-g60750-oa150-San_Diego_California-Hotels.html\")\n",
    "hotel_page7 = (\"https://www.tripadvisor.in/Hotels-g60750-oa180-San_Diego_California-Hotels.html\")\n",
    "hotel_page8 = (\"https://www.tripadvisor.in/Hotels-g60750-oa210-San_Diego_California-Hotels.html\")\n",
    "hotel_page9 = (\"https://www.tripadvisor.in/Hotels-g60750-oa240-San_Diego_California-Hotels.html\")\n",
    "hotel_page10 = (\"https://www.tripadvisor.in/Hotels-g60750-oa270-San_Diego_California-Hotels.html\")\n",
    "\n",
    "user_agent = ( {'User-Agent': 'Mozilla/5.0 (Windows NT 10.0; Win64; x64) \\ AppleWebKit/537.36 (KHTML, like Gecko) \\ Chrome/90.0.4430.212 Safari/537.36',\n",
    "                'Accept-Language': 'en-US, en'})\n",
    "\n",
    "\n",
    "hp1= requests.get(hotel_page1, headers = user_agent)\n",
    "hp2= requests.get(hotel_page2, headers = user_agent)\n",
    "hp3= requests.get(hotel_page3, headers = user_agent)\n",
    "hp4= requests.get(hotel_page4, headers = user_agent)\n",
    "hp5= requests.get(hotel_page5, headers = user_agent)\n",
    "hp6= requests.get(hotel_page6, headers = user_agent)\n",
    "hp7= requests.get(hotel_page7, headers = user_agent)\n",
    "hp8= requests.get(hotel_page8, headers = user_agent)\n",
    "hp9= requests.get(hotel_page9, headers = user_agent)\n",
    "hp10= requests.get(hotel_page10, headers = user_agent)\n",
    "\n",
    "\n"
   ]
  },
  {
   "attachments": {},
   "cell_type": "markdown",
   "metadata": {},
   "source": [
    "## Extracting the Data"
   ]
  },
  {
   "cell_type": "code",
   "execution_count": 6,
   "metadata": {},
   "outputs": [],
   "source": [
    "def extract(h_page, hotel_names, hotel_ratings, hotel_reviews, hotel_prices):\n",
    "\n",
    "    h_content = BeautifulSoup(h_page.content, 'html.parser')\n",
    "\n",
    "    for hotel_name in h_content.find_all('div', {'class': 'listing_title'}):\n",
    "        hotel_names.append(hotel_name.text.strip())\n",
    "\n",
    "\n",
    "    for hotel_rating in h_content.find_all('a', {'class': 'ui_bubble_rating'}):\n",
    "        hotel_ratings.append(hotel_rating['alt'])\n",
    "\n",
    "    for hotel_review in h_content.find_all('a', {'class': 'review_count'}):\n",
    "        hotel_reviews.append(hotel_review.text.strip())\n",
    "\n",
    "    for hotel_price in h_content.find_all('span', {'class': 'fwoto'}):\n",
    "        print(\"In pricing\")\n",
    "        hotel_prices.append(hotel_price.span.text.replace('₹','').strip())\n",
    "    \n",
    "\n",
    "    return hotel_names, hotel_ratings, hotel_reviews, hotel_prices\n",
    "\n",
    "\n",
    "def extract_test(hotel_names, hotel_ratings, hotel_reviews, hotel_prices):\n",
    "    print(\"Lengths of Dataset Columns\")\n",
    "    print(\"Hotel Names: \", len(hotel_names))\n",
    "    print(\"Hotel Ratings: \", len(hotel_ratings))\n",
    "    print(\"Hotel Reviews: \", len(hotel_reviews))\n",
    "    print(\"Hotel Prices: \", len(hotel_prices))"
   ]
  },
  {
   "cell_type": "code",
   "execution_count": 7,
   "metadata": {},
   "outputs": [],
   "source": [
    "\n",
    "hotel_names = []\n",
    "hotel_ratings = []\n",
    "hotel_reviews = []\n",
    "hotel_prices = []\n",
    "\n",
    "\n",
    "hotel_names, hotel_ratings, hotel_reviews, hotel_prices = extract(hp1, hotel_names, hotel_ratings, hotel_reviews, hotel_prices)\n",
    "hotel_names, hotel_ratings, hotel_reviews, hotel_prices = extract(hp2, hotel_names, hotel_ratings, hotel_reviews, hotel_prices)\n",
    "hotel_names, hotel_ratings, hotel_reviews, hotel_prices = extract(hp3, hotel_names, hotel_ratings, hotel_reviews, hotel_prices)\n",
    "hotel_names, hotel_ratings, hotel_reviews, hotel_prices = extract(hp4, hotel_names, hotel_ratings, hotel_reviews, hotel_prices)\n",
    "hotel_names, hotel_ratings, hotel_reviews, hotel_prices = extract(hp5, hotel_names, hotel_ratings, hotel_reviews, hotel_prices)\n",
    "hotel_names, hotel_ratings, hotel_reviews, hotel_prices = extract(hp6, hotel_names, hotel_ratings, hotel_reviews, hotel_prices)\n",
    "hotel_names, hotel_ratings, hotel_reviews, hotel_prices = extract(hp7, hotel_names, hotel_ratings, hotel_reviews, hotel_prices)\n",
    "hotel_names, hotel_ratings, hotel_reviews, hotel_prices = extract(hp8, hotel_names, hotel_ratings, hotel_reviews, hotel_prices)\n",
    "hotel_names, hotel_ratings, hotel_reviews, hotel_prices = extract(hp9, hotel_names, hotel_ratings, hotel_reviews, hotel_prices)\n",
    "hotel_names, hotel_ratings, hotel_reviews, hotel_prices = extract(hp10, hotel_names, hotel_ratings, hotel_reviews, hotel_prices)\n",
    "\n",
    "\n"
   ]
  },
  {
   "cell_type": "code",
   "execution_count": 8,
   "metadata": {},
   "outputs": [
    {
     "name": "stdout",
     "output_type": "stream",
     "text": [
      "Lengths of Dataset Columns\n",
      "Hotel Names:  600\n",
      "Hotel Ratings:  300\n",
      "Hotel Reviews:  300\n",
      "Hotel Prices:  0\n"
     ]
    }
   ],
   "source": [
    "extract_test(hotel_names, hotel_ratings, hotel_reviews, hotel_prices)"
   ]
  },
  {
   "attachments": {},
   "cell_type": "markdown",
   "metadata": {},
   "source": [
    "## Data Preparation"
   ]
  },
  {
   "cell_type": "code",
   "execution_count": 9,
   "metadata": {},
   "outputs": [],
   "source": [
    "def processing(hotel_names, hotel_ratings, hotel_reviews):\n",
    "    hotel_names2 = []\n",
    "    hotel_names3 = []\n",
    "    hotel_names4 = []\n",
    "    hotel_reviews2 = []\n",
    "    hotel_reviews3 = []\n",
    "    hotel_ratings2 = []\n",
    "    hotel_ratings3 = []\n",
    "    name_index = []\n",
    "    num = 0\n",
    "    temp = 0\n",
    "\n",
    "    # removing duplicates of hotel names\n",
    "    n = 0\n",
    "    for i in hotel_names:\n",
    "        if n % 2 == 0:\n",
    "            n = n + 1\n",
    "            hotel_names2.append(i)\n",
    "        else:\n",
    "            n = n + 1\n",
    "            continue \n",
    "\n",
    " \n",
    "\n",
    "    # remove \"Sponsored\" hotels\n",
    "\n",
    "    for i in hotel_names2:\n",
    "        #print(i)\n",
    "        x = i.split(\" \")\n",
    "        if x[0] == \"Sponsored\":\n",
    "            name_index.append(num)\n",
    "            num = num + 1\n",
    "            continue\n",
    "        else:\n",
    "            hotel_names3.append(\" \".join(x))\n",
    "            num = num + 1\n",
    "\n",
    "\n",
    "\n",
    "    # removing numbers from hotel names\n",
    "\n",
    "    for i in hotel_names3:\n",
    "        x = i.split(\" \")\n",
    "        del x[0]\n",
    "        hotel_names4.append(\" \".join(x))\n",
    "\n",
    "\n",
    "\n",
    "    # Removing word \"reviews\" from column values and converting to numerical \n",
    "\n",
    "    for i in hotel_reviews:\n",
    "        x = i.split(\" \")\n",
    "        for y in x:\n",
    "            c = re.sub(r'[^\\w\\s]', '', y)\n",
    "            if c.isdigit():\n",
    "                hotel_reviews2.append(c)\n",
    "            else:\n",
    "                continue\n",
    "\n",
    "    hotel_reviews2 = [eval(i) for i in hotel_reviews2]\n",
    "\n",
    "\n",
    "    # Removing Sponsored hotel reviews\n",
    "\n",
    "\n",
    "\n",
    "    for i in range(len(hotel_reviews2)):\n",
    "\n",
    "        if i not in name_index:\n",
    "                hotel_reviews3.append(hotel_reviews2[i])\n",
    "        else:\n",
    "            continue\n",
    "\n",
    "\n",
    "\n",
    "    # Removing Sponsored hotel ratings\n",
    "\n",
    "   \n",
    "    for i in range(len(hotel_ratings)):\n",
    "\n",
    "        if i not in name_index:\n",
    "                hotel_ratings2.append(hotel_ratings[i])\n",
    "        else:\n",
    "            continue\n",
    "        \n",
    "\n",
    "\n",
    "    # Only taking rating and converting into numerical \n",
    "\n",
    "    for i in hotel_ratings2:\n",
    "        x = i.split(\" \")\n",
    "        hotel_ratings3.append(x[0])\n",
    "\n",
    "    hotel_ratings3 = [eval(i) for i in hotel_ratings3]\n",
    "\n",
    "\n",
    "    return hotel_names4, hotel_ratings3, hotel_reviews3, name_index\n",
    "\n",
    "\n",
    "\n",
    "def processing_test(hotel_names3, hotel_ratings2, hotel_reviews2):\n",
    "    print(\"Lengths of Dataset Columns\")\n",
    "    print(\"Hotel Names: \", len(hotel_names3))\n",
    "    print(\"Hotel Ratings: \", len(hotel_ratings2))\n",
    "    print(\"Hotel Reviews: \", len(hotel_reviews2))\n"
   ]
  },
  {
   "cell_type": "code",
   "execution_count": 10,
   "metadata": {},
   "outputs": [],
   "source": [
    "\n",
    "hotel_names4, hotel_ratings3, hotel_reviews3, name_index = processing(hotel_names, hotel_ratings, hotel_reviews)\n",
    "\n"
   ]
  },
  {
   "cell_type": "code",
   "execution_count": 11,
   "metadata": {},
   "outputs": [
    {
     "name": "stdout",
     "output_type": "stream",
     "text": [
      "Lengths of Dataset Columns\n",
      "Hotel Names:  300\n",
      "Hotel Ratings:  300\n",
      "Hotel Reviews:  300\n"
     ]
    }
   ],
   "source": [
    "processing_test(hotel_names4, hotel_ratings3, hotel_reviews3)\n"
   ]
  },
  {
   "attachments": {},
   "cell_type": "markdown",
   "metadata": {},
   "source": [
    "## Loading Data "
   ]
  },
  {
   "cell_type": "code",
   "execution_count": 12,
   "metadata": {},
   "outputs": [
    {
     "data": {
      "text/html": [
       "<div>\n",
       "<style scoped>\n",
       "    .dataframe tbody tr th:only-of-type {\n",
       "        vertical-align: middle;\n",
       "    }\n",
       "\n",
       "    .dataframe tbody tr th {\n",
       "        vertical-align: top;\n",
       "    }\n",
       "\n",
       "    .dataframe thead th {\n",
       "        text-align: right;\n",
       "    }\n",
       "</style>\n",
       "<table border=\"1\" class=\"dataframe\">\n",
       "  <thead>\n",
       "    <tr style=\"text-align: right;\">\n",
       "      <th></th>\n",
       "      <th>names</th>\n",
       "      <th>num_reviews</th>\n",
       "      <th>ratings</th>\n",
       "    </tr>\n",
       "  </thead>\n",
       "  <tbody>\n",
       "    <tr>\n",
       "      <th>0</th>\n",
       "      <td>Bahia Resort Hotel</td>\n",
       "      <td>6358</td>\n",
       "      <td>4.5</td>\n",
       "    </tr>\n",
       "    <tr>\n",
       "      <th>1</th>\n",
       "      <td>Manchester Grand Hyatt San Diego</td>\n",
       "      <td>12628</td>\n",
       "      <td>4.5</td>\n",
       "    </tr>\n",
       "    <tr>\n",
       "      <th>2</th>\n",
       "      <td>Embassy Suites by Hilton San Diego Bay Downtown</td>\n",
       "      <td>3436</td>\n",
       "      <td>4.5</td>\n",
       "    </tr>\n",
       "    <tr>\n",
       "      <th>3</th>\n",
       "      <td>San Diego Mission Bay Resort</td>\n",
       "      <td>1354</td>\n",
       "      <td>4.0</td>\n",
       "    </tr>\n",
       "    <tr>\n",
       "      <th>4</th>\n",
       "      <td>Catamaran Resort Hotel and Spa</td>\n",
       "      <td>6745</td>\n",
       "      <td>4.5</td>\n",
       "    </tr>\n",
       "    <tr>\n",
       "      <th>5</th>\n",
       "      <td>San Diego Marriott La Jolla</td>\n",
       "      <td>1502</td>\n",
       "      <td>4.5</td>\n",
       "    </tr>\n",
       "    <tr>\n",
       "      <th>6</th>\n",
       "      <td>Paradise Point Resort &amp; Spa</td>\n",
       "      <td>3187</td>\n",
       "      <td>4.0</td>\n",
       "    </tr>\n",
       "    <tr>\n",
       "      <th>7</th>\n",
       "      <td>Best Western Plus Island Palms Hotel &amp; Marina</td>\n",
       "      <td>4850</td>\n",
       "      <td>4.5</td>\n",
       "    </tr>\n",
       "    <tr>\n",
       "      <th>8</th>\n",
       "      <td>Old Town Inn</td>\n",
       "      <td>2412</td>\n",
       "      <td>4.5</td>\n",
       "    </tr>\n",
       "    <tr>\n",
       "      <th>9</th>\n",
       "      <td>Urban Boutique Hotel</td>\n",
       "      <td>1333</td>\n",
       "      <td>4.5</td>\n",
       "    </tr>\n",
       "  </tbody>\n",
       "</table>\n",
       "</div>"
      ],
      "text/plain": [
       "                                             names  num_reviews  ratings\n",
       "0                               Bahia Resort Hotel         6358      4.5\n",
       "1                 Manchester Grand Hyatt San Diego        12628      4.5\n",
       "2  Embassy Suites by Hilton San Diego Bay Downtown         3436      4.5\n",
       "3                     San Diego Mission Bay Resort         1354      4.0\n",
       "4                   Catamaran Resort Hotel and Spa         6745      4.5\n",
       "5                      San Diego Marriott La Jolla         1502      4.5\n",
       "6                      Paradise Point Resort & Spa         3187      4.0\n",
       "7    Best Western Plus Island Palms Hotel & Marina         4850      4.5\n",
       "8                                     Old Town Inn         2412      4.5\n",
       "9                             Urban Boutique Hotel         1333      4.5"
      ]
     },
     "execution_count": 12,
     "metadata": {},
     "output_type": "execute_result"
    }
   ],
   "source": [
    "\n",
    "hotels_dict = {}\n",
    "\n",
    "# Load data into dictionary\n",
    "\n",
    "hotels_dict = {'names':hotel_names4, 'num_reviews':hotel_reviews3, 'ratings':hotel_ratings3}   #, 'costs':hotel_prices[:37]}\n",
    "\n",
    "\n",
    "hotels_df = pd.DataFrame.from_dict(hotels_dict)\n",
    "hotels_df.head(10)\n"
   ]
  },
  {
   "attachments": {},
   "cell_type": "markdown",
   "metadata": {},
   "source": [
    "## Extracting Hotel Reviews"
   ]
  },
  {
   "cell_type": "code",
   "execution_count": 13,
   "metadata": {},
   "outputs": [],
   "source": [
    "def extract_review(url):\n",
    "    \n",
    "    hotel_rev = []\n",
    "\n",
    "    review_page= (url)\n",
    "\n",
    "    user_agent = ( {'User-Agent': 'Mozilla/5.0 (Windows NT 10.0; Win64; x64) \\ AppleWebKit/537.36 (KHTML, like Gecko) \\ Chrome/90.0.4430.212 Safari/537.36',\n",
    "                    'Accept-Language': 'en-US, en'})\n",
    "\n",
    "\n",
    "    rp1= requests.get(review_page, headers = user_agent)\n",
    "\n",
    "    h_content = BeautifulSoup(rp1.content, 'html.parser')\n",
    "\n",
    "    for rp_1 in h_content.findAll('span', {'class':'QewHA H4 _a'}):\n",
    "        hotel_rev.append(rp_1.span.text.strip())\n",
    "    \n",
    "    return hotel_rev\n",
    "\n",
    "\n",
    "\n",
    "def extract_links(hotel_link, links):\n",
    "\n",
    "    for review in hotel_link.findAll('a',{'class': 'review_count'}):\n",
    "        a = review['href']\n",
    "        a = 'https://www.tripadvisor.in'+ a\n",
    "\n",
    "        a= a[:(a.find('Reviews')+7)] + '-or{}' + a[(a.find('Reviews')+7):]\n",
    "  \n",
    "        links.append(a)\n",
    "    #return links\n",
    "    \n",
    "\n",
    "\n",
    "\n"
   ]
  },
  {
   "cell_type": "code",
   "execution_count": 14,
   "metadata": {},
   "outputs": [],
   "source": [
    "\n",
    "hotel_rev = BeautifulSoup(hp1.content, 'html.parser')\n",
    "hotel_rev2 = BeautifulSoup(hp2.content, \"html.parser\")\n",
    "hotel_rev3 = BeautifulSoup(hp3.content, \"html.parser\")\n",
    "hotel_rev4 = BeautifulSoup(hp4.content, \"html.parser\")\n",
    "hotel_rev5 = BeautifulSoup(hp5.content, \"html.parser\")\n",
    "hotel_rev6 = BeautifulSoup(hp6.content, \"html.parser\")\n",
    "hotel_rev7 = BeautifulSoup(hp7.content, \"html.parser\")\n",
    "hotel_rev8 = BeautifulSoup(hp8.content, \"html.parser\")\n",
    "hotel_rev9 = BeautifulSoup(hp9.content, \"html.parser\")\n",
    "hotel_rev10 = BeautifulSoup(hp10.content, \"html.parser\")\n",
    "\n",
    "\n",
    "links = []\n",
    "links2 = []\n",
    "\n",
    "extract_links(hotel_rev, links)\n",
    "extract_links(hotel_rev2, links)\n",
    "extract_links(hotel_rev3, links)\n",
    "extract_links(hotel_rev4, links)\n",
    "extract_links(hotel_rev5, links)\n",
    "extract_links(hotel_rev6, links)\n",
    "extract_links(hotel_rev7, links)\n",
    "extract_links(hotel_rev8, links)\n",
    "extract_links(hotel_rev9, links)\n",
    "extract_links(hotel_rev10, links)\n",
    "\n",
    "\n",
    "\n",
    "# removing links to reviews for sponsored hotels\n",
    "\n",
    "\n",
    "for i in range(len(links)):\n",
    "\n",
    "    if i not in name_index:\n",
    "            links2.append(links[i])\n",
    "    else:\n",
    "        continue\n"
   ]
  },
  {
   "cell_type": "code",
   "execution_count": null,
   "metadata": {},
   "outputs": [],
   "source": []
  },
  {
   "cell_type": "code",
   "execution_count": 16,
   "metadata": {},
   "outputs": [],
   "source": [
    "reviews = []\n",
    "\n",
    "for link in links2:\n",
    "    reviews.append(extract_review(link))\n",
    "    \n",
    "#reviews"
   ]
  },
  {
   "attachments": {},
   "cell_type": "markdown",
   "metadata": {},
   "source": [
    "## Loading Reviews into Data Frame"
   ]
  },
  {
   "cell_type": "code",
   "execution_count": 17,
   "metadata": {},
   "outputs": [
    {
     "data": {
      "text/html": [
       "<div>\n",
       "<style scoped>\n",
       "    .dataframe tbody tr th:only-of-type {\n",
       "        vertical-align: middle;\n",
       "    }\n",
       "\n",
       "    .dataframe tbody tr th {\n",
       "        vertical-align: top;\n",
       "    }\n",
       "\n",
       "    .dataframe thead th {\n",
       "        text-align: right;\n",
       "    }\n",
       "</style>\n",
       "<table border=\"1\" class=\"dataframe\">\n",
       "  <thead>\n",
       "    <tr style=\"text-align: right;\">\n",
       "      <th></th>\n",
       "      <th>names</th>\n",
       "      <th>num_reviews</th>\n",
       "      <th>ratings</th>\n",
       "      <th>reviews</th>\n",
       "    </tr>\n",
       "  </thead>\n",
       "  <tbody>\n",
       "    <tr>\n",
       "      <th>0</th>\n",
       "      <td>Bahia Resort Hotel</td>\n",
       "      <td>6358</td>\n",
       "      <td>4.5</td>\n",
       "      <td>[Karina, Ben, and Tim exceeded all expectation...</td>\n",
       "    </tr>\n",
       "    <tr>\n",
       "      <th>1</th>\n",
       "      <td>Manchester Grand Hyatt San Diego</td>\n",
       "      <td>12628</td>\n",
       "      <td>4.5</td>\n",
       "      <td>[I enjoyed a wonderful stay at the hotel. With...</td>\n",
       "    </tr>\n",
       "    <tr>\n",
       "      <th>2</th>\n",
       "      <td>Embassy Suites by Hilton San Diego Bay Downtown</td>\n",
       "      <td>3436</td>\n",
       "      <td>4.5</td>\n",
       "      <td>[The staff is super friendly and helpful, espe...</td>\n",
       "    </tr>\n",
       "    <tr>\n",
       "      <th>3</th>\n",
       "      <td>San Diego Mission Bay Resort</td>\n",
       "      <td>1354</td>\n",
       "      <td>4.0</td>\n",
       "      <td>[The grounds, facility and views were beautifu...</td>\n",
       "    </tr>\n",
       "    <tr>\n",
       "      <th>4</th>\n",
       "      <td>Catamaran Resort Hotel and Spa</td>\n",
       "      <td>6745</td>\n",
       "      <td>4.5</td>\n",
       "      <td>[My husband and I were looking forward to stay...</td>\n",
       "    </tr>\n",
       "    <tr>\n",
       "      <th>5</th>\n",
       "      <td>San Diego Marriott La Jolla</td>\n",
       "      <td>1502</td>\n",
       "      <td>4.5</td>\n",
       "      <td>[We always appreciate extraordinary service an...</td>\n",
       "    </tr>\n",
       "    <tr>\n",
       "      <th>6</th>\n",
       "      <td>Paradise Point Resort &amp; Spa</td>\n",
       "      <td>3187</td>\n",
       "      <td>4.0</td>\n",
       "      <td>[Excellent Service and friendly support in all...</td>\n",
       "    </tr>\n",
       "    <tr>\n",
       "      <th>7</th>\n",
       "      <td>Best Western Plus Island Palms Hotel &amp; Marina</td>\n",
       "      <td>4850</td>\n",
       "      <td>4.5</td>\n",
       "      <td>[As always this is a great place to stay. Blue...</td>\n",
       "    </tr>\n",
       "    <tr>\n",
       "      <th>8</th>\n",
       "      <td>Old Town Inn</td>\n",
       "      <td>2412</td>\n",
       "      <td>4.5</td>\n",
       "      <td>[Booked this for our San Diego trip. The sink ...</td>\n",
       "    </tr>\n",
       "    <tr>\n",
       "      <th>9</th>\n",
       "      <td>Urban Boutique Hotel</td>\n",
       "      <td>1333</td>\n",
       "      <td>4.5</td>\n",
       "      <td>[I can't think of anything that wasn't exempla...</td>\n",
       "    </tr>\n",
       "  </tbody>\n",
       "</table>\n",
       "</div>"
      ],
      "text/plain": [
       "                                             names  num_reviews  ratings  \\\n",
       "0                               Bahia Resort Hotel         6358      4.5   \n",
       "1                 Manchester Grand Hyatt San Diego        12628      4.5   \n",
       "2  Embassy Suites by Hilton San Diego Bay Downtown         3436      4.5   \n",
       "3                     San Diego Mission Bay Resort         1354      4.0   \n",
       "4                   Catamaran Resort Hotel and Spa         6745      4.5   \n",
       "5                      San Diego Marriott La Jolla         1502      4.5   \n",
       "6                      Paradise Point Resort & Spa         3187      4.0   \n",
       "7    Best Western Plus Island Palms Hotel & Marina         4850      4.5   \n",
       "8                                     Old Town Inn         2412      4.5   \n",
       "9                             Urban Boutique Hotel         1333      4.5   \n",
       "\n",
       "                                             reviews  \n",
       "0  [Karina, Ben, and Tim exceeded all expectation...  \n",
       "1  [I enjoyed a wonderful stay at the hotel. With...  \n",
       "2  [The staff is super friendly and helpful, espe...  \n",
       "3  [The grounds, facility and views were beautifu...  \n",
       "4  [My husband and I were looking forward to stay...  \n",
       "5  [We always appreciate extraordinary service an...  \n",
       "6  [Excellent Service and friendly support in all...  \n",
       "7  [As always this is a great place to stay. Blue...  \n",
       "8  [Booked this for our San Diego trip. The sink ...  \n",
       "9  [I can't think of anything that wasn't exempla...  "
      ]
     },
     "execution_count": 17,
     "metadata": {},
     "output_type": "execute_result"
    }
   ],
   "source": [
    "\n",
    "hotels_df[\"reviews\"] = reviews\n",
    "\n",
    "hotels_df.head(10)\n"
   ]
  },
  {
   "attachments": {},
   "cell_type": "markdown",
   "metadata": {},
   "source": []
  },
  {
   "cell_type": "code",
   "execution_count": 18,
   "metadata": {},
   "outputs": [
    {
     "name": "stdout",
     "output_type": "stream",
     "text": [
      "300\n"
     ]
    }
   ],
   "source": [
    "print(len(hotels_df))"
   ]
  },
  {
   "attachments": {},
   "cell_type": "markdown",
   "metadata": {},
   "source": [
    "## Exploratory Data Analysis"
   ]
  },
  {
   "attachments": {},
   "cell_type": "markdown",
   "metadata": {},
   "source": [
    "Plotting the distribution of ratings scores:"
   ]
  },
  {
   "cell_type": "code",
   "execution_count": 19,
   "metadata": {},
   "outputs": [
    {
     "data": {
      "application/vnd.plotly.v1+json": {
       "config": {
        "plotlyServerURL": "https://plot.ly"
       },
       "data": [
        {
         "alignmentgroup": "True",
         "bingroup": "x",
         "hovertemplate": "ratings=%{x}<br>count=%{y}<extra></extra>",
         "legendgroup": "",
         "marker": {
          "color": "pink",
          "line": {
           "color": "orchid",
           "width": 1.5
          },
          "pattern": {
           "shape": ""
          }
         },
         "name": "",
         "offsetgroup": "",
         "orientation": "v",
         "showlegend": false,
         "type": "histogram",
         "x": [
          4.5,
          4.5,
          4.5,
          4,
          4.5,
          4.5,
          4,
          4.5,
          4.5,
          4.5,
          4.5,
          4,
          5,
          4.5,
          4.5,
          4,
          4,
          3.5,
          4.5,
          4,
          4,
          5,
          3.5,
          4.5,
          4,
          3.5,
          3,
          4,
          4,
          4.5,
          4.5,
          4.5,
          4.5,
          4.5,
          4.5,
          4.5,
          4.5,
          4.5,
          4,
          4,
          4,
          4,
          4.5,
          4,
          4.5,
          4,
          4.5,
          4,
          3.5,
          4,
          4,
          4,
          4.5,
          3.5,
          4,
          3.5,
          4,
          3.5,
          3.5,
          2.5,
          4.5,
          4.5,
          4,
          4.5,
          4,
          4.5,
          4.5,
          4,
          4.5,
          4.5,
          4,
          4.5,
          4,
          4,
          4,
          4.5,
          4.5,
          4,
          4,
          4,
          4,
          3.5,
          4,
          3.5,
          3.5,
          4,
          3.5,
          3.5,
          4.5,
          3.5,
          4.5,
          4.5,
          4,
          4,
          4.5,
          4.5,
          4,
          3.5,
          4.5,
          4.5,
          4.5,
          4,
          4,
          4,
          4.5,
          4.5,
          4,
          4,
          4,
          4,
          3,
          3.5,
          4.5,
          3.5,
          3.5,
          4,
          4,
          4,
          3.5,
          3.5,
          4.5,
          4.5,
          4.5,
          4.5,
          4.5,
          4,
          4,
          4,
          4.5,
          4,
          4.5,
          4,
          4,
          4.5,
          3.5,
          4,
          4,
          4,
          4,
          3.5,
          4.5,
          3.5,
          4,
          3.5,
          5,
          3.5,
          4,
          3,
          3.5,
          2.5,
          4.5,
          4.5,
          4.5,
          4,
          4,
          4.5,
          3.5,
          4.5,
          4,
          4,
          3.5,
          3.5,
          4,
          3.5,
          4,
          3.5,
          4,
          4,
          4,
          3.5,
          4,
          4.5,
          3.5,
          3,
          3.5,
          3.5,
          2.5,
          2.5,
          2.5,
          2.5,
          4.5,
          4,
          4.5,
          3.5,
          4,
          4,
          4,
          4,
          3.5,
          3.5,
          4,
          4,
          4,
          5,
          3.5,
          4.5,
          4.5,
          3.5,
          3.5,
          4,
          3.5,
          4,
          3.5,
          3,
          3.5,
          3.5,
          3,
          1.5,
          2.5,
          2.5,
          4.5,
          4.5,
          4,
          4.5,
          4.5,
          4.5,
          4.5,
          5,
          4.5,
          4.5,
          4.5,
          4.5,
          4,
          4.5,
          4.5,
          3.5,
          4.5,
          4.5,
          3,
          3.5,
          4,
          3.5,
          4,
          5,
          4.5,
          4,
          3,
          3.5,
          3,
          3.5,
          5,
          5,
          4.5,
          4.5,
          4.5,
          4,
          4,
          4.5,
          4.5,
          4.5,
          4,
          4.5,
          3,
          4.5,
          3.5,
          3.5,
          3.5,
          3.5,
          3.5,
          5,
          5,
          3.5,
          5,
          3.5,
          4,
          4.5,
          3,
          3.5,
          2.5,
          2,
          5,
          3.5,
          4.5,
          3.5,
          3.5,
          4,
          4,
          4,
          5,
          5,
          3.5,
          4.5,
          3.5,
          4.5,
          5,
          5,
          5,
          4,
          5,
          4,
          5,
          4,
          4.5,
          5,
          4.5,
          4.5,
          3.5,
          5,
          5,
          5
         ],
         "xaxis": "x",
         "yaxis": "y"
        }
       ],
       "layout": {
        "barmode": "relative",
        "legend": {
         "tracegroupgap": 0
        },
        "margin": {
         "t": 60
        },
        "template": {
         "data": {
          "bar": [
           {
            "error_x": {
             "color": "#2a3f5f"
            },
            "error_y": {
             "color": "#2a3f5f"
            },
            "marker": {
             "line": {
              "color": "#E5ECF6",
              "width": 0.5
             },
             "pattern": {
              "fillmode": "overlay",
              "size": 10,
              "solidity": 0.2
             }
            },
            "type": "bar"
           }
          ],
          "barpolar": [
           {
            "marker": {
             "line": {
              "color": "#E5ECF6",
              "width": 0.5
             },
             "pattern": {
              "fillmode": "overlay",
              "size": 10,
              "solidity": 0.2
             }
            },
            "type": "barpolar"
           }
          ],
          "carpet": [
           {
            "aaxis": {
             "endlinecolor": "#2a3f5f",
             "gridcolor": "white",
             "linecolor": "white",
             "minorgridcolor": "white",
             "startlinecolor": "#2a3f5f"
            },
            "baxis": {
             "endlinecolor": "#2a3f5f",
             "gridcolor": "white",
             "linecolor": "white",
             "minorgridcolor": "white",
             "startlinecolor": "#2a3f5f"
            },
            "type": "carpet"
           }
          ],
          "choropleth": [
           {
            "colorbar": {
             "outlinewidth": 0,
             "ticks": ""
            },
            "type": "choropleth"
           }
          ],
          "contour": [
           {
            "colorbar": {
             "outlinewidth": 0,
             "ticks": ""
            },
            "colorscale": [
             [
              0,
              "#0d0887"
             ],
             [
              0.1111111111111111,
              "#46039f"
             ],
             [
              0.2222222222222222,
              "#7201a8"
             ],
             [
              0.3333333333333333,
              "#9c179e"
             ],
             [
              0.4444444444444444,
              "#bd3786"
             ],
             [
              0.5555555555555556,
              "#d8576b"
             ],
             [
              0.6666666666666666,
              "#ed7953"
             ],
             [
              0.7777777777777778,
              "#fb9f3a"
             ],
             [
              0.8888888888888888,
              "#fdca26"
             ],
             [
              1,
              "#f0f921"
             ]
            ],
            "type": "contour"
           }
          ],
          "contourcarpet": [
           {
            "colorbar": {
             "outlinewidth": 0,
             "ticks": ""
            },
            "type": "contourcarpet"
           }
          ],
          "heatmap": [
           {
            "colorbar": {
             "outlinewidth": 0,
             "ticks": ""
            },
            "colorscale": [
             [
              0,
              "#0d0887"
             ],
             [
              0.1111111111111111,
              "#46039f"
             ],
             [
              0.2222222222222222,
              "#7201a8"
             ],
             [
              0.3333333333333333,
              "#9c179e"
             ],
             [
              0.4444444444444444,
              "#bd3786"
             ],
             [
              0.5555555555555556,
              "#d8576b"
             ],
             [
              0.6666666666666666,
              "#ed7953"
             ],
             [
              0.7777777777777778,
              "#fb9f3a"
             ],
             [
              0.8888888888888888,
              "#fdca26"
             ],
             [
              1,
              "#f0f921"
             ]
            ],
            "type": "heatmap"
           }
          ],
          "heatmapgl": [
           {
            "colorbar": {
             "outlinewidth": 0,
             "ticks": ""
            },
            "colorscale": [
             [
              0,
              "#0d0887"
             ],
             [
              0.1111111111111111,
              "#46039f"
             ],
             [
              0.2222222222222222,
              "#7201a8"
             ],
             [
              0.3333333333333333,
              "#9c179e"
             ],
             [
              0.4444444444444444,
              "#bd3786"
             ],
             [
              0.5555555555555556,
              "#d8576b"
             ],
             [
              0.6666666666666666,
              "#ed7953"
             ],
             [
              0.7777777777777778,
              "#fb9f3a"
             ],
             [
              0.8888888888888888,
              "#fdca26"
             ],
             [
              1,
              "#f0f921"
             ]
            ],
            "type": "heatmapgl"
           }
          ],
          "histogram": [
           {
            "marker": {
             "pattern": {
              "fillmode": "overlay",
              "size": 10,
              "solidity": 0.2
             }
            },
            "type": "histogram"
           }
          ],
          "histogram2d": [
           {
            "colorbar": {
             "outlinewidth": 0,
             "ticks": ""
            },
            "colorscale": [
             [
              0,
              "#0d0887"
             ],
             [
              0.1111111111111111,
              "#46039f"
             ],
             [
              0.2222222222222222,
              "#7201a8"
             ],
             [
              0.3333333333333333,
              "#9c179e"
             ],
             [
              0.4444444444444444,
              "#bd3786"
             ],
             [
              0.5555555555555556,
              "#d8576b"
             ],
             [
              0.6666666666666666,
              "#ed7953"
             ],
             [
              0.7777777777777778,
              "#fb9f3a"
             ],
             [
              0.8888888888888888,
              "#fdca26"
             ],
             [
              1,
              "#f0f921"
             ]
            ],
            "type": "histogram2d"
           }
          ],
          "histogram2dcontour": [
           {
            "colorbar": {
             "outlinewidth": 0,
             "ticks": ""
            },
            "colorscale": [
             [
              0,
              "#0d0887"
             ],
             [
              0.1111111111111111,
              "#46039f"
             ],
             [
              0.2222222222222222,
              "#7201a8"
             ],
             [
              0.3333333333333333,
              "#9c179e"
             ],
             [
              0.4444444444444444,
              "#bd3786"
             ],
             [
              0.5555555555555556,
              "#d8576b"
             ],
             [
              0.6666666666666666,
              "#ed7953"
             ],
             [
              0.7777777777777778,
              "#fb9f3a"
             ],
             [
              0.8888888888888888,
              "#fdca26"
             ],
             [
              1,
              "#f0f921"
             ]
            ],
            "type": "histogram2dcontour"
           }
          ],
          "mesh3d": [
           {
            "colorbar": {
             "outlinewidth": 0,
             "ticks": ""
            },
            "type": "mesh3d"
           }
          ],
          "parcoords": [
           {
            "line": {
             "colorbar": {
              "outlinewidth": 0,
              "ticks": ""
             }
            },
            "type": "parcoords"
           }
          ],
          "pie": [
           {
            "automargin": true,
            "type": "pie"
           }
          ],
          "scatter": [
           {
            "fillpattern": {
             "fillmode": "overlay",
             "size": 10,
             "solidity": 0.2
            },
            "type": "scatter"
           }
          ],
          "scatter3d": [
           {
            "line": {
             "colorbar": {
              "outlinewidth": 0,
              "ticks": ""
             }
            },
            "marker": {
             "colorbar": {
              "outlinewidth": 0,
              "ticks": ""
             }
            },
            "type": "scatter3d"
           }
          ],
          "scattercarpet": [
           {
            "marker": {
             "colorbar": {
              "outlinewidth": 0,
              "ticks": ""
             }
            },
            "type": "scattercarpet"
           }
          ],
          "scattergeo": [
           {
            "marker": {
             "colorbar": {
              "outlinewidth": 0,
              "ticks": ""
             }
            },
            "type": "scattergeo"
           }
          ],
          "scattergl": [
           {
            "marker": {
             "colorbar": {
              "outlinewidth": 0,
              "ticks": ""
             }
            },
            "type": "scattergl"
           }
          ],
          "scattermapbox": [
           {
            "marker": {
             "colorbar": {
              "outlinewidth": 0,
              "ticks": ""
             }
            },
            "type": "scattermapbox"
           }
          ],
          "scatterpolar": [
           {
            "marker": {
             "colorbar": {
              "outlinewidth": 0,
              "ticks": ""
             }
            },
            "type": "scatterpolar"
           }
          ],
          "scatterpolargl": [
           {
            "marker": {
             "colorbar": {
              "outlinewidth": 0,
              "ticks": ""
             }
            },
            "type": "scatterpolargl"
           }
          ],
          "scatterternary": [
           {
            "marker": {
             "colorbar": {
              "outlinewidth": 0,
              "ticks": ""
             }
            },
            "type": "scatterternary"
           }
          ],
          "surface": [
           {
            "colorbar": {
             "outlinewidth": 0,
             "ticks": ""
            },
            "colorscale": [
             [
              0,
              "#0d0887"
             ],
             [
              0.1111111111111111,
              "#46039f"
             ],
             [
              0.2222222222222222,
              "#7201a8"
             ],
             [
              0.3333333333333333,
              "#9c179e"
             ],
             [
              0.4444444444444444,
              "#bd3786"
             ],
             [
              0.5555555555555556,
              "#d8576b"
             ],
             [
              0.6666666666666666,
              "#ed7953"
             ],
             [
              0.7777777777777778,
              "#fb9f3a"
             ],
             [
              0.8888888888888888,
              "#fdca26"
             ],
             [
              1,
              "#f0f921"
             ]
            ],
            "type": "surface"
           }
          ],
          "table": [
           {
            "cells": {
             "fill": {
              "color": "#EBF0F8"
             },
             "line": {
              "color": "white"
             }
            },
            "header": {
             "fill": {
              "color": "#C8D4E3"
             },
             "line": {
              "color": "white"
             }
            },
            "type": "table"
           }
          ]
         },
         "layout": {
          "annotationdefaults": {
           "arrowcolor": "#2a3f5f",
           "arrowhead": 0,
           "arrowwidth": 1
          },
          "autotypenumbers": "strict",
          "coloraxis": {
           "colorbar": {
            "outlinewidth": 0,
            "ticks": ""
           }
          },
          "colorscale": {
           "diverging": [
            [
             0,
             "#8e0152"
            ],
            [
             0.1,
             "#c51b7d"
            ],
            [
             0.2,
             "#de77ae"
            ],
            [
             0.3,
             "#f1b6da"
            ],
            [
             0.4,
             "#fde0ef"
            ],
            [
             0.5,
             "#f7f7f7"
            ],
            [
             0.6,
             "#e6f5d0"
            ],
            [
             0.7,
             "#b8e186"
            ],
            [
             0.8,
             "#7fbc41"
            ],
            [
             0.9,
             "#4d9221"
            ],
            [
             1,
             "#276419"
            ]
           ],
           "sequential": [
            [
             0,
             "#0d0887"
            ],
            [
             0.1111111111111111,
             "#46039f"
            ],
            [
             0.2222222222222222,
             "#7201a8"
            ],
            [
             0.3333333333333333,
             "#9c179e"
            ],
            [
             0.4444444444444444,
             "#bd3786"
            ],
            [
             0.5555555555555556,
             "#d8576b"
            ],
            [
             0.6666666666666666,
             "#ed7953"
            ],
            [
             0.7777777777777778,
             "#fb9f3a"
            ],
            [
             0.8888888888888888,
             "#fdca26"
            ],
            [
             1,
             "#f0f921"
            ]
           ],
           "sequentialminus": [
            [
             0,
             "#0d0887"
            ],
            [
             0.1111111111111111,
             "#46039f"
            ],
            [
             0.2222222222222222,
             "#7201a8"
            ],
            [
             0.3333333333333333,
             "#9c179e"
            ],
            [
             0.4444444444444444,
             "#bd3786"
            ],
            [
             0.5555555555555556,
             "#d8576b"
            ],
            [
             0.6666666666666666,
             "#ed7953"
            ],
            [
             0.7777777777777778,
             "#fb9f3a"
            ],
            [
             0.8888888888888888,
             "#fdca26"
            ],
            [
             1,
             "#f0f921"
            ]
           ]
          },
          "colorway": [
           "#636efa",
           "#EF553B",
           "#00cc96",
           "#ab63fa",
           "#FFA15A",
           "#19d3f3",
           "#FF6692",
           "#B6E880",
           "#FF97FF",
           "#FECB52"
          ],
          "font": {
           "color": "#2a3f5f"
          },
          "geo": {
           "bgcolor": "white",
           "lakecolor": "white",
           "landcolor": "#E5ECF6",
           "showlakes": true,
           "showland": true,
           "subunitcolor": "white"
          },
          "hoverlabel": {
           "align": "left"
          },
          "hovermode": "closest",
          "mapbox": {
           "style": "light"
          },
          "paper_bgcolor": "white",
          "plot_bgcolor": "#E5ECF6",
          "polar": {
           "angularaxis": {
            "gridcolor": "white",
            "linecolor": "white",
            "ticks": ""
           },
           "bgcolor": "#E5ECF6",
           "radialaxis": {
            "gridcolor": "white",
            "linecolor": "white",
            "ticks": ""
           }
          },
          "scene": {
           "xaxis": {
            "backgroundcolor": "#E5ECF6",
            "gridcolor": "white",
            "gridwidth": 2,
            "linecolor": "white",
            "showbackground": true,
            "ticks": "",
            "zerolinecolor": "white"
           },
           "yaxis": {
            "backgroundcolor": "#E5ECF6",
            "gridcolor": "white",
            "gridwidth": 2,
            "linecolor": "white",
            "showbackground": true,
            "ticks": "",
            "zerolinecolor": "white"
           },
           "zaxis": {
            "backgroundcolor": "#E5ECF6",
            "gridcolor": "white",
            "gridwidth": 2,
            "linecolor": "white",
            "showbackground": true,
            "ticks": "",
            "zerolinecolor": "white"
           }
          },
          "shapedefaults": {
           "line": {
            "color": "#2a3f5f"
           }
          },
          "ternary": {
           "aaxis": {
            "gridcolor": "white",
            "linecolor": "white",
            "ticks": ""
           },
           "baxis": {
            "gridcolor": "white",
            "linecolor": "white",
            "ticks": ""
           },
           "bgcolor": "#E5ECF6",
           "caxis": {
            "gridcolor": "white",
            "linecolor": "white",
            "ticks": ""
           }
          },
          "title": {
           "x": 0.05
          },
          "xaxis": {
           "automargin": true,
           "gridcolor": "white",
           "linecolor": "white",
           "ticks": "",
           "title": {
            "standoff": 15
           },
           "zerolinecolor": "white",
           "zerolinewidth": 2
          },
          "yaxis": {
           "automargin": true,
           "gridcolor": "white",
           "linecolor": "white",
           "ticks": "",
           "title": {
            "standoff": 15
           },
           "zerolinecolor": "white",
           "zerolinewidth": 2
          }
         }
        },
        "title": {
         "text": "Hotel Ratings Distribution"
        },
        "xaxis": {
         "anchor": "y",
         "domain": [
          0,
          1
         ],
         "title": {
          "text": "ratings"
         }
        },
        "yaxis": {
         "anchor": "x",
         "domain": [
          0,
          1
         ],
         "title": {
          "text": "count"
         }
        }
       }
      },
      "text/html": [
       "<div>                            <div id=\"af89f3f8-fac7-4528-81e6-249bcf403533\" class=\"plotly-graph-div\" style=\"height:525px; width:100%;\"></div>            <script type=\"text/javascript\">                require([\"plotly\"], function(Plotly) {                    window.PLOTLYENV=window.PLOTLYENV || {};                                    if (document.getElementById(\"af89f3f8-fac7-4528-81e6-249bcf403533\")) {                    Plotly.newPlot(                        \"af89f3f8-fac7-4528-81e6-249bcf403533\",                        [{\"alignmentgroup\":\"True\",\"bingroup\":\"x\",\"hovertemplate\":\"ratings=%{x}<br>count=%{y}<extra></extra>\",\"legendgroup\":\"\",\"marker\":{\"color\":\"pink\",\"pattern\":{\"shape\":\"\"},\"line\":{\"color\":\"orchid\",\"width\":1.5}},\"name\":\"\",\"offsetgroup\":\"\",\"orientation\":\"v\",\"showlegend\":false,\"x\":[4.5,4.5,4.5,4.0,4.5,4.5,4.0,4.5,4.5,4.5,4.5,4.0,5.0,4.5,4.5,4.0,4.0,3.5,4.5,4.0,4.0,5.0,3.5,4.5,4.0,3.5,3.0,4.0,4.0,4.5,4.5,4.5,4.5,4.5,4.5,4.5,4.5,4.5,4.0,4.0,4.0,4.0,4.5,4.0,4.5,4.0,4.5,4.0,3.5,4.0,4.0,4.0,4.5,3.5,4.0,3.5,4.0,3.5,3.5,2.5,4.5,4.5,4.0,4.5,4.0,4.5,4.5,4.0,4.5,4.5,4.0,4.5,4.0,4.0,4.0,4.5,4.5,4.0,4.0,4.0,4.0,3.5,4.0,3.5,3.5,4.0,3.5,3.5,4.5,3.5,4.5,4.5,4.0,4.0,4.5,4.5,4.0,3.5,4.5,4.5,4.5,4.0,4.0,4.0,4.5,4.5,4.0,4.0,4.0,4.0,3.0,3.5,4.5,3.5,3.5,4.0,4.0,4.0,3.5,3.5,4.5,4.5,4.5,4.5,4.5,4.0,4.0,4.0,4.5,4.0,4.5,4.0,4.0,4.5,3.5,4.0,4.0,4.0,4.0,3.5,4.5,3.5,4.0,3.5,5.0,3.5,4.0,3.0,3.5,2.5,4.5,4.5,4.5,4.0,4.0,4.5,3.5,4.5,4.0,4.0,3.5,3.5,4.0,3.5,4.0,3.5,4.0,4.0,4.0,3.5,4.0,4.5,3.5,3.0,3.5,3.5,2.5,2.5,2.5,2.5,4.5,4.0,4.5,3.5,4.0,4.0,4.0,4.0,3.5,3.5,4.0,4.0,4.0,5.0,3.5,4.5,4.5,3.5,3.5,4.0,3.5,4.0,3.5,3.0,3.5,3.5,3.0,1.5,2.5,2.5,4.5,4.5,4.0,4.5,4.5,4.5,4.5,5.0,4.5,4.5,4.5,4.5,4.0,4.5,4.5,3.5,4.5,4.5,3.0,3.5,4.0,3.5,4.0,5.0,4.5,4.0,3.0,3.5,3.0,3.5,5.0,5.0,4.5,4.5,4.5,4.0,4.0,4.5,4.5,4.5,4.0,4.5,3.0,4.5,3.5,3.5,3.5,3.5,3.5,5.0,5.0,3.5,5.0,3.5,4.0,4.5,3.0,3.5,2.5,2.0,5.0,3.5,4.5,3.5,3.5,4.0,4.0,4.0,5.0,5.0,3.5,4.5,3.5,4.5,5.0,5.0,5.0,4.0,5.0,4.0,5.0,4.0,4.5,5.0,4.5,4.5,3.5,5.0,5.0,5.0],\"xaxis\":\"x\",\"yaxis\":\"y\",\"type\":\"histogram\"}],                        {\"template\":{\"data\":{\"histogram2dcontour\":[{\"type\":\"histogram2dcontour\",\"colorbar\":{\"outlinewidth\":0,\"ticks\":\"\"},\"colorscale\":[[0.0,\"#0d0887\"],[0.1111111111111111,\"#46039f\"],[0.2222222222222222,\"#7201a8\"],[0.3333333333333333,\"#9c179e\"],[0.4444444444444444,\"#bd3786\"],[0.5555555555555556,\"#d8576b\"],[0.6666666666666666,\"#ed7953\"],[0.7777777777777778,\"#fb9f3a\"],[0.8888888888888888,\"#fdca26\"],[1.0,\"#f0f921\"]]}],\"choropleth\":[{\"type\":\"choropleth\",\"colorbar\":{\"outlinewidth\":0,\"ticks\":\"\"}}],\"histogram2d\":[{\"type\":\"histogram2d\",\"colorbar\":{\"outlinewidth\":0,\"ticks\":\"\"},\"colorscale\":[[0.0,\"#0d0887\"],[0.1111111111111111,\"#46039f\"],[0.2222222222222222,\"#7201a8\"],[0.3333333333333333,\"#9c179e\"],[0.4444444444444444,\"#bd3786\"],[0.5555555555555556,\"#d8576b\"],[0.6666666666666666,\"#ed7953\"],[0.7777777777777778,\"#fb9f3a\"],[0.8888888888888888,\"#fdca26\"],[1.0,\"#f0f921\"]]}],\"heatmap\":[{\"type\":\"heatmap\",\"colorbar\":{\"outlinewidth\":0,\"ticks\":\"\"},\"colorscale\":[[0.0,\"#0d0887\"],[0.1111111111111111,\"#46039f\"],[0.2222222222222222,\"#7201a8\"],[0.3333333333333333,\"#9c179e\"],[0.4444444444444444,\"#bd3786\"],[0.5555555555555556,\"#d8576b\"],[0.6666666666666666,\"#ed7953\"],[0.7777777777777778,\"#fb9f3a\"],[0.8888888888888888,\"#fdca26\"],[1.0,\"#f0f921\"]]}],\"heatmapgl\":[{\"type\":\"heatmapgl\",\"colorbar\":{\"outlinewidth\":0,\"ticks\":\"\"},\"colorscale\":[[0.0,\"#0d0887\"],[0.1111111111111111,\"#46039f\"],[0.2222222222222222,\"#7201a8\"],[0.3333333333333333,\"#9c179e\"],[0.4444444444444444,\"#bd3786\"],[0.5555555555555556,\"#d8576b\"],[0.6666666666666666,\"#ed7953\"],[0.7777777777777778,\"#fb9f3a\"],[0.8888888888888888,\"#fdca26\"],[1.0,\"#f0f921\"]]}],\"contourcarpet\":[{\"type\":\"contourcarpet\",\"colorbar\":{\"outlinewidth\":0,\"ticks\":\"\"}}],\"contour\":[{\"type\":\"contour\",\"colorbar\":{\"outlinewidth\":0,\"ticks\":\"\"},\"colorscale\":[[0.0,\"#0d0887\"],[0.1111111111111111,\"#46039f\"],[0.2222222222222222,\"#7201a8\"],[0.3333333333333333,\"#9c179e\"],[0.4444444444444444,\"#bd3786\"],[0.5555555555555556,\"#d8576b\"],[0.6666666666666666,\"#ed7953\"],[0.7777777777777778,\"#fb9f3a\"],[0.8888888888888888,\"#fdca26\"],[1.0,\"#f0f921\"]]}],\"surface\":[{\"type\":\"surface\",\"colorbar\":{\"outlinewidth\":0,\"ticks\":\"\"},\"colorscale\":[[0.0,\"#0d0887\"],[0.1111111111111111,\"#46039f\"],[0.2222222222222222,\"#7201a8\"],[0.3333333333333333,\"#9c179e\"],[0.4444444444444444,\"#bd3786\"],[0.5555555555555556,\"#d8576b\"],[0.6666666666666666,\"#ed7953\"],[0.7777777777777778,\"#fb9f3a\"],[0.8888888888888888,\"#fdca26\"],[1.0,\"#f0f921\"]]}],\"mesh3d\":[{\"type\":\"mesh3d\",\"colorbar\":{\"outlinewidth\":0,\"ticks\":\"\"}}],\"scatter\":[{\"fillpattern\":{\"fillmode\":\"overlay\",\"size\":10,\"solidity\":0.2},\"type\":\"scatter\"}],\"parcoords\":[{\"type\":\"parcoords\",\"line\":{\"colorbar\":{\"outlinewidth\":0,\"ticks\":\"\"}}}],\"scatterpolargl\":[{\"type\":\"scatterpolargl\",\"marker\":{\"colorbar\":{\"outlinewidth\":0,\"ticks\":\"\"}}}],\"bar\":[{\"error_x\":{\"color\":\"#2a3f5f\"},\"error_y\":{\"color\":\"#2a3f5f\"},\"marker\":{\"line\":{\"color\":\"#E5ECF6\",\"width\":0.5},\"pattern\":{\"fillmode\":\"overlay\",\"size\":10,\"solidity\":0.2}},\"type\":\"bar\"}],\"scattergeo\":[{\"type\":\"scattergeo\",\"marker\":{\"colorbar\":{\"outlinewidth\":0,\"ticks\":\"\"}}}],\"scatterpolar\":[{\"type\":\"scatterpolar\",\"marker\":{\"colorbar\":{\"outlinewidth\":0,\"ticks\":\"\"}}}],\"histogram\":[{\"marker\":{\"pattern\":{\"fillmode\":\"overlay\",\"size\":10,\"solidity\":0.2}},\"type\":\"histogram\"}],\"scattergl\":[{\"type\":\"scattergl\",\"marker\":{\"colorbar\":{\"outlinewidth\":0,\"ticks\":\"\"}}}],\"scatter3d\":[{\"type\":\"scatter3d\",\"line\":{\"colorbar\":{\"outlinewidth\":0,\"ticks\":\"\"}},\"marker\":{\"colorbar\":{\"outlinewidth\":0,\"ticks\":\"\"}}}],\"scattermapbox\":[{\"type\":\"scattermapbox\",\"marker\":{\"colorbar\":{\"outlinewidth\":0,\"ticks\":\"\"}}}],\"scatterternary\":[{\"type\":\"scatterternary\",\"marker\":{\"colorbar\":{\"outlinewidth\":0,\"ticks\":\"\"}}}],\"scattercarpet\":[{\"type\":\"scattercarpet\",\"marker\":{\"colorbar\":{\"outlinewidth\":0,\"ticks\":\"\"}}}],\"carpet\":[{\"aaxis\":{\"endlinecolor\":\"#2a3f5f\",\"gridcolor\":\"white\",\"linecolor\":\"white\",\"minorgridcolor\":\"white\",\"startlinecolor\":\"#2a3f5f\"},\"baxis\":{\"endlinecolor\":\"#2a3f5f\",\"gridcolor\":\"white\",\"linecolor\":\"white\",\"minorgridcolor\":\"white\",\"startlinecolor\":\"#2a3f5f\"},\"type\":\"carpet\"}],\"table\":[{\"cells\":{\"fill\":{\"color\":\"#EBF0F8\"},\"line\":{\"color\":\"white\"}},\"header\":{\"fill\":{\"color\":\"#C8D4E3\"},\"line\":{\"color\":\"white\"}},\"type\":\"table\"}],\"barpolar\":[{\"marker\":{\"line\":{\"color\":\"#E5ECF6\",\"width\":0.5},\"pattern\":{\"fillmode\":\"overlay\",\"size\":10,\"solidity\":0.2}},\"type\":\"barpolar\"}],\"pie\":[{\"automargin\":true,\"type\":\"pie\"}]},\"layout\":{\"autotypenumbers\":\"strict\",\"colorway\":[\"#636efa\",\"#EF553B\",\"#00cc96\",\"#ab63fa\",\"#FFA15A\",\"#19d3f3\",\"#FF6692\",\"#B6E880\",\"#FF97FF\",\"#FECB52\"],\"font\":{\"color\":\"#2a3f5f\"},\"hovermode\":\"closest\",\"hoverlabel\":{\"align\":\"left\"},\"paper_bgcolor\":\"white\",\"plot_bgcolor\":\"#E5ECF6\",\"polar\":{\"bgcolor\":\"#E5ECF6\",\"angularaxis\":{\"gridcolor\":\"white\",\"linecolor\":\"white\",\"ticks\":\"\"},\"radialaxis\":{\"gridcolor\":\"white\",\"linecolor\":\"white\",\"ticks\":\"\"}},\"ternary\":{\"bgcolor\":\"#E5ECF6\",\"aaxis\":{\"gridcolor\":\"white\",\"linecolor\":\"white\",\"ticks\":\"\"},\"baxis\":{\"gridcolor\":\"white\",\"linecolor\":\"white\",\"ticks\":\"\"},\"caxis\":{\"gridcolor\":\"white\",\"linecolor\":\"white\",\"ticks\":\"\"}},\"coloraxis\":{\"colorbar\":{\"outlinewidth\":0,\"ticks\":\"\"}},\"colorscale\":{\"sequential\":[[0.0,\"#0d0887\"],[0.1111111111111111,\"#46039f\"],[0.2222222222222222,\"#7201a8\"],[0.3333333333333333,\"#9c179e\"],[0.4444444444444444,\"#bd3786\"],[0.5555555555555556,\"#d8576b\"],[0.6666666666666666,\"#ed7953\"],[0.7777777777777778,\"#fb9f3a\"],[0.8888888888888888,\"#fdca26\"],[1.0,\"#f0f921\"]],\"sequentialminus\":[[0.0,\"#0d0887\"],[0.1111111111111111,\"#46039f\"],[0.2222222222222222,\"#7201a8\"],[0.3333333333333333,\"#9c179e\"],[0.4444444444444444,\"#bd3786\"],[0.5555555555555556,\"#d8576b\"],[0.6666666666666666,\"#ed7953\"],[0.7777777777777778,\"#fb9f3a\"],[0.8888888888888888,\"#fdca26\"],[1.0,\"#f0f921\"]],\"diverging\":[[0,\"#8e0152\"],[0.1,\"#c51b7d\"],[0.2,\"#de77ae\"],[0.3,\"#f1b6da\"],[0.4,\"#fde0ef\"],[0.5,\"#f7f7f7\"],[0.6,\"#e6f5d0\"],[0.7,\"#b8e186\"],[0.8,\"#7fbc41\"],[0.9,\"#4d9221\"],[1,\"#276419\"]]},\"xaxis\":{\"gridcolor\":\"white\",\"linecolor\":\"white\",\"ticks\":\"\",\"title\":{\"standoff\":15},\"zerolinecolor\":\"white\",\"automargin\":true,\"zerolinewidth\":2},\"yaxis\":{\"gridcolor\":\"white\",\"linecolor\":\"white\",\"ticks\":\"\",\"title\":{\"standoff\":15},\"zerolinecolor\":\"white\",\"automargin\":true,\"zerolinewidth\":2},\"scene\":{\"xaxis\":{\"backgroundcolor\":\"#E5ECF6\",\"gridcolor\":\"white\",\"linecolor\":\"white\",\"showbackground\":true,\"ticks\":\"\",\"zerolinecolor\":\"white\",\"gridwidth\":2},\"yaxis\":{\"backgroundcolor\":\"#E5ECF6\",\"gridcolor\":\"white\",\"linecolor\":\"white\",\"showbackground\":true,\"ticks\":\"\",\"zerolinecolor\":\"white\",\"gridwidth\":2},\"zaxis\":{\"backgroundcolor\":\"#E5ECF6\",\"gridcolor\":\"white\",\"linecolor\":\"white\",\"showbackground\":true,\"ticks\":\"\",\"zerolinecolor\":\"white\",\"gridwidth\":2}},\"shapedefaults\":{\"line\":{\"color\":\"#2a3f5f\"}},\"annotationdefaults\":{\"arrowcolor\":\"#2a3f5f\",\"arrowhead\":0,\"arrowwidth\":1},\"geo\":{\"bgcolor\":\"white\",\"landcolor\":\"#E5ECF6\",\"subunitcolor\":\"white\",\"showland\":true,\"showlakes\":true,\"lakecolor\":\"white\"},\"title\":{\"x\":0.05},\"mapbox\":{\"style\":\"light\"}}},\"xaxis\":{\"anchor\":\"y\",\"domain\":[0.0,1.0],\"title\":{\"text\":\"ratings\"}},\"yaxis\":{\"anchor\":\"x\",\"domain\":[0.0,1.0],\"title\":{\"text\":\"count\"}},\"legend\":{\"tracegroupgap\":0},\"margin\":{\"t\":60},\"barmode\":\"relative\",\"title\":{\"text\":\"Hotel Ratings Distribution\"}},                        {\"responsive\": true}                    ).then(function(){\n",
       "                            \n",
       "var gd = document.getElementById('af89f3f8-fac7-4528-81e6-249bcf403533');\n",
       "var x = new MutationObserver(function (mutations, observer) {{\n",
       "        var display = window.getComputedStyle(gd).display;\n",
       "        if (!display || display === 'none') {{\n",
       "            console.log([gd, 'removed!']);\n",
       "            Plotly.purge(gd);\n",
       "            observer.disconnect();\n",
       "        }}\n",
       "}});\n",
       "\n",
       "// Listen for the removal of the full notebook cells\n",
       "var notebookContainer = gd.closest('#notebook-container');\n",
       "if (notebookContainer) {{\n",
       "    x.observe(notebookContainer, {childList: true});\n",
       "}}\n",
       "\n",
       "// Listen for the clearing of the current output cell\n",
       "var outputEl = gd.closest('.output');\n",
       "if (outputEl) {{\n",
       "    x.observe(outputEl, {childList: true});\n",
       "}}\n",
       "\n",
       "                        })                };                });            </script>        </div>"
      ]
     },
     "metadata": {},
     "output_type": "display_data"
    }
   ],
   "source": [
    "color = sns.color_palette()\n",
    "%matplotlib inline\n",
    "\n",
    "\n",
    "fig = px.histogram(hotels_df, x=\"ratings\")\n",
    "fig.update_traces(marker_color=\"pink\",marker_line_color='orchid',\n",
    "                  marker_line_width=1.5)\n",
    "fig.update_layout(title_text='Hotel Ratings Distribution')\n",
    "fig.show()"
   ]
  },
  {
   "attachments": {},
   "cell_type": "markdown",
   "metadata": {},
   "source": [
    "There are less hotels with a ratings score of less than 3. Majority of hotel guests that have written a review have a positive experience. "
   ]
  },
  {
   "attachments": {},
   "cell_type": "markdown",
   "metadata": {},
   "source": [
    "## Data Cleaning & Processing"
   ]
  },
  {
   "attachments": {},
   "cell_type": "markdown",
   "metadata": {},
   "source": [
    "Functions for text cleaning & Tokenization:"
   ]
  },
  {
   "cell_type": "code",
   "execution_count": 20,
   "metadata": {},
   "outputs": [],
   "source": [
    "import nltk\n",
    "import random\n",
    "from collections import Counter, defaultdict\n",
    "from string import punctuation\n",
    "from nltk.corpus import stopwords\n",
    "from nltk.metrics import ConfusionMatrix\n"
   ]
  },
  {
   "cell_type": "code",
   "execution_count": 22,
   "metadata": {},
   "outputs": [],
   "source": [
    "#punctuation\n",
    "punctuation = set(punctuation) \n",
    "tw_punct = punctuation - {\"#\"}\n",
    "\n",
    "#stopwords and null removal\n",
    "\n",
    "sw = stopwords.words(\"english\")\n",
    "sw = sw + ['nan']\n",
    "\n",
    "# Two useful regex\n",
    "whitespace_pattern = re.compile(r\"\\s+\")\n",
    "hashtag_pattern = re.compile(r\"^#[0-9a-zA-Z]+\")\n",
    "\n",
    "\n",
    "# and now our functions\n",
    "def descriptive_stats(tokens, num_tokens = 5, verbose=True) :\n",
    "    \"\"\"\n",
    "        Given a list of tokens, print number of tokens, number of unique tokens, \n",
    "        number of characters, lexical diversity, and num_tokens most common\n",
    "        tokens. Return a list of \n",
    "    \"\"\"\n",
    "\n",
    "    num_tokens = len(tokens)\n",
    "    num_unique_tokens = len(set(tokens))\n",
    "    lexical_diversity = num_unique_tokens/num_tokens\n",
    "    num_characters = sum(len(token) for token in tokens)\n",
    "    \n",
    "    if verbose :        \n",
    "        print(f\"There are {num_tokens} tokens in the data.\")\n",
    "        print(f\"There are {num_unique_tokens} unique tokens in the data.\")\n",
    "        print(f\"There are {num_characters} characters in the data.\")\n",
    "        print(f\"The lexical diversity is {lexical_diversity:.3f} in the data.\")\n",
    "    \n",
    "        \n",
    "    return([num_tokens, num_unique_tokens,\n",
    "            lexical_diversity,\n",
    "            num_characters])    \n",
    "\n",
    "# Function to remove stop words:\n",
    "\n",
    "def remove_stop(tokens) :\n",
    "    \n",
    "\n",
    "    return[t for t in tokens if t not in sw]\n",
    " \n",
    "def remove_punctuation(text, punct_set=tw_punct) : \n",
    "    return(\"\".join([ch for ch in text if ch not in punct_set]))\n",
    "\n",
    "def tokenize(text) : \n",
    "    \"\"\" Splitting on whitespace rather than the book's tokenize function. That \n",
    "        function will drop tokens like '#hashtag' or '2A', which we need for Twitter. \"\"\"\n",
    "    \n",
    "    return([item.lower() for item in whitespace_pattern.split(text)])\n",
    "    \n",
    "\n",
    "full_pipeline = [str.lower, remove_punctuation, tokenize, remove_stop]\n",
    "\n",
    "\n",
    "def prepare(text, pipeline) : \n",
    "    tokens = str(text)\n",
    "    \n",
    "    for transform in pipeline : \n",
    "        tokens = transform(tokens)\n",
    "        \n",
    "    return(tokens)"
   ]
  },
  {
   "attachments": {},
   "cell_type": "markdown",
   "metadata": {},
   "source": [
    "Cleaning & tokenizing the text data:"
   ]
  },
  {
   "cell_type": "code",
   "execution_count": 25,
   "metadata": {},
   "outputs": [
    {
     "data": {
      "text/html": [
       "<div>\n",
       "<style scoped>\n",
       "    .dataframe tbody tr th:only-of-type {\n",
       "        vertical-align: middle;\n",
       "    }\n",
       "\n",
       "    .dataframe tbody tr th {\n",
       "        vertical-align: top;\n",
       "    }\n",
       "\n",
       "    .dataframe thead th {\n",
       "        text-align: right;\n",
       "    }\n",
       "</style>\n",
       "<table border=\"1\" class=\"dataframe\">\n",
       "  <thead>\n",
       "    <tr style=\"text-align: right;\">\n",
       "      <th></th>\n",
       "      <th>names</th>\n",
       "      <th>num_reviews</th>\n",
       "      <th>ratings</th>\n",
       "      <th>reviews</th>\n",
       "      <th>tokens</th>\n",
       "    </tr>\n",
       "  </thead>\n",
       "  <tbody>\n",
       "    <tr>\n",
       "      <th>0</th>\n",
       "      <td>Bahia Resort Hotel</td>\n",
       "      <td>6358</td>\n",
       "      <td>4.5</td>\n",
       "      <td>[Karina, Ben, and Tim exceeded all expectation...</td>\n",
       "      <td>[karina, ben, tim, exceeded, expectations, fri...</td>\n",
       "    </tr>\n",
       "    <tr>\n",
       "      <th>1</th>\n",
       "      <td>Manchester Grand Hyatt San Diego</td>\n",
       "      <td>12628</td>\n",
       "      <td>4.5</td>\n",
       "      <td>[I enjoyed a wonderful stay at the hotel. With...</td>\n",
       "      <td>[enjoyed, wonderful, stay, hotel, attention, d...</td>\n",
       "    </tr>\n",
       "    <tr>\n",
       "      <th>2</th>\n",
       "      <td>Embassy Suites by Hilton San Diego Bay Downtown</td>\n",
       "      <td>3436</td>\n",
       "      <td>4.5</td>\n",
       "      <td>[The staff is super friendly and helpful, espe...</td>\n",
       "      <td>[staff, super, friendly, helpful, especially, ...</td>\n",
       "    </tr>\n",
       "    <tr>\n",
       "      <th>3</th>\n",
       "      <td>San Diego Mission Bay Resort</td>\n",
       "      <td>1354</td>\n",
       "      <td>4.0</td>\n",
       "      <td>[The grounds, facility and views were beautifu...</td>\n",
       "      <td>[grounds, facility, views, beautiful, lush, cl...</td>\n",
       "    </tr>\n",
       "    <tr>\n",
       "      <th>4</th>\n",
       "      <td>Catamaran Resort Hotel and Spa</td>\n",
       "      <td>6745</td>\n",
       "      <td>4.5</td>\n",
       "      <td>[My husband and I were looking forward to stay...</td>\n",
       "      <td>[husband, looking, forward, staying, long, day...</td>\n",
       "    </tr>\n",
       "  </tbody>\n",
       "</table>\n",
       "</div>"
      ],
      "text/plain": [
       "                                             names  num_reviews  ratings  \\\n",
       "0                               Bahia Resort Hotel         6358      4.5   \n",
       "1                 Manchester Grand Hyatt San Diego        12628      4.5   \n",
       "2  Embassy Suites by Hilton San Diego Bay Downtown         3436      4.5   \n",
       "3                     San Diego Mission Bay Resort         1354      4.0   \n",
       "4                   Catamaran Resort Hotel and Spa         6745      4.5   \n",
       "\n",
       "                                             reviews  \\\n",
       "0  [Karina, Ben, and Tim exceeded all expectation...   \n",
       "1  [I enjoyed a wonderful stay at the hotel. With...   \n",
       "2  [The staff is super friendly and helpful, espe...   \n",
       "3  [The grounds, facility and views were beautifu...   \n",
       "4  [My husband and I were looking forward to stay...   \n",
       "\n",
       "                                              tokens  \n",
       "0  [karina, ben, tim, exceeded, expectations, fri...  \n",
       "1  [enjoyed, wonderful, stay, hotel, attention, d...  \n",
       "2  [staff, super, friendly, helpful, especially, ...  \n",
       "3  [grounds, facility, views, beautiful, lush, cl...  \n",
       "4  [husband, looking, forward, staying, long, day...  "
      ]
     },
     "execution_count": 25,
     "metadata": {},
     "output_type": "execute_result"
    }
   ],
   "source": [
    "\n",
    "hotels_df['tokens']= hotels_df['reviews'].apply(prepare, pipeline=full_pipeline)\n",
    "\n",
    "hotels_df.head()"
   ]
  },
  {
   "attachments": {},
   "cell_type": "markdown",
   "metadata": {},
   "source": [
    "Descriptive statistics"
   ]
  }
 ],
 "metadata": {
  "kernelspec": {
   "display_name": "ADSProgram",
   "language": "python",
   "name": "python3"
  },
  "language_info": {
   "codemirror_mode": {
    "name": "ipython",
    "version": 3
   },
   "file_extension": ".py",
   "mimetype": "text/x-python",
   "name": "python",
   "nbconvert_exporter": "python",
   "pygments_lexer": "ipython3",
   "version": "3.9.7"
  },
  "orig_nbformat": 4,
  "vscode": {
   "interpreter": {
    "hash": "7951f347f00c15a6c7244c3e3f597bc8ba51df93b8ab253d0dc61c925351e543"
   }
  }
 },
 "nbformat": 4,
 "nbformat_minor": 2
}
