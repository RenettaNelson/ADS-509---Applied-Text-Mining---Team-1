{
 "cells": [
  {
   "attachments": {},
   "cell_type": "markdown",
   "metadata": {},
   "source": [
    "# Hotel Review Classification\n",
    "\n",
    "### Team 1: Renetta Nelson, Jacqueline Urenda\n",
    "\n",
    "### June 26, 2023"
   ]
  },
  {
   "attachments": {},
   "cell_type": "markdown",
   "metadata": {},
   "source": [
    "## Importing Libraries"
   ]
  },
  {
   "cell_type": "code",
   "execution_count": 2,
   "metadata": {},
   "outputs": [],
   "source": [
    "import pandas as pd\n",
    "import numpy as np\n",
    "from bs4 import BeautifulSoup\n",
    "import requests\n",
    "import csv\n",
    "import time\n",
    "import random\n"
   ]
  },
  {
   "attachments": {},
   "cell_type": "markdown",
   "metadata": {},
   "source": [
    "## Retrieving Data from Website"
   ]
  },
  {
   "cell_type": "code",
   "execution_count": 3,
   "metadata": {},
   "outputs": [],
   "source": [
    "url = ('https://www.tripadvisor.in/Hotels-g60750-San_Diego_California-Hotels.html')\n",
    "\n",
    "user_agent = ({'User-Agent':\n",
    "                'Mozilla/5.0 (Windows NT 10.0; Win64; x64) \\\n",
    "                AppleWebKit/537.36 (KHTML, like Gecko) \\\n",
    "                Chrome/90.0.4430.212 Safari/537.36',\n",
    "                'Accept-Language': 'en-US, en;q=0.5'})\n",
    "\n",
    "page = requests.get(url, headers = user_agent)\n",
    "soup = BeautifulSoup(page.text, 'html.parser')\n",
    "\n",
    "# Find and extract the data elements.\n",
    "hotels = []\n",
    "for name in soup.findAll('div',{'class':'listing_title'}):\n",
    "    hotels.append(name.text.strip())\n",
    "ratings = []\n",
    "for rating in soup.findAll('a',{'class':'ui_bubble_rating'}):\n",
    "    ratings.append(rating['alt'])  \n",
    "reviews = []\n",
    "for review in soup.findAll('a',{'class':'review_count'}):\n",
    "    reviews.append(review.text.strip())\n",
    "prices = []\n",
    "for p in soup.findAll('div',{'class':'price-wrap'}):\n",
    "    prices.append(p.text.replace('₹','').strip())  \n",
    "# Create the dictionary.\n",
    "\n",
    "dict = {'Hotel Names':hotels,'Ratings':ratings,'Number of Reviews':reviews,'Prices':prices}\n",
    "\n"
   ]
  },
  {
   "cell_type": "code",
   "execution_count": 17,
   "metadata": {},
   "outputs": [
    {
     "name": "stdout",
     "output_type": "stream",
     "text": [
      "{'Hotel Names': ['1. Bahia Resort Hotel', '1. Bahia Resort Hotel', '2. Manchester Grand Hyatt San Diego', '2. Manchester Grand Hyatt San Diego', '3. Embassy Suites by Hilton San Diego Bay Downtown', '3. Embassy Suites by Hilton San Diego Bay Downtown', '4. San Diego Mission Bay Resort', '4. San Diego Mission Bay Resort', '5. Paradise Point Resort & Spa', '5. Paradise Point Resort & Spa', '6. Catamaran Resort Hotel and Spa', '6. Catamaran Resort Hotel and Spa', '7. San Diego Marriott La Jolla', '7. San Diego Marriott La Jolla', '8. Best Western Plus Island Palms Hotel & Marina', '8. Best Western Plus Island Palms Hotel & Marina', '9. Old Town Inn', '9. Old Town Inn', '10. Urban Boutique Hotel', '10. Urban Boutique Hotel', '11. Pacific Terrace Hotel', '11. Pacific Terrace Hotel', '12. Pantai Inn', '12. Pantai Inn', '13. Marriott Marquis San Diego Marina', '13. Marriott Marquis San Diego Marina', '14. Kings Inn San Diego', '14. Kings Inn San Diego', '15. Pendry San Diego', '15. Pendry San Diego', '16. Hyatt Regency Mission Bay Spa and Marina', '16. Hyatt Regency Mission Bay Spa and Marina', '17. Hard Rock Hotel San Diego', '17. Hard Rock Hotel San Diego', '18. The Atwood Hotel', '18. The Atwood Hotel', '19. La Jolla Cove Hotel', '19. La Jolla Cove Hotel', '20. Sheraton San Diego Hotel & Marina', '20. Sheraton San Diego Hotel & Marina', '21. Hilton San Diego Bayfront', '21. Hilton San Diego Bayfront', '22. Fairmont Grand Del Mar', '22. Fairmont Grand Del Mar', '23. Town and Country Resort', '23. Town and Country Resort', '24. The Sofia Hotel', '24. The Sofia Hotel', '25. Handlery Hotel San Diego', '25. Handlery Hotel San Diego', '26. Sheraton La Jolla Hotel', '26. Sheraton La Jolla Hotel', '27. California Suites Hotel', '27. California Suites Hotel', '28. La Jolla Shores Hotel', '28. La Jolla Shores Hotel', '29. Hilton Garden Inn San Diego Mission Valley Stadium', '29. Hilton Garden Inn San Diego Mission Valley Stadium', '30. Hilton La Jolla Torrey Pines', '30. Hilton La Jolla Torrey Pines'], 'Ratings': ['4.5 of 5 bubbles', '4.5 of 5 bubbles', '4.5 of 5 bubbles', '4 of 5 bubbles', '4 of 5 bubbles', '4.5 of 5 bubbles', '4.5 of 5 bubbles', '4.5 of 5 bubbles', '4.5 of 5 bubbles', '4.5 of 5 bubbles', '4.5 of 5 bubbles', '5 of 5 bubbles', '4 of 5 bubbles', '4.5 of 5 bubbles', '4.5 of 5 bubbles', '4 of 5 bubbles', '4.5 of 5 bubbles', '4.5 of 5 bubbles', '3.5 of 5 bubbles', '3.5 of 5 bubbles', '4 of 5 bubbles', '5 of 5 bubbles', '4 of 5 bubbles', '4 of 5 bubbles', '3.5 of 5 bubbles', '4 of 5 bubbles', '3 of 5 bubbles', '4 of 5 bubbles', '4 of 5 bubbles', '4 of 5 bubbles'], 'Number of Reviews': ['6,345 reviews', '12,607 reviews', '3,422 reviews', '1,349 reviews', '3,177 reviews', '6,742 reviews', '1,500 reviews', '4,848 reviews', '2,411 reviews', '1,331 reviews', '3,066 reviews', '1,939 reviews', '4,882 reviews', '3,445 reviews', '2,000 reviews', '1,278 reviews', '7,205 reviews', '758 reviews', '1,524 reviews', '4,830 reviews', '6,516 reviews', '2,303 reviews', '245 reviews', '2,146 reviews', '1,489 reviews', '1,781 reviews', '385 reviews', '1,353 reviews', '686 reviews', '2,290 reviews'], 'Prices': []}\n"
     ]
    }
   ],
   "source": [
    "print(dict)"
   ]
  },
  {
   "attachments": {},
   "cell_type": "markdown",
   "metadata": {},
   "source": [
    "Extracting Reviews Text Data:"
   ]
  },
  {
   "cell_type": "code",
   "execution_count": 4,
   "metadata": {},
   "outputs": [],
   "source": [
    "#Extracting review data:\n",
    "\n",
    "html = requests.get(url, headers = user_agent)\n",
    "\n",
    "html.status_code\n",
    "\n",
    "bsobj = BeautifulSoup(html.content, 'html.parser')\n"
   ]
  },
  {
   "cell_type": "code",
   "execution_count": 5,
   "metadata": {},
   "outputs": [
    {
     "name": "stdout",
     "output_type": "stream",
     "text": [
      "https://www.tripadvisor.in/Hotel_Review-g60750-d83361-Reviews-Bahia_Resort_Hotel-San_Diego_California.html#REVIEWS\n",
      "54\n",
      "https://www.tripadvisor.in/Hotel_Review-g60750-d83361-Reviews-or{}-Bahia_Resort_Hotel-San_Diego_California.html#REVIEWS\n",
      "https://www.tripadvisor.in/Hotel_Review-g60750-d80219-Reviews-Manchester_Grand_Hyatt_San_Diego-San_Diego_California.html#REVIEWS\n",
      "54\n",
      "https://www.tripadvisor.in/Hotel_Review-g60750-d80219-Reviews-or{}-Manchester_Grand_Hyatt_San_Diego-San_Diego_California.html#REVIEWS\n",
      "https://www.tripadvisor.in/Hotel_Review-g60750-d80109-Reviews-Embassy_Suites_by_Hilton_San_Diego_Bay_Downtown-San_Diego_California.html#REVIEWS\n",
      "54\n",
      "https://www.tripadvisor.in/Hotel_Review-g60750-d80109-Reviews-or{}-Embassy_Suites_by_Hilton_San_Diego_Bay_Downtown-San_Diego_California.html#REVIEWS\n",
      "https://www.tripadvisor.in/Hotel_Review-g60750-d119721-Reviews-San_Diego_Mission_Bay_Resort-San_Diego_California.html#REVIEWS\n",
      "55\n",
      "https://www.tripadvisor.in/Hotel_Review-g60750-d119721-Reviews-or{}-San_Diego_Mission_Bay_Resort-San_Diego_California.html#REVIEWS\n",
      "https://www.tripadvisor.in/Hotel_Review-g60750-d119728-Reviews-Paradise_Point_Resort_Spa-San_Diego_California.html#REVIEWS\n",
      "55\n",
      "https://www.tripadvisor.in/Hotel_Review-g60750-d119728-Reviews-or{}-Paradise_Point_Resort_Spa-San_Diego_California.html#REVIEWS\n",
      "https://www.tripadvisor.in/Hotel_Review-g60750-d79971-Reviews-Catamaran_Resort_Hotel_and_Spa-San_Diego_California.html#REVIEWS\n",
      "54\n",
      "https://www.tripadvisor.in/Hotel_Review-g60750-d79971-Reviews-or{}-Catamaran_Resort_Hotel_and_Spa-San_Diego_California.html#REVIEWS\n",
      "https://www.tripadvisor.in/Hotel_Review-g32578-d77427-Reviews-San_Diego_Marriott_La_Jolla-La_Jolla_San_Diego_California.html#REVIEWS\n",
      "54\n",
      "https://www.tripadvisor.in/Hotel_Review-g32578-d77427-Reviews-or{}-San_Diego_Marriott_La_Jolla-La_Jolla_San_Diego_California.html#REVIEWS\n",
      "https://www.tripadvisor.in/Hotel_Review-g60750-d79954-Reviews-Best_Western_Plus_Island_Palms_Hotel_Marina-San_Diego_California.html#REVIEWS\n",
      "54\n",
      "https://www.tripadvisor.in/Hotel_Review-g60750-d79954-Reviews-or{}-Best_Western_Plus_Island_Palms_Hotel_Marina-San_Diego_California.html#REVIEWS\n",
      "https://www.tripadvisor.in/Hotel_Review-g60750-d80255-Reviews-Old_Town_Inn-San_Diego_California.html#REVIEWS\n",
      "54\n",
      "https://www.tripadvisor.in/Hotel_Review-g60750-d80255-Reviews-or{}-Old_Town_Inn-San_Diego_California.html#REVIEWS\n",
      "https://www.tripadvisor.in/Hotel_Review-g60750-d5771288-Reviews-Urban_Boutique_Hotel-San_Diego_California.html#REVIEWS\n",
      "56\n",
      "https://www.tripadvisor.in/Hotel_Review-g60750-d5771288-Reviews-or{}-Urban_Boutique_Hotel-San_Diego_California.html#REVIEWS\n",
      "https://www.tripadvisor.in/Hotel_Review-g60750-d112273-Reviews-Pacific_Terrace_Hotel-San_Diego_California.html#REVIEWS\n",
      "55\n",
      "https://www.tripadvisor.in/Hotel_Review-g60750-d112273-Reviews-or{}-Pacific_Terrace_Hotel-San_Diego_California.html#REVIEWS\n",
      "https://www.tripadvisor.in/Hotel_Review-g32578-d2309579-Reviews-Pantai_Inn-La_Jolla_San_Diego_California.html#REVIEWS\n",
      "56\n",
      "https://www.tripadvisor.in/Hotel_Review-g32578-d2309579-Reviews-or{}-Pantai_Inn-La_Jolla_San_Diego_California.html#REVIEWS\n",
      "https://www.tripadvisor.in/Hotel_Review-g60750-d80227-Reviews-Marriott_Marquis_San_Diego_Marina-San_Diego_California.html#REVIEWS\n",
      "54\n",
      "https://www.tripadvisor.in/Hotel_Review-g60750-d80227-Reviews-or{}-Marriott_Marquis_San_Diego_Marina-San_Diego_California.html#REVIEWS\n",
      "https://www.tripadvisor.in/Hotel_Review-g60750-d80223-Reviews-Kings_Inn_San_Diego-San_Diego_California.html#REVIEWS\n",
      "54\n",
      "https://www.tripadvisor.in/Hotel_Review-g60750-d80223-Reviews-or{}-Kings_Inn_San_Diego-San_Diego_California.html#REVIEWS\n",
      "https://www.tripadvisor.in/Hotel_Review-g60750-d10844211-Reviews-Pendry_San_Diego-San_Diego_California.html#REVIEWS\n",
      "57\n",
      "https://www.tripadvisor.in/Hotel_Review-g60750-d10844211-Reviews-or{}-Pendry_San_Diego-San_Diego_California.html#REVIEWS\n",
      "https://www.tripadvisor.in/Hotel_Review-g60750-d80193-Reviews-Hyatt_Regency_Mission_Bay_Spa_and_Marina-San_Diego_California.html#REVIEWS\n",
      "54\n",
      "https://www.tripadvisor.in/Hotel_Review-g60750-d80193-Reviews-or{}-Hyatt_Regency_Mission_Bay_Spa_and_Marina-San_Diego_California.html#REVIEWS\n",
      "https://www.tripadvisor.in/Hotel_Review-g60750-d665258-Reviews-Hard_Rock_Hotel_San_Diego-San_Diego_California.html#REVIEWS\n",
      "55\n",
      "https://www.tripadvisor.in/Hotel_Review-g60750-d665258-Reviews-or{}-Hard_Rock_Hotel_San_Diego-San_Diego_California.html#REVIEWS\n",
      "https://www.tripadvisor.in/Hotel_Review-g60750-d10124699-Reviews-The_Atwood_Hotel-San_Diego_California.html#REVIEWS\n",
      "57\n",
      "https://www.tripadvisor.in/Hotel_Review-g60750-d10124699-Reviews-or{}-The_Atwood_Hotel-San_Diego_California.html#REVIEWS\n",
      "https://www.tripadvisor.in/Hotel_Review-g32578-d77391-Reviews-La_Jolla_Cove_Hotel-La_Jolla_San_Diego_California.html#REVIEWS\n",
      "54\n",
      "https://www.tripadvisor.in/Hotel_Review-g32578-d77391-Reviews-or{}-La_Jolla_Cove_Hotel-La_Jolla_San_Diego_California.html#REVIEWS\n",
      "https://www.tripadvisor.in/Hotel_Review-g60750-d80562-Reviews-Sheraton_San_Diego_Hotel_Marina-San_Diego_California.html#REVIEWS\n",
      "54\n",
      "https://www.tripadvisor.in/Hotel_Review-g60750-d80562-Reviews-or{}-Sheraton_San_Diego_Hotel_Marina-San_Diego_California.html#REVIEWS\n",
      "https://www.tripadvisor.in/Hotel_Review-g60750-d1011240-Reviews-Hilton_San_Diego_Bayfront-San_Diego_California.html#REVIEWS\n",
      "56\n",
      "https://www.tripadvisor.in/Hotel_Review-g60750-d1011240-Reviews-or{}-Hilton_San_Diego_Bayfront-San_Diego_California.html#REVIEWS\n",
      "https://www.tripadvisor.in/Hotel_Review-g60750-d781627-Reviews-Fairmont_Grand_Del_Mar-San_Diego_California.html#REVIEWS\n",
      "55\n",
      "https://www.tripadvisor.in/Hotel_Review-g60750-d781627-Reviews-or{}-Fairmont_Grand_Del_Mar-San_Diego_California.html#REVIEWS\n",
      "https://www.tripadvisor.in/Hotel_Review-g60750-d80602-Reviews-Town_and_Country_Resort-San_Diego_California.html#REVIEWS\n",
      "54\n",
      "https://www.tripadvisor.in/Hotel_Review-g60750-d80602-Reviews-or{}-Town_and_Country_Resort-San_Diego_California.html#REVIEWS\n",
      "https://www.tripadvisor.in/Hotel_Review-g60750-d628619-Reviews-The_Sofia_Hotel-San_Diego_California.html#REVIEWS\n",
      "55\n",
      "https://www.tripadvisor.in/Hotel_Review-g60750-d628619-Reviews-or{}-The_Sofia_Hotel-San_Diego_California.html#REVIEWS\n",
      "https://www.tripadvisor.in/Hotel_Review-g60750-d80133-Reviews-Handlery_Hotel_San_Diego-San_Diego_California.html#REVIEWS\n",
      "54\n",
      "https://www.tripadvisor.in/Hotel_Review-g60750-d80133-Reviews-or{}-Handlery_Hotel_San_Diego-San_Diego_California.html#REVIEWS\n",
      "https://www.tripadvisor.in/Hotel_Review-g32578-d119719-Reviews-Sheraton_La_Jolla_Hotel-La_Jolla_San_Diego_California.html#REVIEWS\n",
      "55\n",
      "https://www.tripadvisor.in/Hotel_Review-g32578-d119719-Reviews-or{}-Sheraton_La_Jolla_Hotel-La_Jolla_San_Diego_California.html#REVIEWS\n",
      "https://www.tripadvisor.in/Hotel_Review-g60750-d79880-Reviews-California_Suites_Hotel-San_Diego_California.html#REVIEWS\n",
      "54\n",
      "https://www.tripadvisor.in/Hotel_Review-g60750-d79880-Reviews-or{}-California_Suites_Hotel-San_Diego_California.html#REVIEWS\n",
      "https://www.tripadvisor.in/Hotel_Review-g32578-d217262-Reviews-La_Jolla_Shores_Hotel-La_Jolla_San_Diego_California.html#REVIEWS\n",
      "55\n",
      "https://www.tripadvisor.in/Hotel_Review-g32578-d217262-Reviews-or{}-La_Jolla_Shores_Hotel-La_Jolla_San_Diego_California.html#REVIEWS\n",
      "https://www.tripadvisor.in/Hotel_Review-g60750-d80154-Reviews-Hilton_Garden_Inn_San_Diego_Mission_Valley_Stadium-San_Diego_California.html#REVIEWS\n",
      "54\n",
      "https://www.tripadvisor.in/Hotel_Review-g60750-d80154-Reviews-or{}-Hilton_Garden_Inn_San_Diego_Mission_Valley_Stadium-San_Diego_California.html#REVIEWS\n",
      "https://www.tripadvisor.in/Hotel_Review-g32578-d218747-Reviews-Hilton_La_Jolla_Torrey_Pines-La_Jolla_San_Diego_California.html#REVIEWS\n",
      "55\n",
      "https://www.tripadvisor.in/Hotel_Review-g32578-d218747-Reviews-or{}-Hilton_La_Jolla_Torrey_Pines-La_Jolla_San_Diego_California.html#REVIEWS\n"
     ]
    }
   ],
   "source": [
    "links = []\n",
    "for review in bsobj.findAll('a',{'class': 'review_count'}):\n",
    "    a = review['href']\n",
    "    a = 'https://www.tripadvisor.in'+ a\n",
    "\n",
    "    print(a)\n",
    "\n",
    "    print(a.find('Reviews'))\n",
    "    a= a[:(a.find('Reviews')+7)] + '-or{}' + a[(a.find('Reviews')+7):]\n",
    "    print(a)\n",
    "\n",
    "    links.append(a)\n",
    "\n",
    "    links"
   ]
  },
  {
   "cell_type": "code",
   "execution_count": 9,
   "metadata": {},
   "outputs": [
    {
     "data": {
      "text/plain": [
       "[]"
      ]
     },
     "execution_count": 9,
     "metadata": {},
     "output_type": "execute_result"
    }
   ],
   "source": [
    "from random import randint\n",
    "from time import sleep\n",
    "\n",
    "reviews = []\n",
    "\n",
    "for link in links:\n",
    "    d=[5,10,15,20,25]\n",
    "    html2 = requests.get(link.format(i for i in d), headers= user_agent)\n",
    "    sleep(randint(1,5))\n",
    "    bsobj2 = BeautifulSoup(html2.content, 'html.parser')\n",
    "    for r in bsobj2.findAll('q'):\n",
    "        reviews.append(r.span.text.strip())\n",
    "        print(r.span.text.strip())\n",
    "reviews"
   ]
  },
  {
   "cell_type": "code",
   "execution_count": null,
   "metadata": {},
   "outputs": [],
   "source": [
    "reviews_df = pd.DataFrame(reviews, columns=['review_text'])\n",
    "\n",
    "reviews_df.head(10)"
   ]
  },
  {
   "attachments": {},
   "cell_type": "markdown",
   "metadata": {},
   "source": [
    "## Extracting the Data"
   ]
  },
  {
   "cell_type": "code",
   "execution_count": 3,
   "metadata": {},
   "outputs": [
    {
     "ename": "AttributeError",
     "evalue": "'str' object has no attribute 'descendants'",
     "output_type": "error",
     "traceback": [
      "\u001b[1;31m---------------------------------------------------------------------------\u001b[0m",
      "\u001b[1;31mAttributeError\u001b[0m                            Traceback (most recent call last)",
      "Cell \u001b[1;32mIn[3], line 12\u001b[0m\n\u001b[0;32m      8\u001b[0m \u001b[39m# Hotel Data\u001b[39;00m\n\u001b[0;32m     10\u001b[0m h_content \u001b[39m=\u001b[39m BeautifulSoup(hotels, \u001b[39m'\u001b[39m\u001b[39mhtml.parser\u001b[39m\u001b[39m'\u001b[39m)\n\u001b[1;32m---> 12\u001b[0m \u001b[39mfor\u001b[39;00m hotel_name \u001b[39min\u001b[39;00m BeautifulSoup\u001b[39m.\u001b[39;49mfind_all(\u001b[39m'\u001b[39;49m\u001b[39mdiv\u001b[39;49m\u001b[39m'\u001b[39;49m, {\u001b[39m'\u001b[39;49m\u001b[39mclass\u001b[39;49m\u001b[39m'\u001b[39;49m: \u001b[39m'\u001b[39;49m\u001b[39mlisting_title\u001b[39;49m\u001b[39m'\u001b[39;49m}):\n\u001b[0;32m     13\u001b[0m     hotel_names\u001b[39m.\u001b[39mappend(hotel_name\u001b[39m.\u001b[39mtext\u001b[39m.\u001b[39mstrip())\n\u001b[0;32m     15\u001b[0m \u001b[39mfor\u001b[39;00m hotel_rating \u001b[39min\u001b[39;00m BeautifulSoup\u001b[39m.\u001b[39mfind_all(\u001b[39m'\u001b[39m\u001b[39ma\u001b[39m\u001b[39m'\u001b[39m, {\u001b[39m'\u001b[39m\u001b[39mclass\u001b[39m\u001b[39m'\u001b[39m: \u001b[39m'\u001b[39m\u001b[39mui_bubble_raing\u001b[39m\u001b[39m'\u001b[39m}):\n",
      "File \u001b[1;32mc:\\Users\\nelso\\AppData\\Local\\Programs\\Python\\Python38\\lib\\site-packages\\bs4\\element.py:1906\u001b[0m, in \u001b[0;36mTag.find_all\u001b[1;34m(self, name, attrs, recursive, string, limit, **kwargs)\u001b[0m\n\u001b[0;32m   1888\u001b[0m \u001b[39mdef\u001b[39;00m \u001b[39mfind_all\u001b[39m(\u001b[39mself\u001b[39m, name\u001b[39m=\u001b[39m\u001b[39mNone\u001b[39;00m, attrs\u001b[39m=\u001b[39m{}, recursive\u001b[39m=\u001b[39m\u001b[39mTrue\u001b[39;00m, string\u001b[39m=\u001b[39m\u001b[39mNone\u001b[39;00m,\n\u001b[0;32m   1889\u001b[0m              limit\u001b[39m=\u001b[39m\u001b[39mNone\u001b[39;00m, \u001b[39m*\u001b[39m\u001b[39m*\u001b[39mkwargs):\n\u001b[0;32m   1890\u001b[0m \u001b[39m    \u001b[39m\u001b[39m\"\"\"Look in the children of this PageElement and find all\u001b[39;00m\n\u001b[0;32m   1891\u001b[0m \u001b[39m    PageElements that match the given criteria.\u001b[39;00m\n\u001b[0;32m   1892\u001b[0m \n\u001b[1;32m   (...)\u001b[0m\n\u001b[0;32m   1904\u001b[0m \u001b[39m    :rtype: bs4.element.ResultSet\u001b[39;00m\n\u001b[0;32m   1905\u001b[0m \u001b[39m    \"\"\"\u001b[39;00m\n\u001b[1;32m-> 1906\u001b[0m     generator \u001b[39m=\u001b[39m \u001b[39mself\u001b[39;49m\u001b[39m.\u001b[39;49mdescendants\n\u001b[0;32m   1907\u001b[0m     \u001b[39mif\u001b[39;00m \u001b[39mnot\u001b[39;00m recursive:\n\u001b[0;32m   1908\u001b[0m         generator \u001b[39m=\u001b[39m \u001b[39mself\u001b[39m\u001b[39m.\u001b[39mchildren\n",
      "\u001b[1;31mAttributeError\u001b[0m: 'str' object has no attribute 'descendants'"
     ]
    }
   ],
   "source": [
    "# Initialize lists\n",
    "\n",
    "hotel_names = []\n",
    "hotel_ratings = []\n",
    "hotel_reviews = []\n",
    "hotel_prices = []\n",
    "\n",
    "# Hotel Data\n",
    "\n",
    "h_content = BeautifulSoup(hotels, 'html.parser')\n",
    "\n",
    "for hotel_name in BeautifulSoup.find_all('div', {'class': 'listing_title'}):\n",
    "    hotel_names.append(hotel_name.text)\n",
    "\n",
    "for hotel_rating in BeautifulSoup.find_all('a', {'class': 'ui_bubble_raing'}):\n",
    "    hotel_ratings.append(hotel_rating['alt'])\n",
    "\n",
    "for hotel_review in BeautifulSoup.find_all('a', {'class': 'review_count'}):\n",
    "    hotel_reviews.append(hotel_review.text)\n",
    "\n",
    "for hotel_price in BeautifulSoup.find_all('div', {'class': 'price-wrap'}):\n",
    "    hotel_prices.append(hotel_price.text)\n"
   ]
  },
  {
   "attachments": {},
   "cell_type": "markdown",
   "metadata": {},
   "source": [
    "## Loading Data "
   ]
  },
  {
   "cell_type": "code",
   "execution_count": null,
   "metadata": {},
   "outputs": [],
   "source": [
    "\n",
    "hotels_df = pd.DataFrame()\n",
    "\n",
    "# Load data into dataframe\n",
    "\n",
    "hotels_df[\"name\"] = hotel_names\n",
    "hotels_df[\"review_amt\"] = hotel_reviews\n",
    "hotels_df[\"ratings\"] = hotel_ratings\n",
    "hotels_df[\"costs\"] = hotel_prices\n",
    "\n",
    "hotels_df.head(20)\n"
   ]
  },
  {
   "attachments": {},
   "cell_type": "markdown",
   "metadata": {},
   "source": [
    "## Data Preparation"
   ]
  },
  {
   "cell_type": "code",
   "execution_count": null,
   "metadata": {},
   "outputs": [],
   "source": []
  },
  {
   "attachments": {},
   "cell_type": "markdown",
   "metadata": {},
   "source": []
  },
  {
   "cell_type": "code",
   "execution_count": null,
   "metadata": {},
   "outputs": [],
   "source": []
  },
  {
   "attachments": {},
   "cell_type": "markdown",
   "metadata": {},
   "source": []
  },
  {
   "cell_type": "code",
   "execution_count": null,
   "metadata": {},
   "outputs": [],
   "source": []
  }
 ],
 "metadata": {
  "kernelspec": {
   "display_name": "ADSProgram",
   "language": "python",
   "name": "python3"
  },
  "language_info": {
   "codemirror_mode": {
    "name": "ipython",
    "version": 3
   },
   "file_extension": ".py",
   "mimetype": "text/x-python",
   "name": "python",
   "nbconvert_exporter": "python",
   "pygments_lexer": "ipython3",
   "version": "3.9.7"
  },
  "orig_nbformat": 4,
  "vscode": {
   "interpreter": {
    "hash": "7951f347f00c15a6c7244c3e3f597bc8ba51df93b8ab253d0dc61c925351e543"
   }
  }
 },
 "nbformat": 4,
 "nbformat_minor": 2
}
