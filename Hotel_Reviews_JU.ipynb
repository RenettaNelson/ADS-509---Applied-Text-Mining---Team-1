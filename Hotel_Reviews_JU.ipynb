{
 "cells": [
  {
   "attachments": {},
   "cell_type": "markdown",
   "metadata": {},
   "source": [
    "# Hotel Review Classification\n",
    "\n",
    "### Team 1: Renetta Nelson, Jacqueline Urenda\n",
    "\n",
    "### June 26, 2023"
   ]
  },
  {
   "attachments": {},
   "cell_type": "markdown",
   "metadata": {},
   "source": [
    "## Importing Libraries"
   ]
  },
  {
   "cell_type": "code",
   "execution_count": 1,
   "metadata": {},
   "outputs": [],
   "source": [
    "import pandas as pd\n",
    "import numpy as np\n",
    "from bs4 import BeautifulSoup\n",
    "import requests\n",
    "import csv\n",
    "import time\n",
    "import random\n"
   ]
  },
  {
   "attachments": {},
   "cell_type": "markdown",
   "metadata": {},
   "source": [
    "## Retrieving Data from Website"
   ]
  },
  {
   "cell_type": "code",
   "execution_count": 22,
   "metadata": {},
   "outputs": [],
   "source": [
    "url = ('https://www.tripadvisor.in/Hotels-g60750-San_Diego_California-Hotels.html')\n",
    "\n",
    "user_agent = ({'User-Agent':\n",
    "                'Mozilla/5.0 (Windows NT 10.0; Win64; x64) \\\n",
    "                AppleWebKit/537.36 (KHTML, like Gecko) \\\n",
    "                Chrome/90.0.4430.212 Safari/537.36',\n",
    "                'Accept-Language': 'en-US, en;q=0.5'})\n",
    "\n",
    "page = requests.get(url, headers = user_agent)\n",
    "soup = BeautifulSoup(page.text, 'html.parser')\n",
    "\n",
    "# Find and extract the data elements.\n",
    "hotels = []\n",
    "for name in soup.findAll('div',{'class':'listing_title'}):\n",
    "    hotels.append(name.text.strip())\n",
    "ratings = []\n",
    "for rating in soup.findAll('a',{'class':'ui_bubble_rating'}):\n",
    "    ratings.append(rating['alt'])  \n",
    "reviews = []\n",
    "for review in soup.findAll('a',{'class':'review_count'}):\n",
    "    reviews.append(review.text.strip())\n",
    "prices = []\n",
    "for p in soup.findAll('div',{'class':'price-wrap'}):\n",
    "    prices.append(p.text.replace('₹','').strip())  \n",
    "# Create the dictionary.\n",
    "\n",
    "dict = {'Hotel Names':hotels,'Ratings':ratings,'Number of Reviews':reviews,'Prices':prices}\n",
    "\n"
   ]
  },
  {
   "cell_type": "code",
   "execution_count": 17,
   "metadata": {},
   "outputs": [
    {
     "name": "stdout",
     "output_type": "stream",
     "text": [
      "{'Hotel Names': ['1. Bahia Resort Hotel', '1. Bahia Resort Hotel', '2. Manchester Grand Hyatt San Diego', '2. Manchester Grand Hyatt San Diego', '3. Embassy Suites by Hilton San Diego Bay Downtown', '3. Embassy Suites by Hilton San Diego Bay Downtown', '4. San Diego Mission Bay Resort', '4. San Diego Mission Bay Resort', '5. Paradise Point Resort & Spa', '5. Paradise Point Resort & Spa', '6. Catamaran Resort Hotel and Spa', '6. Catamaran Resort Hotel and Spa', '7. San Diego Marriott La Jolla', '7. San Diego Marriott La Jolla', '8. Best Western Plus Island Palms Hotel & Marina', '8. Best Western Plus Island Palms Hotel & Marina', '9. Old Town Inn', '9. Old Town Inn', '10. Urban Boutique Hotel', '10. Urban Boutique Hotel', '11. Pacific Terrace Hotel', '11. Pacific Terrace Hotel', '12. Pantai Inn', '12. Pantai Inn', '13. Marriott Marquis San Diego Marina', '13. Marriott Marquis San Diego Marina', '14. Kings Inn San Diego', '14. Kings Inn San Diego', '15. Pendry San Diego', '15. Pendry San Diego', '16. Hyatt Regency Mission Bay Spa and Marina', '16. Hyatt Regency Mission Bay Spa and Marina', '17. Hard Rock Hotel San Diego', '17. Hard Rock Hotel San Diego', '18. The Atwood Hotel', '18. The Atwood Hotel', '19. La Jolla Cove Hotel', '19. La Jolla Cove Hotel', '20. Sheraton San Diego Hotel & Marina', '20. Sheraton San Diego Hotel & Marina', '21. Hilton San Diego Bayfront', '21. Hilton San Diego Bayfront', '22. Fairmont Grand Del Mar', '22. Fairmont Grand Del Mar', '23. Town and Country Resort', '23. Town and Country Resort', '24. The Sofia Hotel', '24. The Sofia Hotel', '25. Handlery Hotel San Diego', '25. Handlery Hotel San Diego', '26. Sheraton La Jolla Hotel', '26. Sheraton La Jolla Hotel', '27. California Suites Hotel', '27. California Suites Hotel', '28. La Jolla Shores Hotel', '28. La Jolla Shores Hotel', '29. Hilton Garden Inn San Diego Mission Valley Stadium', '29. Hilton Garden Inn San Diego Mission Valley Stadium', '30. Hilton La Jolla Torrey Pines', '30. Hilton La Jolla Torrey Pines'], 'Ratings': ['4.5 of 5 bubbles', '4.5 of 5 bubbles', '4.5 of 5 bubbles', '4 of 5 bubbles', '4 of 5 bubbles', '4.5 of 5 bubbles', '4.5 of 5 bubbles', '4.5 of 5 bubbles', '4.5 of 5 bubbles', '4.5 of 5 bubbles', '4.5 of 5 bubbles', '5 of 5 bubbles', '4 of 5 bubbles', '4.5 of 5 bubbles', '4.5 of 5 bubbles', '4 of 5 bubbles', '4.5 of 5 bubbles', '4.5 of 5 bubbles', '3.5 of 5 bubbles', '3.5 of 5 bubbles', '4 of 5 bubbles', '5 of 5 bubbles', '4 of 5 bubbles', '4 of 5 bubbles', '3.5 of 5 bubbles', '4 of 5 bubbles', '3 of 5 bubbles', '4 of 5 bubbles', '4 of 5 bubbles', '4 of 5 bubbles'], 'Number of Reviews': ['6,345 reviews', '12,607 reviews', '3,422 reviews', '1,349 reviews', '3,177 reviews', '6,742 reviews', '1,500 reviews', '4,848 reviews', '2,411 reviews', '1,331 reviews', '3,066 reviews', '1,939 reviews', '4,882 reviews', '3,445 reviews', '2,000 reviews', '1,278 reviews', '7,205 reviews', '758 reviews', '1,524 reviews', '4,830 reviews', '6,516 reviews', '2,303 reviews', '245 reviews', '2,146 reviews', '1,489 reviews', '1,781 reviews', '385 reviews', '1,353 reviews', '686 reviews', '2,290 reviews'], 'Prices': []}\n"
     ]
    }
   ],
   "source": [
    "print(dict)"
   ]
  },
  {
   "attachments": {},
   "cell_type": "markdown",
   "metadata": {},
   "source": [
    "## Extracting the Data"
   ]
  },
  {
   "cell_type": "code",
   "execution_count": 3,
   "metadata": {},
   "outputs": [
    {
     "ename": "AttributeError",
     "evalue": "'str' object has no attribute 'descendants'",
     "output_type": "error",
     "traceback": [
      "\u001b[1;31m---------------------------------------------------------------------------\u001b[0m",
      "\u001b[1;31mAttributeError\u001b[0m                            Traceback (most recent call last)",
      "Cell \u001b[1;32mIn[3], line 12\u001b[0m\n\u001b[0;32m      8\u001b[0m \u001b[39m# Hotel Data\u001b[39;00m\n\u001b[0;32m     10\u001b[0m h_content \u001b[39m=\u001b[39m BeautifulSoup(hotels, \u001b[39m'\u001b[39m\u001b[39mhtml.parser\u001b[39m\u001b[39m'\u001b[39m)\n\u001b[1;32m---> 12\u001b[0m \u001b[39mfor\u001b[39;00m hotel_name \u001b[39min\u001b[39;00m BeautifulSoup\u001b[39m.\u001b[39;49mfind_all(\u001b[39m'\u001b[39;49m\u001b[39mdiv\u001b[39;49m\u001b[39m'\u001b[39;49m, {\u001b[39m'\u001b[39;49m\u001b[39mclass\u001b[39;49m\u001b[39m'\u001b[39;49m: \u001b[39m'\u001b[39;49m\u001b[39mlisting_title\u001b[39;49m\u001b[39m'\u001b[39;49m}):\n\u001b[0;32m     13\u001b[0m     hotel_names\u001b[39m.\u001b[39mappend(hotel_name\u001b[39m.\u001b[39mtext\u001b[39m.\u001b[39mstrip())\n\u001b[0;32m     15\u001b[0m \u001b[39mfor\u001b[39;00m hotel_rating \u001b[39min\u001b[39;00m BeautifulSoup\u001b[39m.\u001b[39mfind_all(\u001b[39m'\u001b[39m\u001b[39ma\u001b[39m\u001b[39m'\u001b[39m, {\u001b[39m'\u001b[39m\u001b[39mclass\u001b[39m\u001b[39m'\u001b[39m: \u001b[39m'\u001b[39m\u001b[39mui_bubble_raing\u001b[39m\u001b[39m'\u001b[39m}):\n",
      "File \u001b[1;32mc:\\Users\\nelso\\AppData\\Local\\Programs\\Python\\Python38\\lib\\site-packages\\bs4\\element.py:1906\u001b[0m, in \u001b[0;36mTag.find_all\u001b[1;34m(self, name, attrs, recursive, string, limit, **kwargs)\u001b[0m\n\u001b[0;32m   1888\u001b[0m \u001b[39mdef\u001b[39;00m \u001b[39mfind_all\u001b[39m(\u001b[39mself\u001b[39m, name\u001b[39m=\u001b[39m\u001b[39mNone\u001b[39;00m, attrs\u001b[39m=\u001b[39m{}, recursive\u001b[39m=\u001b[39m\u001b[39mTrue\u001b[39;00m, string\u001b[39m=\u001b[39m\u001b[39mNone\u001b[39;00m,\n\u001b[0;32m   1889\u001b[0m              limit\u001b[39m=\u001b[39m\u001b[39mNone\u001b[39;00m, \u001b[39m*\u001b[39m\u001b[39m*\u001b[39mkwargs):\n\u001b[0;32m   1890\u001b[0m \u001b[39m    \u001b[39m\u001b[39m\"\"\"Look in the children of this PageElement and find all\u001b[39;00m\n\u001b[0;32m   1891\u001b[0m \u001b[39m    PageElements that match the given criteria.\u001b[39;00m\n\u001b[0;32m   1892\u001b[0m \n\u001b[1;32m   (...)\u001b[0m\n\u001b[0;32m   1904\u001b[0m \u001b[39m    :rtype: bs4.element.ResultSet\u001b[39;00m\n\u001b[0;32m   1905\u001b[0m \u001b[39m    \"\"\"\u001b[39;00m\n\u001b[1;32m-> 1906\u001b[0m     generator \u001b[39m=\u001b[39m \u001b[39mself\u001b[39;49m\u001b[39m.\u001b[39;49mdescendants\n\u001b[0;32m   1907\u001b[0m     \u001b[39mif\u001b[39;00m \u001b[39mnot\u001b[39;00m recursive:\n\u001b[0;32m   1908\u001b[0m         generator \u001b[39m=\u001b[39m \u001b[39mself\u001b[39m\u001b[39m.\u001b[39mchildren\n",
      "\u001b[1;31mAttributeError\u001b[0m: 'str' object has no attribute 'descendants'"
     ]
    }
   ],
   "source": [
    "# Initialize lists\n",
    "\n",
    "hotel_names = []\n",
    "hotel_ratings = []\n",
    "hotel_reviews = []\n",
    "hotel_prices = []\n",
    "\n",
    "# Hotel Data\n",
    "\n",
    "h_content = BeautifulSoup(hotels, 'html.parser')\n",
    "\n",
    "for hotel_name in BeautifulSoup.find_all('div', {'class': 'listing_title'}):\n",
    "    hotel_names.append(hotel_name.text)\n",
    "\n",
    "for hotel_rating in BeautifulSoup.find_all('a', {'class': 'ui_bubble_raing'}):\n",
    "    hotel_ratings.append(hotel_rating['alt'])\n",
    "\n",
    "for hotel_review in BeautifulSoup.find_all('a', {'class': 'review_count'}):\n",
    "    hotel_reviews.append(hotel_review.text)\n",
    "\n",
    "for hotel_price in BeautifulSoup.find_all('div', {'class': 'price-wrap'}):\n",
    "    hotel_prices.append(hotel_price.text)\n"
   ]
  },
  {
   "attachments": {},
   "cell_type": "markdown",
   "metadata": {},
   "source": [
    "## Loading Data "
   ]
  },
  {
   "cell_type": "code",
   "execution_count": null,
   "metadata": {},
   "outputs": [],
   "source": [
    "\n",
    "hotels_df = pd.DataFrame()\n",
    "\n",
    "# Load data into dataframe\n",
    "\n",
    "hotels_df[\"name\"] = hotel_names\n",
    "hotels_df[\"review_amt\"] = hotel_reviews\n",
    "hotels_df[\"ratings\"] = hotel_ratings\n",
    "hotels_df[\"costs\"] = hotel_prices\n",
    "\n",
    "hotels_df.head(20)\n"
   ]
  },
  {
   "attachments": {},
   "cell_type": "markdown",
   "metadata": {},
   "source": [
    "## Data Preparation"
   ]
  },
  {
   "cell_type": "code",
   "execution_count": null,
   "metadata": {},
   "outputs": [],
   "source": []
  },
  {
   "attachments": {},
   "cell_type": "markdown",
   "metadata": {},
   "source": []
  },
  {
   "cell_type": "code",
   "execution_count": null,
   "metadata": {},
   "outputs": [],
   "source": []
  },
  {
   "attachments": {},
   "cell_type": "markdown",
   "metadata": {},
   "source": []
  },
  {
   "cell_type": "code",
   "execution_count": null,
   "metadata": {},
   "outputs": [],
   "source": []
  }
 ],
 "metadata": {
  "kernelspec": {
   "display_name": "ADSProgram",
   "language": "python",
   "name": "python3"
  },
  "language_info": {
   "codemirror_mode": {
    "name": "ipython",
    "version": 3
   },
   "file_extension": ".py",
   "mimetype": "text/x-python",
   "name": "python",
   "nbconvert_exporter": "python",
   "pygments_lexer": "ipython3",
   "version": "3.9.7"
  },
  "orig_nbformat": 4,
  "vscode": {
   "interpreter": {
    "hash": "7951f347f00c15a6c7244c3e3f597bc8ba51df93b8ab253d0dc61c925351e543"
   }
  }
 },
 "nbformat": 4,
 "nbformat_minor": 2
}
