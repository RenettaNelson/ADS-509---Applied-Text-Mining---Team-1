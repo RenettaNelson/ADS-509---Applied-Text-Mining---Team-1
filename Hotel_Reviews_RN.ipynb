{
 "cells": [
  {
   "attachments": {},
   "cell_type": "markdown",
   "metadata": {},
   "source": [
    "# Hotel Review Classification\n",
    "\n",
    "### Team 1: Renetta Nelson, Jacqueline Urenda\n",
    "\n",
    "### June 26, 2023"
   ]
  },
  {
   "attachments": {},
   "cell_type": "markdown",
   "metadata": {},
   "source": [
    "## Importing Libraries"
   ]
  },
  {
   "cell_type": "code",
   "execution_count": 1,
   "metadata": {},
   "outputs": [],
   "source": [
    "import pandas as pd\n",
    "import numpy as np\n",
    "from bs4 import BeautifulSoup\n",
    "import requests\n",
    "import csv\n",
    "\n"
   ]
  },
  {
   "attachments": {},
   "cell_type": "markdown",
   "metadata": {},
   "source": [
    "## Retrieving Data from Website"
   ]
  },
  {
   "cell_type": "code",
   "execution_count": 2,
   "metadata": {},
   "outputs": [],
   "source": [
    "# Retrieving hotel data\n",
    "\n",
    "sandiego_hotels = \"https://www.tripadvisor.in/Hotels-g60750-San_Diego_California-Hotels.html\"\n",
    "\n",
    "response = requests.get(sandiego_hotels)\n",
    "\n",
    "hotels = response.content\n",
    "\n",
    "\n"
   ]
  },
  {
   "attachments": {},
   "cell_type": "markdown",
   "metadata": {},
   "source": [
    "## Extracting the Data"
   ]
  },
  {
   "cell_type": "code",
   "execution_count": null,
   "metadata": {},
   "outputs": [],
   "source": [
    "# Initialize lists\n",
    "\n",
    "hotel_names = []\n",
    "hotel_ratings = []\n",
    "hotel_reviews = []\n",
    "hotel_prices = []\n",
    "\n",
    "# Hotel Data\n",
    "\n",
    "h_content = BeautifulSoup(hotels, 'html.parser')\n",
    "\n",
    "for hotel_name in BeautifulSoup.find_all('div', {'class': 'listing_title'}):\n",
    "    hotel_names.append(hotel_name.text.strip())\n",
    "\n",
    "for hotel_rating in BeautifulSoup.find_all('a', {'class': 'ui_bubble_raing'}):\n",
    "    hotel_ratings.append(hotel_rating['alt'])\n",
    "\n",
    "for hotel_review in BeautifulSoup.find_all('a', {'class': 'review_count'}):\n",
    "    hotel_reviews.append(hotel_review.text.strip())\n",
    "\n",
    "for hotel_price in BeautifulSoup.find_all('div', {'class': 'price-wrap'}):\n",
    "    hotel_prices.append(hotel_price.text.strip())\n"
   ]
  },
  {
   "attachments": {},
   "cell_type": "markdown",
   "metadata": {},
   "source": [
    "## Loading Data "
   ]
  },
  {
   "cell_type": "code",
   "execution_count": null,
   "metadata": {},
   "outputs": [],
   "source": [
    "\n",
    "hotels_df = pd.DataFrame()\n",
    "\n",
    "# Load data into dataframe\n",
    "\n",
    "hotels_df[\"name\"] = hotel_names\n",
    "hotels_df[\"review_amt\"] = hotel_reviews\n",
    "hotels_df[\"ratings\"] = hotel_ratings\n",
    "hotels_df[\"costs\"] = hotel_prices\n",
    "\n",
    "hotels_df.head(20)\n"
   ]
  },
  {
   "attachments": {},
   "cell_type": "markdown",
   "metadata": {},
   "source": [
    "## Data Preparation"
   ]
  },
  {
   "cell_type": "code",
   "execution_count": null,
   "metadata": {},
   "outputs": [],
   "source": []
  }
 ],
 "metadata": {
  "kernelspec": {
   "display_name": "Python 3",
   "language": "python",
   "name": "python3"
  },
  "language_info": {
   "codemirror_mode": {
    "name": "ipython",
    "version": 3
   },
   "file_extension": ".py",
   "mimetype": "text/x-python",
   "name": "python",
   "nbconvert_exporter": "python",
   "pygments_lexer": "ipython3",
   "version": "3.8.0"
  },
  "orig_nbformat": 4
 },
 "nbformat": 4,
 "nbformat_minor": 2
}
