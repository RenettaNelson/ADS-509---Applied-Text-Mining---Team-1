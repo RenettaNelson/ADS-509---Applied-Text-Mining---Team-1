{
 "cells": [
  {
   "attachments": {},
   "cell_type": "markdown",
   "metadata": {},
   "source": [
    "# Hotel Review Classification\n",
    "\n",
    "### Team 1: Renetta Nelson, Jacqueline Urenda\n",
    "\n",
    "### June 26, 2023"
   ]
  },
  {
   "attachments": {},
   "cell_type": "markdown",
   "metadata": {},
   "source": [
    "## Importing Libraries"
   ]
  },
  {
   "cell_type": "code",
   "execution_count": 3,
   "metadata": {},
   "outputs": [
    {
     "data": {
      "text/html": [
       "        <script type=\"text/javascript\">\n",
       "        window.PlotlyConfig = {MathJaxConfig: 'local'};\n",
       "        if (window.MathJax && window.MathJax.Hub && window.MathJax.Hub.Config) {window.MathJax.Hub.Config({SVG: {font: \"STIX-Web\"}});}\n",
       "        if (typeof require !== 'undefined') {\n",
       "        require.undef(\"plotly\");\n",
       "        requirejs.config({\n",
       "            paths: {\n",
       "                'plotly': ['https://cdn.plot.ly/plotly-2.24.1.min']\n",
       "            }\n",
       "        });\n",
       "        require(['plotly'], function(Plotly) {\n",
       "            window._Plotly = Plotly;\n",
       "        });\n",
       "        }\n",
       "        </script>\n",
       "        "
      ]
     },
     "metadata": {},
     "output_type": "display_data"
    }
   ],
   "source": [
    "import pandas as pd\n",
    "import numpy as np\n",
    "from bs4 import BeautifulSoup\n",
    "import requests\n",
    "import csv\n",
    "import time\n",
    "import random\n",
    "from collections import OrderedDict\n",
    "import string\n",
    "import re\n",
    "import matplotlib.pyplot as plt\n",
    "import seaborn as sns\n",
    "import plotly.offline as py\n",
    "import plotly.graph_objs as go\n",
    "import plotly.tools as tls\n",
    "import plotly.express as px\n",
    "import nltk\n",
    "import random\n",
    "\n",
    "\n",
    "py.init_notebook_mode(connected=True)\n",
    "\n",
    "\n",
    "from nltk.stem import WordNetLemmatizer\n",
    "from random import randint\n",
    "from textblob import TextBlob\n",
    "from time import sleep\n",
    "\n",
    "color = sns.color_palette()\n",
    "%matplotlib inline\n",
    "\n",
    "\n",
    "from collections import Counter, defaultdict\n",
    "from string import punctuation\n",
    "from nltk.corpus import stopwords\n",
    "from nltk.metrics import ConfusionMatrix\n",
    "import plotly.io as pio\n",
    "\n",
    "color = sns.color_palette()\n",
    "%matplotlib inline\n",
    "\n",
    "\n"
   ]
  },
  {
   "cell_type": "code",
   "execution_count": 33,
   "metadata": {},
   "outputs": [
    {
     "name": "stderr",
     "output_type": "stream",
     "text": [
      "[nltk_data] Downloading package wordnet to\n",
      "[nltk_data]     C:\\Users\\nelso\\AppData\\Roaming\\nltk_data...\n"
     ]
    },
    {
     "data": {
      "text/plain": [
       "True"
      ]
     },
     "execution_count": 33,
     "metadata": {},
     "output_type": "execute_result"
    }
   ],
   "source": [
    "#import nltk\n",
    "#nltk.download('wordnet')"
   ]
  },
  {
   "attachments": {},
   "cell_type": "markdown",
   "metadata": {},
   "source": [
    "## Retrieving Data from Website"
   ]
  },
  {
   "cell_type": "code",
   "execution_count": 4,
   "metadata": {},
   "outputs": [],
   "source": [
    "\n",
    "\n",
    "hotel_page1 = (\"https://www.tripadvisor.in/Hotels-g60750-San_Diego_California-Hotels.html\")\n",
    "hotel_page2 = (\"https://www.tripadvisor.in/Hotels-g60750-oa30-San_Diego_California-Hotels.html\")\n",
    "hotel_page3 = (\"https://www.tripadvisor.in/Hotels-g60750-oa60-San_Diego_California-Hotels.html\")\n",
    "hotel_page4 = (\"https://www.tripadvisor.in/Hotels-g60750-oa90-San_Diego_California-Hotels.html\")\n",
    "hotel_page5 = (\"https://www.tripadvisor.in/Hotels-g60750-oa120-San_Diego_California-Hotels.html\")\n",
    "hotel_page6 = (\"https://www.tripadvisor.in/Hotels-g60750-oa150-San_Diego_California-Hotels.html\")\n",
    "hotel_page7 = (\"https://www.tripadvisor.in/Hotels-g60750-oa180-San_Diego_California-Hotels.html\")\n",
    "hotel_page8 = (\"https://www.tripadvisor.in/Hotels-g60750-oa210-San_Diego_California-Hotels.html\")\n",
    "hotel_page9 = (\"https://www.tripadvisor.in/Hotels-g60750-oa240-San_Diego_California-Hotels.html\")\n",
    "hotel_page10 = (\"https://www.tripadvisor.in/Hotels-g60750-oa270-San_Diego_California-Hotels.html\")\n",
    "\n",
    "user_agent = ( {'User-Agent': 'Mozilla/5.0 (Windows NT 10.0; Win64; x64) \\ AppleWebKit/537.36 (KHTML, like Gecko) \\ Chrome/90.0.4430.212 Safari/537.36',\n",
    "                'Accept-Language': 'en-US, en'})\n",
    "\n",
    "\n",
    "hp1= requests.get(hotel_page1, headers = user_agent)\n",
    "hp2= requests.get(hotel_page2, headers = user_agent)\n",
    "hp3= requests.get(hotel_page3, headers = user_agent)\n",
    "hp4= requests.get(hotel_page4, headers = user_agent)\n",
    "hp5= requests.get(hotel_page5, headers = user_agent)\n",
    "hp6= requests.get(hotel_page6, headers = user_agent)\n",
    "hp7= requests.get(hotel_page7, headers = user_agent)\n",
    "hp8= requests.get(hotel_page8, headers = user_agent)\n",
    "hp9= requests.get(hotel_page9, headers = user_agent)\n",
    "hp10= requests.get(hotel_page10, headers = user_agent)\n",
    "\n",
    "\n"
   ]
  },
  {
   "attachments": {},
   "cell_type": "markdown",
   "metadata": {},
   "source": [
    "## Extracting the Data"
   ]
  },
  {
   "cell_type": "code",
   "execution_count": 5,
   "metadata": {},
   "outputs": [],
   "source": [
    "def extract(h_page, hotel_names, hotel_ratings, hotel_reviews, hotel_prices):\n",
    "\n",
    "    h_content = BeautifulSoup(h_page.content, 'html.parser')\n",
    "\n",
    "    for hotel_name in h_content.find_all('div', {'class': 'listing_title'}):\n",
    "        hotel_names.append(hotel_name.text.strip())\n",
    "\n",
    "\n",
    "    for hotel_rating in h_content.find_all('a', {'class': 'ui_bubble_rating'}):\n",
    "        hotel_ratings.append(hotel_rating['alt'])\n",
    "\n",
    "    for hotel_review in h_content.find_all('a', {'class': 'review_count'}):\n",
    "        hotel_reviews.append(hotel_review.text.strip())\n",
    "\n",
    "    for hotel_price in h_content.find_all('span', {'class': 'fwoto'}):\n",
    "        print(\"In pricing\")\n",
    "        hotel_prices.append(hotel_price.span.text.replace('₹','').strip())\n",
    "    \n",
    "\n",
    "    return hotel_names, hotel_ratings, hotel_reviews, hotel_prices\n",
    "\n",
    "\n",
    "def extract_test(hotel_names, hotel_ratings, hotel_reviews, hotel_prices):\n",
    "    print(\"Lengths of Dataset Columns\")\n",
    "    print(\"Hotel Names: \", len(hotel_names))\n",
    "    print(\"Hotel Ratings: \", len(hotel_ratings))\n",
    "    print(\"Hotel Reviews: \", len(hotel_reviews))\n",
    "    print(\"Hotel Prices: \", len(hotel_prices))"
   ]
  },
  {
   "cell_type": "code",
   "execution_count": 6,
   "metadata": {},
   "outputs": [],
   "source": [
    "\n",
    "hotel_names = []\n",
    "hotel_ratings = []\n",
    "hotel_reviews = []\n",
    "hotel_prices = []\n",
    "\n",
    "\n",
    "hotel_names, hotel_ratings, hotel_reviews, hotel_prices = extract(hp1, hotel_names, hotel_ratings, hotel_reviews, hotel_prices)\n",
    "hotel_names, hotel_ratings, hotel_reviews, hotel_prices = extract(hp2, hotel_names, hotel_ratings, hotel_reviews, hotel_prices)\n",
    "hotel_names, hotel_ratings, hotel_reviews, hotel_prices = extract(hp3, hotel_names, hotel_ratings, hotel_reviews, hotel_prices)\n",
    "hotel_names, hotel_ratings, hotel_reviews, hotel_prices = extract(hp4, hotel_names, hotel_ratings, hotel_reviews, hotel_prices)\n",
    "hotel_names, hotel_ratings, hotel_reviews, hotel_prices = extract(hp5, hotel_names, hotel_ratings, hotel_reviews, hotel_prices)\n",
    "hotel_names, hotel_ratings, hotel_reviews, hotel_prices = extract(hp6, hotel_names, hotel_ratings, hotel_reviews, hotel_prices)\n",
    "hotel_names, hotel_ratings, hotel_reviews, hotel_prices = extract(hp7, hotel_names, hotel_ratings, hotel_reviews, hotel_prices)\n",
    "hotel_names, hotel_ratings, hotel_reviews, hotel_prices = extract(hp8, hotel_names, hotel_ratings, hotel_reviews, hotel_prices)\n",
    "hotel_names, hotel_ratings, hotel_reviews, hotel_prices = extract(hp9, hotel_names, hotel_ratings, hotel_reviews, hotel_prices)\n",
    "hotel_names, hotel_ratings, hotel_reviews, hotel_prices = extract(hp10, hotel_names, hotel_ratings, hotel_reviews, hotel_prices)\n",
    "\n",
    "\n"
   ]
  },
  {
   "cell_type": "code",
   "execution_count": 7,
   "metadata": {},
   "outputs": [
    {
     "name": "stdout",
     "output_type": "stream",
     "text": [
      "Lengths of Dataset Columns\n",
      "Hotel Names:  600\n",
      "Hotel Ratings:  300\n",
      "Hotel Reviews:  300\n",
      "Hotel Prices:  0\n"
     ]
    }
   ],
   "source": [
    "extract_test(hotel_names, hotel_ratings, hotel_reviews, hotel_prices)"
   ]
  },
  {
   "attachments": {},
   "cell_type": "markdown",
   "metadata": {},
   "source": [
    "## Data Preparation"
   ]
  },
  {
   "cell_type": "code",
   "execution_count": 8,
   "metadata": {},
   "outputs": [],
   "source": [
    "def processing(hotel_names, hotel_ratings, hotel_reviews):\n",
    "    hotel_names2 = []\n",
    "    hotel_names3 = []\n",
    "    hotel_names4 = []\n",
    "    hotel_reviews2 = []\n",
    "    hotel_reviews3 = []\n",
    "    hotel_ratings2 = []\n",
    "    hotel_ratings3 = []\n",
    "    name_index = []\n",
    "    num = 0\n",
    "    temp = 0\n",
    "\n",
    "    # removing duplicates of hotel names\n",
    "    n = 0\n",
    "    for i in hotel_names:\n",
    "        if n % 2 == 0:\n",
    "            n = n + 1\n",
    "            hotel_names2.append(i)\n",
    "        else:\n",
    "            n = n + 1\n",
    "            continue \n",
    "\n",
    " \n",
    "\n",
    "    # remove \"Sponsored\" hotels\n",
    "\n",
    "    for i in hotel_names2:\n",
    "        #print(i)\n",
    "        x = i.split(\" \")\n",
    "        if x[0] == \"Sponsored\":\n",
    "            name_index.append(num)\n",
    "            num = num + 1\n",
    "            continue\n",
    "        else:\n",
    "            hotel_names3.append(\" \".join(x))\n",
    "            num = num + 1\n",
    "\n",
    "\n",
    "\n",
    "    # removing numbers from hotel names\n",
    "\n",
    "    for i in hotel_names3:\n",
    "        x = i.split(\" \")\n",
    "        del x[0]\n",
    "        hotel_names4.append(\" \".join(x))\n",
    "\n",
    "\n",
    "\n",
    "    # Removing word \"reviews\" from column values and converting to numerical \n",
    "\n",
    "    for i in hotel_reviews:\n",
    "        x = i.split(\" \")\n",
    "        for y in x:\n",
    "            c = re.sub(r'[^\\w\\s]', '', y)\n",
    "            if c.isdigit():\n",
    "                hotel_reviews2.append(c)\n",
    "            else:\n",
    "                continue\n",
    "\n",
    "    hotel_reviews2 = [eval(i) for i in hotel_reviews2]\n",
    "\n",
    "\n",
    "    # Removing Sponsored hotel reviews\n",
    "\n",
    "\n",
    "\n",
    "    for i in range(len(hotel_reviews2)):\n",
    "\n",
    "        if i not in name_index:\n",
    "                hotel_reviews3.append(hotel_reviews2[i])\n",
    "        else:\n",
    "            continue\n",
    "\n",
    "\n",
    "\n",
    "    # Removing Sponsored hotel ratings\n",
    "\n",
    "   \n",
    "    for i in range(len(hotel_ratings)):\n",
    "\n",
    "        if i not in name_index:\n",
    "                hotel_ratings2.append(hotel_ratings[i])\n",
    "        else:\n",
    "            continue\n",
    "        \n",
    "\n",
    "\n",
    "    # Only taking rating and converting into numerical \n",
    "\n",
    "    for i in hotel_ratings2:\n",
    "        x = i.split(\" \")\n",
    "        hotel_ratings3.append(x[0])\n",
    "\n",
    "    hotel_ratings3 = [eval(i) for i in hotel_ratings3]\n",
    "\n",
    "\n",
    "    return hotel_names4, hotel_ratings3, hotel_reviews3, name_index\n",
    "\n",
    "\n",
    "\n",
    "def processing_test(hotel_names3, hotel_ratings2, hotel_reviews2):\n",
    "    print(\"Lengths of Dataset Columns\")\n",
    "    print(\"Hotel Names: \", len(hotel_names3))\n",
    "    print(\"Hotel Ratings: \", len(hotel_ratings2))\n",
    "    print(\"Hotel Reviews: \", len(hotel_reviews2))\n"
   ]
  },
  {
   "cell_type": "code",
   "execution_count": 9,
   "metadata": {},
   "outputs": [],
   "source": [
    "\n",
    "hotel_names4, hotel_ratings3, hotel_reviews3, name_index = processing(hotel_names, hotel_ratings, hotel_reviews)\n",
    "\n"
   ]
  },
  {
   "cell_type": "code",
   "execution_count": 10,
   "metadata": {},
   "outputs": [
    {
     "name": "stdout",
     "output_type": "stream",
     "text": [
      "Lengths of Dataset Columns\n",
      "Hotel Names:  300\n",
      "Hotel Ratings:  300\n",
      "Hotel Reviews:  300\n"
     ]
    }
   ],
   "source": [
    "processing_test(hotel_names4, hotel_ratings3, hotel_reviews3)\n"
   ]
  },
  {
   "attachments": {},
   "cell_type": "markdown",
   "metadata": {},
   "source": [
    "## Loading Data "
   ]
  },
  {
   "cell_type": "code",
   "execution_count": 11,
   "metadata": {},
   "outputs": [
    {
     "data": {
      "text/html": [
       "<div>\n",
       "<style scoped>\n",
       "    .dataframe tbody tr th:only-of-type {\n",
       "        vertical-align: middle;\n",
       "    }\n",
       "\n",
       "    .dataframe tbody tr th {\n",
       "        vertical-align: top;\n",
       "    }\n",
       "\n",
       "    .dataframe thead th {\n",
       "        text-align: right;\n",
       "    }\n",
       "</style>\n",
       "<table border=\"1\" class=\"dataframe\">\n",
       "  <thead>\n",
       "    <tr style=\"text-align: right;\">\n",
       "      <th></th>\n",
       "      <th>names</th>\n",
       "      <th>num_reviews</th>\n",
       "      <th>ratings</th>\n",
       "    </tr>\n",
       "  </thead>\n",
       "  <tbody>\n",
       "    <tr>\n",
       "      <th>0</th>\n",
       "      <td>Bahia Resort Hotel</td>\n",
       "      <td>6358</td>\n",
       "      <td>4.5</td>\n",
       "    </tr>\n",
       "    <tr>\n",
       "      <th>1</th>\n",
       "      <td>Manchester Grand Hyatt San Diego</td>\n",
       "      <td>12629</td>\n",
       "      <td>4.5</td>\n",
       "    </tr>\n",
       "    <tr>\n",
       "      <th>2</th>\n",
       "      <td>Embassy Suites by Hilton San Diego Bay Downtown</td>\n",
       "      <td>3436</td>\n",
       "      <td>4.5</td>\n",
       "    </tr>\n",
       "    <tr>\n",
       "      <th>3</th>\n",
       "      <td>San Diego Mission Bay Resort</td>\n",
       "      <td>1357</td>\n",
       "      <td>4.0</td>\n",
       "    </tr>\n",
       "    <tr>\n",
       "      <th>4</th>\n",
       "      <td>Catamaran Resort Hotel and Spa</td>\n",
       "      <td>6747</td>\n",
       "      <td>4.5</td>\n",
       "    </tr>\n",
       "    <tr>\n",
       "      <th>5</th>\n",
       "      <td>San Diego Marriott La Jolla</td>\n",
       "      <td>1501</td>\n",
       "      <td>4.5</td>\n",
       "    </tr>\n",
       "    <tr>\n",
       "      <th>6</th>\n",
       "      <td>Paradise Point Resort &amp; Spa</td>\n",
       "      <td>3187</td>\n",
       "      <td>4.0</td>\n",
       "    </tr>\n",
       "    <tr>\n",
       "      <th>7</th>\n",
       "      <td>Best Western Plus Island Palms Hotel &amp; Marina</td>\n",
       "      <td>4851</td>\n",
       "      <td>4.5</td>\n",
       "    </tr>\n",
       "    <tr>\n",
       "      <th>8</th>\n",
       "      <td>Old Town Inn</td>\n",
       "      <td>2412</td>\n",
       "      <td>4.5</td>\n",
       "    </tr>\n",
       "    <tr>\n",
       "      <th>9</th>\n",
       "      <td>Urban Boutique Hotel</td>\n",
       "      <td>1333</td>\n",
       "      <td>4.5</td>\n",
       "    </tr>\n",
       "  </tbody>\n",
       "</table>\n",
       "</div>"
      ],
      "text/plain": [
       "                                             names  num_reviews  ratings\n",
       "0                               Bahia Resort Hotel         6358      4.5\n",
       "1                 Manchester Grand Hyatt San Diego        12629      4.5\n",
       "2  Embassy Suites by Hilton San Diego Bay Downtown         3436      4.5\n",
       "3                     San Diego Mission Bay Resort         1357      4.0\n",
       "4                   Catamaran Resort Hotel and Spa         6747      4.5\n",
       "5                      San Diego Marriott La Jolla         1501      4.5\n",
       "6                      Paradise Point Resort & Spa         3187      4.0\n",
       "7    Best Western Plus Island Palms Hotel & Marina         4851      4.5\n",
       "8                                     Old Town Inn         2412      4.5\n",
       "9                             Urban Boutique Hotel         1333      4.5"
      ]
     },
     "execution_count": 11,
     "metadata": {},
     "output_type": "execute_result"
    }
   ],
   "source": [
    "\n",
    "hotels_dict = {}\n",
    "\n",
    "# Load data into dictionary\n",
    "\n",
    "hotels_dict = {'names':hotel_names4, 'num_reviews':hotel_reviews3, 'ratings':hotel_ratings3}   #, 'costs':hotel_prices[:37]}\n",
    "\n",
    "\n",
    "hotels_df = pd.DataFrame.from_dict(hotels_dict)\n",
    "hotels_df.head(10)\n"
   ]
  },
  {
   "attachments": {},
   "cell_type": "markdown",
   "metadata": {},
   "source": [
    "## Extracting Hotel Reviews"
   ]
  },
  {
   "cell_type": "code",
   "execution_count": 15,
   "metadata": {},
   "outputs": [],
   "source": [
    "def extract_review(url):\n",
    "    \n",
    "    hotel_rev = []\n",
    "    hotel_rev2 = []\n",
    "    hotel_rev3 = []\n",
    "\n",
    "    review_page= (url)\n",
    "\n",
    "    user_agent = ( {'User-Agent': 'Mozilla/5.0 (Windows NT 10.0; Win64; x64) \\ AppleWebKit/537.36 (KHTML, like Gecko) \\ Chrome/90.0.4430.212 Safari/537.36',\n",
    "                    'Accept-Language': 'en-US, en'})\n",
    "\n",
    "\n",
    "    rp1= requests.get(review_page, headers = user_agent)\n",
    "\n",
    "    h_content = BeautifulSoup(rp1.content, 'html.parser')\n",
    "\n",
    "\n",
    "    for rp_1 in h_content.findAll('span', {'class':'QewHA H4 _a'}):\n",
    "        hotel_rev.append(rp_1.span.text.strip())\n",
    "\n",
    "\n",
    "    for rp_2 in h_content.findAll('a', {'class':'Qwuub'}):\n",
    "        hotel_rev2.append(rp_2.text.strip())\n",
    "\n",
    "    for rp_3 in h_content.findAll(\"span\", {\"class\": \"ui_bubble_rating\"}):\n",
    "        hotel_rev3.append(rp_3)\n",
    "\n",
    "\n",
    "    return hotel_rev2, hotel_rev3, hotel_rev\n",
    "\n",
    "\n",
    "\n",
    "def extract_links(hotel_link, links):\n",
    "\n",
    "    for review in hotel_link.findAll('a',{'class': 'review_count'}):\n",
    "        a = review['href']\n",
    "        a = 'https://www.tripadvisor.in'+ a\n",
    "\n",
    "        a= a[:(a.find('Reviews')+7)] + '-or{}' + a[(a.find('Reviews')+7):]\n",
    "  \n",
    "        links.append(a)\n",
    "    #return links\n",
    "    \n",
    "\n",
    "\n",
    "\n"
   ]
  },
  {
   "cell_type": "code",
   "execution_count": 16,
   "metadata": {},
   "outputs": [],
   "source": [
    "\n",
    "hotel_rev = BeautifulSoup(hp1.content, 'html.parser')\n",
    "hotel_rev2 = BeautifulSoup(hp2.content, \"html.parser\")\n",
    "hotel_rev3 = BeautifulSoup(hp3.content, \"html.parser\")\n",
    "hotel_rev4 = BeautifulSoup(hp4.content, \"html.parser\")\n",
    "hotel_rev5 = BeautifulSoup(hp5.content, \"html.parser\")\n",
    "hotel_rev6 = BeautifulSoup(hp6.content, \"html.parser\")\n",
    "hotel_rev7 = BeautifulSoup(hp7.content, \"html.parser\")\n",
    "hotel_rev8 = BeautifulSoup(hp8.content, \"html.parser\")\n",
    "hotel_rev9 = BeautifulSoup(hp9.content, \"html.parser\")\n",
    "hotel_rev10 = BeautifulSoup(hp10.content, \"html.parser\")\n",
    "\n",
    "\n",
    "links = []\n",
    "links2 = []\n",
    "\n",
    "extract_links(hotel_rev, links)\n",
    "extract_links(hotel_rev2, links)\n",
    "extract_links(hotel_rev3, links)\n",
    "extract_links(hotel_rev4, links)\n",
    "extract_links(hotel_rev5, links)\n",
    "extract_links(hotel_rev6, links)\n",
    "extract_links(hotel_rev7, links)\n",
    "extract_links(hotel_rev8, links)\n",
    "extract_links(hotel_rev9, links)\n",
    "extract_links(hotel_rev10, links)\n",
    "\n",
    "\n",
    "\n",
    "# removing links to reviews for sponsored hotels\n",
    "\n",
    "\n",
    "for i in range(len(links)):\n",
    "\n",
    "    if i not in name_index:\n",
    "            links2.append(links[i])\n",
    "    else:\n",
    "        continue\n"
   ]
  },
  {
   "cell_type": "code",
   "execution_count": 17,
   "metadata": {},
   "outputs": [],
   "source": [
    "\n",
    "# Extracting review content from links\n",
    "\n",
    "reviews = []\n",
    "rev_dict = {}\n",
    "rev_title = []\n",
    "rev_rate = []\n",
    "rev_summary = []\n",
    "\n",
    "\n",
    "for link in links2:\n",
    "    title, rate, summary = extract_review(link)\n",
    "    rev_title.append(title)\n",
    "    rev_rate.append(rate)\n",
    "    rev_summary.append(summary)\n"
   ]
  },
  {
   "cell_type": "code",
   "execution_count": 18,
   "metadata": {},
   "outputs": [],
   "source": [
    "\n",
    "# Converting each review rating to numerical\n",
    "\n",
    "rev_rate2 = []\n",
    "\n",
    "rev_rate4 = []\n",
    "\n",
    "for i in rev_rate:\n",
    "    temp2 = []\n",
    "    for j in i:\n",
    "        temp2.append(str(j))\n",
    "    rev_rate2.append(temp2)\n",
    "    \n",
    "\n",
    "\n",
    "for x in rev_rate2:\n",
    "    temp3 = []\n",
    "    for y in x:\n",
    "        #print(y)\n",
    "        y1 = y.split(\" \")\n",
    "        y2 = y1[2].split('\"')\n",
    "        y3 = y2[0].split(\"_\")\n",
    "        n = int(y3[1]) / 10\n",
    "        temp3.append(n)\n",
    "        #print(y3)\n",
    "    rev_rate4.append(temp3)"
   ]
  },
  {
   "attachments": {},
   "cell_type": "markdown",
   "metadata": {},
   "source": [
    "## Loading Review Content into Data Frame"
   ]
  },
  {
   "cell_type": "code",
   "execution_count": 27,
   "metadata": {},
   "outputs": [
    {
     "data": {
      "text/html": [
       "<div>\n",
       "<style scoped>\n",
       "    .dataframe tbody tr th:only-of-type {\n",
       "        vertical-align: middle;\n",
       "    }\n",
       "\n",
       "    .dataframe tbody tr th {\n",
       "        vertical-align: top;\n",
       "    }\n",
       "\n",
       "    .dataframe thead th {\n",
       "        text-align: right;\n",
       "    }\n",
       "</style>\n",
       "<table border=\"1\" class=\"dataframe\">\n",
       "  <thead>\n",
       "    <tr style=\"text-align: right;\">\n",
       "      <th></th>\n",
       "      <th>names</th>\n",
       "      <th>num_reviews</th>\n",
       "      <th>ratings</th>\n",
       "      <th>review_title</th>\n",
       "      <th>review_rating</th>\n",
       "      <th>review_summary</th>\n",
       "      <th>tokens</th>\n",
       "    </tr>\n",
       "  </thead>\n",
       "  <tbody>\n",
       "    <tr>\n",
       "      <th>0</th>\n",
       "      <td>Bahia Resort Hotel</td>\n",
       "      <td>6358</td>\n",
       "      <td>4.5</td>\n",
       "      <td>[Beautiful Bahia in Sunny San Diego, Outstandi...</td>\n",
       "      <td>[4.5, 4.5, 4.5, 4.0, 4.5, 4.0, 4.5, 4.0, 4.5, ...</td>\n",
       "      <td>[What an amazing experience at the Bahia resor...</td>\n",
       "      <td>[amazing, experience, bahia, resort, hotel, lo...</td>\n",
       "    </tr>\n",
       "    <tr>\n",
       "      <th>1</th>\n",
       "      <td>Manchester Grand Hyatt San Diego</td>\n",
       "      <td>12629</td>\n",
       "      <td>4.5</td>\n",
       "      <td>[Beautiful resort in the center of San Diego, ...</td>\n",
       "      <td>[4.5, 4.5, 5.0, 4.5, 4.5, 4.0, 4.5, 4.5, 4.5, ...</td>\n",
       "      <td>[Explore the marina.  Amazing facility. I had ...</td>\n",
       "      <td>[explore, marina, amazing, facility, lunch, se...</td>\n",
       "    </tr>\n",
       "    <tr>\n",
       "      <th>2</th>\n",
       "      <td>Embassy Suites by Hilton San Diego Bay Downtown</td>\n",
       "      <td>3436</td>\n",
       "      <td>4.5</td>\n",
       "      <td>[Amazing place to stay!, Absolutely beautiful ...</td>\n",
       "      <td>[4.5, 4.5, 5.0, 4.5, 4.5, 4.0, 4.5, 4.5, 4.5, ...</td>\n",
       "      <td>[The staff is super friendly and helpful, espe...</td>\n",
       "      <td>[staff, super, friendly, helpful, especially, ...</td>\n",
       "    </tr>\n",
       "    <tr>\n",
       "      <th>3</th>\n",
       "      <td>San Diego Mission Bay Resort</td>\n",
       "      <td>1357</td>\n",
       "      <td>4.0</td>\n",
       "      <td>[Staycation or Vacation. You decide!, Excellen...</td>\n",
       "      <td>[4.0, 4.0, 4.5, 4.0, 4.0, 3.5, 5.0, 4.5, 4.5, ...</td>\n",
       "      <td>[Arrive early for your day and check in. The s...</td>\n",
       "      <td>[arrive, early, day, check, staff, give, call,...</td>\n",
       "    </tr>\n",
       "    <tr>\n",
       "      <th>4</th>\n",
       "      <td>Catamaran Resort Hotel and Spa</td>\n",
       "      <td>6747</td>\n",
       "      <td>4.5</td>\n",
       "      <td>[Love it!, Phenomenal stay!, Randy at Front De...</td>\n",
       "      <td>[4.5, 4.5, 5.0, 4.5, 4.5, 4.0, 4.5, 4.5, 4.5, ...</td>\n",
       "      <td>[We always have so much fun at this resort. Su...</td>\n",
       "      <td>[always, much, fun, resort, super, family, pet...</td>\n",
       "    </tr>\n",
       "    <tr>\n",
       "      <th>5</th>\n",
       "      <td>San Diego Marriott La Jolla</td>\n",
       "      <td>1501</td>\n",
       "      <td>4.5</td>\n",
       "      <td>[Exceptional Dining Experience, Thanks Stephan...</td>\n",
       "      <td>[4.5, 4.5, 4.5, 4.5, 4.5, 4.0, 4.5, 4.0, 4.0, ...</td>\n",
       "      <td>[We always appreciate extraordinary service an...</td>\n",
       "      <td>[always, appreciate, extraordinary, service, s...</td>\n",
       "    </tr>\n",
       "    <tr>\n",
       "      <th>6</th>\n",
       "      <td>Paradise Point Resort &amp; Spa</td>\n",
       "      <td>3187</td>\n",
       "      <td>4.0</td>\n",
       "      <td>[Stay, Beautiful!!!!! Would love to visit agai...</td>\n",
       "      <td>[4.0, 4.0, 4.5, 4.0, 4.0, 4.0, 4.5, 5.0, 4.5, ...</td>\n",
       "      <td>[Excellent Service and friendly support in all...</td>\n",
       "      <td>[excellent, service, friendly, support, things...</td>\n",
       "    </tr>\n",
       "    <tr>\n",
       "      <th>7</th>\n",
       "      <td>Best Western Plus Island Palms Hotel &amp; Marina</td>\n",
       "      <td>4851</td>\n",
       "      <td>4.5</td>\n",
       "      <td>[Great location!, Very impressed!, Good stay, ...</td>\n",
       "      <td>[4.5, 4.5, 4.5, 4.5, 4.5, 4.5, 4.5, 4.5, 4.0, ...</td>\n",
       "      <td>[Very happy with this location. Quiet and peac...</td>\n",
       "      <td>[happy, location, quiet, peaceful, loved, coul...</td>\n",
       "    </tr>\n",
       "    <tr>\n",
       "      <th>8</th>\n",
       "      <td>Old Town Inn</td>\n",
       "      <td>2412</td>\n",
       "      <td>4.5</td>\n",
       "      <td>[Not super great, but not entirely bad, Fantas...</td>\n",
       "      <td>[4.5, 4.5, 4.5, 4.5, 4.5, 4.5, 4.5, 4.5, 4.5, ...</td>\n",
       "      <td>[Booked this for our San Diego trip. The sink ...</td>\n",
       "      <td>[booked, san, diego, trip, sink, room, smelled...</td>\n",
       "    </tr>\n",
       "    <tr>\n",
       "      <th>9</th>\n",
       "      <td>Urban Boutique Hotel</td>\n",
       "      <td>1333</td>\n",
       "      <td>4.5</td>\n",
       "      <td>[Highly recommended., Solid stay, Chris is the...</td>\n",
       "      <td>[4.5, 4.5, 4.5, 4.5, 4.5, 4.5, 4.5, 4.5, 4.5, ...</td>\n",
       "      <td>[I can't think of anything that wasn't exempla...</td>\n",
       "      <td>[cant, think, anything, wasnt, exemplary, ever...</td>\n",
       "    </tr>\n",
       "  </tbody>\n",
       "</table>\n",
       "</div>"
      ],
      "text/plain": [
       "                                             names  num_reviews  ratings  \\\n",
       "0                               Bahia Resort Hotel         6358      4.5   \n",
       "1                 Manchester Grand Hyatt San Diego        12629      4.5   \n",
       "2  Embassy Suites by Hilton San Diego Bay Downtown         3436      4.5   \n",
       "3                     San Diego Mission Bay Resort         1357      4.0   \n",
       "4                   Catamaran Resort Hotel and Spa         6747      4.5   \n",
       "5                      San Diego Marriott La Jolla         1501      4.5   \n",
       "6                      Paradise Point Resort & Spa         3187      4.0   \n",
       "7    Best Western Plus Island Palms Hotel & Marina         4851      4.5   \n",
       "8                                     Old Town Inn         2412      4.5   \n",
       "9                             Urban Boutique Hotel         1333      4.5   \n",
       "\n",
       "                                        review_title  \\\n",
       "0  [Beautiful Bahia in Sunny San Diego, Outstandi...   \n",
       "1  [Beautiful resort in the center of San Diego, ...   \n",
       "2  [Amazing place to stay!, Absolutely beautiful ...   \n",
       "3  [Staycation or Vacation. You decide!, Excellen...   \n",
       "4  [Love it!, Phenomenal stay!, Randy at Front De...   \n",
       "5  [Exceptional Dining Experience, Thanks Stephan...   \n",
       "6  [Stay, Beautiful!!!!! Would love to visit agai...   \n",
       "7  [Great location!, Very impressed!, Good stay, ...   \n",
       "8  [Not super great, but not entirely bad, Fantas...   \n",
       "9  [Highly recommended., Solid stay, Chris is the...   \n",
       "\n",
       "                                       review_rating  \\\n",
       "0  [4.5, 4.5, 4.5, 4.0, 4.5, 4.0, 4.5, 4.0, 4.5, ...   \n",
       "1  [4.5, 4.5, 5.0, 4.5, 4.5, 4.0, 4.5, 4.5, 4.5, ...   \n",
       "2  [4.5, 4.5, 5.0, 4.5, 4.5, 4.0, 4.5, 4.5, 4.5, ...   \n",
       "3  [4.0, 4.0, 4.5, 4.0, 4.0, 3.5, 5.0, 4.5, 4.5, ...   \n",
       "4  [4.5, 4.5, 5.0, 4.5, 4.5, 4.0, 4.5, 4.5, 4.5, ...   \n",
       "5  [4.5, 4.5, 4.5, 4.5, 4.5, 4.0, 4.5, 4.0, 4.0, ...   \n",
       "6  [4.0, 4.0, 4.5, 4.0, 4.0, 4.0, 4.5, 5.0, 4.5, ...   \n",
       "7  [4.5, 4.5, 4.5, 4.5, 4.5, 4.5, 4.5, 4.5, 4.0, ...   \n",
       "8  [4.5, 4.5, 4.5, 4.5, 4.5, 4.5, 4.5, 4.5, 4.5, ...   \n",
       "9  [4.5, 4.5, 4.5, 4.5, 4.5, 4.5, 4.5, 4.5, 4.5, ...   \n",
       "\n",
       "                                      review_summary  \\\n",
       "0  [What an amazing experience at the Bahia resor...   \n",
       "1  [Explore the marina.  Amazing facility. I had ...   \n",
       "2  [The staff is super friendly and helpful, espe...   \n",
       "3  [Arrive early for your day and check in. The s...   \n",
       "4  [We always have so much fun at this resort. Su...   \n",
       "5  [We always appreciate extraordinary service an...   \n",
       "6  [Excellent Service and friendly support in all...   \n",
       "7  [Very happy with this location. Quiet and peac...   \n",
       "8  [Booked this for our San Diego trip. The sink ...   \n",
       "9  [I can't think of anything that wasn't exempla...   \n",
       "\n",
       "                                              tokens  \n",
       "0  [amazing, experience, bahia, resort, hotel, lo...  \n",
       "1  [explore, marina, amazing, facility, lunch, se...  \n",
       "2  [staff, super, friendly, helpful, especially, ...  \n",
       "3  [arrive, early, day, check, staff, give, call,...  \n",
       "4  [always, much, fun, resort, super, family, pet...  \n",
       "5  [always, appreciate, extraordinary, service, s...  \n",
       "6  [excellent, service, friendly, support, things...  \n",
       "7  [happy, location, quiet, peaceful, loved, coul...  \n",
       "8  [booked, san, diego, trip, sink, room, smelled...  \n",
       "9  [cant, think, anything, wasnt, exemplary, ever...  "
      ]
     },
     "execution_count": 27,
     "metadata": {},
     "output_type": "execute_result"
    }
   ],
   "source": [
    "\n",
    "hotels_df[\"review_title\"] = rev_title\n",
    "hotels_df[\"review_rating\"] = rev_rate4\n",
    "hotels_df[\"review_summary\"] = rev_summary\n",
    "\n",
    "hotels_df.head(10)\n"
   ]
  },
  {
   "attachments": {},
   "cell_type": "markdown",
   "metadata": {},
   "source": [
    "## Exploratory Data Analysis"
   ]
  },
  {
   "attachments": {},
   "cell_type": "markdown",
   "metadata": {},
   "source": [
    "English Language Detection: Checking to see if there are any reviews that are not in English"
   ]
  },
  {
   "attachments": {},
   "cell_type": "markdown",
   "metadata": {},
   "source": [
    "Plotting the distribution of ratings scores:"
   ]
  },
  {
   "cell_type": "code",
   "execution_count": 21,
   "metadata": {},
   "outputs": [
    {
     "data": {
      "application/vnd.plotly.v1+json": {
       "config": {
        "plotlyServerURL": "https://plot.ly"
       },
       "data": [
        {
         "alignmentgroup": "True",
         "bingroup": "x",
         "hovertemplate": "ratings=%{x}<br>count=%{y}<extra></extra>",
         "legendgroup": "",
         "marker": {
          "color": "pink",
          "line": {
           "color": "orchid",
           "width": 1.5
          },
          "pattern": {
           "shape": ""
          }
         },
         "name": "",
         "offsetgroup": "",
         "orientation": "v",
         "showlegend": false,
         "type": "histogram",
         "x": [
          4.5,
          4.5,
          4.5,
          4,
          4.5,
          4.5,
          4,
          4.5,
          4.5,
          4.5,
          4.5,
          4,
          5,
          4.5,
          4.5,
          4,
          4,
          3.5,
          4.5,
          4,
          4,
          5,
          3.5,
          4.5,
          4,
          3.5,
          3,
          4,
          4,
          4.5,
          4.5,
          4.5,
          4.5,
          4.5,
          4.5,
          4.5,
          4.5,
          4.5,
          4,
          4,
          4,
          4,
          4.5,
          4,
          4.5,
          4,
          4.5,
          4,
          3.5,
          4,
          4,
          4,
          4.5,
          3.5,
          4,
          3.5,
          4,
          3.5,
          3.5,
          2.5,
          4.5,
          4.5,
          4,
          4.5,
          4,
          4.5,
          4.5,
          4,
          4.5,
          4.5,
          4,
          4.5,
          4,
          4,
          4,
          4.5,
          4.5,
          4,
          4,
          4,
          4,
          3.5,
          4,
          3.5,
          3.5,
          4,
          3.5,
          3.5,
          4.5,
          3.5,
          4.5,
          4.5,
          4,
          4,
          4.5,
          4.5,
          4,
          3.5,
          4.5,
          4.5,
          4.5,
          4,
          4,
          4,
          4.5,
          4.5,
          4,
          4,
          4,
          4,
          3,
          3.5,
          4.5,
          3.5,
          3.5,
          4,
          4,
          4,
          3.5,
          3.5,
          4.5,
          4.5,
          4.5,
          4.5,
          4.5,
          4,
          4,
          4,
          4.5,
          4,
          4.5,
          4,
          4,
          4.5,
          3.5,
          4,
          4,
          4,
          4,
          3.5,
          4.5,
          3.5,
          4,
          3.5,
          5,
          3.5,
          4,
          3,
          3.5,
          2.5,
          4.5,
          4.5,
          4.5,
          4,
          4,
          4.5,
          3.5,
          4.5,
          4,
          4,
          3.5,
          3.5,
          4,
          3.5,
          4,
          3.5,
          4,
          4,
          4,
          3.5,
          4,
          4.5,
          3.5,
          3,
          3.5,
          3.5,
          2.5,
          2.5,
          2.5,
          2.5,
          4.5,
          4,
          4.5,
          3.5,
          4,
          4,
          4,
          4,
          3.5,
          3.5,
          4,
          4,
          4,
          5,
          3.5,
          4.5,
          4.5,
          3.5,
          3.5,
          4,
          3.5,
          4,
          3.5,
          3,
          3.5,
          3.5,
          3,
          1.5,
          2.5,
          2.5,
          4.5,
          4.5,
          4,
          4.5,
          4.5,
          4.5,
          4.5,
          5,
          4.5,
          4.5,
          4.5,
          4.5,
          4,
          4.5,
          4.5,
          3.5,
          4.5,
          4.5,
          3,
          3.5,
          4,
          3.5,
          4,
          5,
          4.5,
          4,
          3,
          3.5,
          3,
          3.5,
          5,
          5,
          4.5,
          4.5,
          4.5,
          4,
          4,
          4.5,
          4.5,
          4.5,
          4,
          4.5,
          3,
          4.5,
          3.5,
          3.5,
          3.5,
          3.5,
          3.5,
          5,
          5,
          3.5,
          5,
          3.5,
          4,
          4.5,
          3,
          3.5,
          2.5,
          2,
          5,
          3.5,
          4.5,
          3.5,
          3.5,
          4,
          4,
          4,
          5,
          5,
          3.5,
          4.5,
          3.5,
          4.5,
          5,
          5,
          5,
          4,
          5,
          4,
          5,
          4,
          4.5,
          5,
          4.5,
          4.5,
          3.5,
          5,
          5,
          5
         ],
         "xaxis": "x",
         "yaxis": "y"
        }
       ],
       "layout": {
        "barmode": "relative",
        "height": 400,
        "legend": {
         "tracegroupgap": 0
        },
        "margin": {
         "t": 60
        },
        "template": {
         "data": {
          "bar": [
           {
            "error_x": {
             "color": "#2a3f5f"
            },
            "error_y": {
             "color": "#2a3f5f"
            },
            "marker": {
             "line": {
              "color": "#E5ECF6",
              "width": 0.5
             },
             "pattern": {
              "fillmode": "overlay",
              "size": 10,
              "solidity": 0.2
             }
            },
            "type": "bar"
           }
          ],
          "barpolar": [
           {
            "marker": {
             "line": {
              "color": "#E5ECF6",
              "width": 0.5
             },
             "pattern": {
              "fillmode": "overlay",
              "size": 10,
              "solidity": 0.2
             }
            },
            "type": "barpolar"
           }
          ],
          "carpet": [
           {
            "aaxis": {
             "endlinecolor": "#2a3f5f",
             "gridcolor": "white",
             "linecolor": "white",
             "minorgridcolor": "white",
             "startlinecolor": "#2a3f5f"
            },
            "baxis": {
             "endlinecolor": "#2a3f5f",
             "gridcolor": "white",
             "linecolor": "white",
             "minorgridcolor": "white",
             "startlinecolor": "#2a3f5f"
            },
            "type": "carpet"
           }
          ],
          "choropleth": [
           {
            "colorbar": {
             "outlinewidth": 0,
             "ticks": ""
            },
            "type": "choropleth"
           }
          ],
          "contour": [
           {
            "colorbar": {
             "outlinewidth": 0,
             "ticks": ""
            },
            "colorscale": [
             [
              0,
              "#0d0887"
             ],
             [
              0.1111111111111111,
              "#46039f"
             ],
             [
              0.2222222222222222,
              "#7201a8"
             ],
             [
              0.3333333333333333,
              "#9c179e"
             ],
             [
              0.4444444444444444,
              "#bd3786"
             ],
             [
              0.5555555555555556,
              "#d8576b"
             ],
             [
              0.6666666666666666,
              "#ed7953"
             ],
             [
              0.7777777777777778,
              "#fb9f3a"
             ],
             [
              0.8888888888888888,
              "#fdca26"
             ],
             [
              1,
              "#f0f921"
             ]
            ],
            "type": "contour"
           }
          ],
          "contourcarpet": [
           {
            "colorbar": {
             "outlinewidth": 0,
             "ticks": ""
            },
            "type": "contourcarpet"
           }
          ],
          "heatmap": [
           {
            "colorbar": {
             "outlinewidth": 0,
             "ticks": ""
            },
            "colorscale": [
             [
              0,
              "#0d0887"
             ],
             [
              0.1111111111111111,
              "#46039f"
             ],
             [
              0.2222222222222222,
              "#7201a8"
             ],
             [
              0.3333333333333333,
              "#9c179e"
             ],
             [
              0.4444444444444444,
              "#bd3786"
             ],
             [
              0.5555555555555556,
              "#d8576b"
             ],
             [
              0.6666666666666666,
              "#ed7953"
             ],
             [
              0.7777777777777778,
              "#fb9f3a"
             ],
             [
              0.8888888888888888,
              "#fdca26"
             ],
             [
              1,
              "#f0f921"
             ]
            ],
            "type": "heatmap"
           }
          ],
          "heatmapgl": [
           {
            "colorbar": {
             "outlinewidth": 0,
             "ticks": ""
            },
            "colorscale": [
             [
              0,
              "#0d0887"
             ],
             [
              0.1111111111111111,
              "#46039f"
             ],
             [
              0.2222222222222222,
              "#7201a8"
             ],
             [
              0.3333333333333333,
              "#9c179e"
             ],
             [
              0.4444444444444444,
              "#bd3786"
             ],
             [
              0.5555555555555556,
              "#d8576b"
             ],
             [
              0.6666666666666666,
              "#ed7953"
             ],
             [
              0.7777777777777778,
              "#fb9f3a"
             ],
             [
              0.8888888888888888,
              "#fdca26"
             ],
             [
              1,
              "#f0f921"
             ]
            ],
            "type": "heatmapgl"
           }
          ],
          "histogram": [
           {
            "marker": {
             "pattern": {
              "fillmode": "overlay",
              "size": 10,
              "solidity": 0.2
             }
            },
            "type": "histogram"
           }
          ],
          "histogram2d": [
           {
            "colorbar": {
             "outlinewidth": 0,
             "ticks": ""
            },
            "colorscale": [
             [
              0,
              "#0d0887"
             ],
             [
              0.1111111111111111,
              "#46039f"
             ],
             [
              0.2222222222222222,
              "#7201a8"
             ],
             [
              0.3333333333333333,
              "#9c179e"
             ],
             [
              0.4444444444444444,
              "#bd3786"
             ],
             [
              0.5555555555555556,
              "#d8576b"
             ],
             [
              0.6666666666666666,
              "#ed7953"
             ],
             [
              0.7777777777777778,
              "#fb9f3a"
             ],
             [
              0.8888888888888888,
              "#fdca26"
             ],
             [
              1,
              "#f0f921"
             ]
            ],
            "type": "histogram2d"
           }
          ],
          "histogram2dcontour": [
           {
            "colorbar": {
             "outlinewidth": 0,
             "ticks": ""
            },
            "colorscale": [
             [
              0,
              "#0d0887"
             ],
             [
              0.1111111111111111,
              "#46039f"
             ],
             [
              0.2222222222222222,
              "#7201a8"
             ],
             [
              0.3333333333333333,
              "#9c179e"
             ],
             [
              0.4444444444444444,
              "#bd3786"
             ],
             [
              0.5555555555555556,
              "#d8576b"
             ],
             [
              0.6666666666666666,
              "#ed7953"
             ],
             [
              0.7777777777777778,
              "#fb9f3a"
             ],
             [
              0.8888888888888888,
              "#fdca26"
             ],
             [
              1,
              "#f0f921"
             ]
            ],
            "type": "histogram2dcontour"
           }
          ],
          "mesh3d": [
           {
            "colorbar": {
             "outlinewidth": 0,
             "ticks": ""
            },
            "type": "mesh3d"
           }
          ],
          "parcoords": [
           {
            "line": {
             "colorbar": {
              "outlinewidth": 0,
              "ticks": ""
             }
            },
            "type": "parcoords"
           }
          ],
          "pie": [
           {
            "automargin": true,
            "type": "pie"
           }
          ],
          "scatter": [
           {
            "fillpattern": {
             "fillmode": "overlay",
             "size": 10,
             "solidity": 0.2
            },
            "type": "scatter"
           }
          ],
          "scatter3d": [
           {
            "line": {
             "colorbar": {
              "outlinewidth": 0,
              "ticks": ""
             }
            },
            "marker": {
             "colorbar": {
              "outlinewidth": 0,
              "ticks": ""
             }
            },
            "type": "scatter3d"
           }
          ],
          "scattercarpet": [
           {
            "marker": {
             "colorbar": {
              "outlinewidth": 0,
              "ticks": ""
             }
            },
            "type": "scattercarpet"
           }
          ],
          "scattergeo": [
           {
            "marker": {
             "colorbar": {
              "outlinewidth": 0,
              "ticks": ""
             }
            },
            "type": "scattergeo"
           }
          ],
          "scattergl": [
           {
            "marker": {
             "colorbar": {
              "outlinewidth": 0,
              "ticks": ""
             }
            },
            "type": "scattergl"
           }
          ],
          "scattermapbox": [
           {
            "marker": {
             "colorbar": {
              "outlinewidth": 0,
              "ticks": ""
             }
            },
            "type": "scattermapbox"
           }
          ],
          "scatterpolar": [
           {
            "marker": {
             "colorbar": {
              "outlinewidth": 0,
              "ticks": ""
             }
            },
            "type": "scatterpolar"
           }
          ],
          "scatterpolargl": [
           {
            "marker": {
             "colorbar": {
              "outlinewidth": 0,
              "ticks": ""
             }
            },
            "type": "scatterpolargl"
           }
          ],
          "scatterternary": [
           {
            "marker": {
             "colorbar": {
              "outlinewidth": 0,
              "ticks": ""
             }
            },
            "type": "scatterternary"
           }
          ],
          "surface": [
           {
            "colorbar": {
             "outlinewidth": 0,
             "ticks": ""
            },
            "colorscale": [
             [
              0,
              "#0d0887"
             ],
             [
              0.1111111111111111,
              "#46039f"
             ],
             [
              0.2222222222222222,
              "#7201a8"
             ],
             [
              0.3333333333333333,
              "#9c179e"
             ],
             [
              0.4444444444444444,
              "#bd3786"
             ],
             [
              0.5555555555555556,
              "#d8576b"
             ],
             [
              0.6666666666666666,
              "#ed7953"
             ],
             [
              0.7777777777777778,
              "#fb9f3a"
             ],
             [
              0.8888888888888888,
              "#fdca26"
             ],
             [
              1,
              "#f0f921"
             ]
            ],
            "type": "surface"
           }
          ],
          "table": [
           {
            "cells": {
             "fill": {
              "color": "#EBF0F8"
             },
             "line": {
              "color": "white"
             }
            },
            "header": {
             "fill": {
              "color": "#C8D4E3"
             },
             "line": {
              "color": "white"
             }
            },
            "type": "table"
           }
          ]
         },
         "layout": {
          "annotationdefaults": {
           "arrowcolor": "#2a3f5f",
           "arrowhead": 0,
           "arrowwidth": 1
          },
          "autotypenumbers": "strict",
          "coloraxis": {
           "colorbar": {
            "outlinewidth": 0,
            "ticks": ""
           }
          },
          "colorscale": {
           "diverging": [
            [
             0,
             "#8e0152"
            ],
            [
             0.1,
             "#c51b7d"
            ],
            [
             0.2,
             "#de77ae"
            ],
            [
             0.3,
             "#f1b6da"
            ],
            [
             0.4,
             "#fde0ef"
            ],
            [
             0.5,
             "#f7f7f7"
            ],
            [
             0.6,
             "#e6f5d0"
            ],
            [
             0.7,
             "#b8e186"
            ],
            [
             0.8,
             "#7fbc41"
            ],
            [
             0.9,
             "#4d9221"
            ],
            [
             1,
             "#276419"
            ]
           ],
           "sequential": [
            [
             0,
             "#0d0887"
            ],
            [
             0.1111111111111111,
             "#46039f"
            ],
            [
             0.2222222222222222,
             "#7201a8"
            ],
            [
             0.3333333333333333,
             "#9c179e"
            ],
            [
             0.4444444444444444,
             "#bd3786"
            ],
            [
             0.5555555555555556,
             "#d8576b"
            ],
            [
             0.6666666666666666,
             "#ed7953"
            ],
            [
             0.7777777777777778,
             "#fb9f3a"
            ],
            [
             0.8888888888888888,
             "#fdca26"
            ],
            [
             1,
             "#f0f921"
            ]
           ],
           "sequentialminus": [
            [
             0,
             "#0d0887"
            ],
            [
             0.1111111111111111,
             "#46039f"
            ],
            [
             0.2222222222222222,
             "#7201a8"
            ],
            [
             0.3333333333333333,
             "#9c179e"
            ],
            [
             0.4444444444444444,
             "#bd3786"
            ],
            [
             0.5555555555555556,
             "#d8576b"
            ],
            [
             0.6666666666666666,
             "#ed7953"
            ],
            [
             0.7777777777777778,
             "#fb9f3a"
            ],
            [
             0.8888888888888888,
             "#fdca26"
            ],
            [
             1,
             "#f0f921"
            ]
           ]
          },
          "colorway": [
           "#636efa",
           "#EF553B",
           "#00cc96",
           "#ab63fa",
           "#FFA15A",
           "#19d3f3",
           "#FF6692",
           "#B6E880",
           "#FF97FF",
           "#FECB52"
          ],
          "font": {
           "color": "#2a3f5f"
          },
          "geo": {
           "bgcolor": "white",
           "lakecolor": "white",
           "landcolor": "#E5ECF6",
           "showlakes": true,
           "showland": true,
           "subunitcolor": "white"
          },
          "hoverlabel": {
           "align": "left"
          },
          "hovermode": "closest",
          "mapbox": {
           "style": "light"
          },
          "paper_bgcolor": "white",
          "plot_bgcolor": "#E5ECF6",
          "polar": {
           "angularaxis": {
            "gridcolor": "white",
            "linecolor": "white",
            "ticks": ""
           },
           "bgcolor": "#E5ECF6",
           "radialaxis": {
            "gridcolor": "white",
            "linecolor": "white",
            "ticks": ""
           }
          },
          "scene": {
           "xaxis": {
            "backgroundcolor": "#E5ECF6",
            "gridcolor": "white",
            "gridwidth": 2,
            "linecolor": "white",
            "showbackground": true,
            "ticks": "",
            "zerolinecolor": "white"
           },
           "yaxis": {
            "backgroundcolor": "#E5ECF6",
            "gridcolor": "white",
            "gridwidth": 2,
            "linecolor": "white",
            "showbackground": true,
            "ticks": "",
            "zerolinecolor": "white"
           },
           "zaxis": {
            "backgroundcolor": "#E5ECF6",
            "gridcolor": "white",
            "gridwidth": 2,
            "linecolor": "white",
            "showbackground": true,
            "ticks": "",
            "zerolinecolor": "white"
           }
          },
          "shapedefaults": {
           "line": {
            "color": "#2a3f5f"
           }
          },
          "ternary": {
           "aaxis": {
            "gridcolor": "white",
            "linecolor": "white",
            "ticks": ""
           },
           "baxis": {
            "gridcolor": "white",
            "linecolor": "white",
            "ticks": ""
           },
           "bgcolor": "#E5ECF6",
           "caxis": {
            "gridcolor": "white",
            "linecolor": "white",
            "ticks": ""
           }
          },
          "title": {
           "x": 0.05
          },
          "xaxis": {
           "automargin": true,
           "gridcolor": "white",
           "linecolor": "white",
           "ticks": "",
           "title": {
            "standoff": 15
           },
           "zerolinecolor": "white",
           "zerolinewidth": 2
          },
          "yaxis": {
           "automargin": true,
           "gridcolor": "white",
           "linecolor": "white",
           "ticks": "",
           "title": {
            "standoff": 15
           },
           "zerolinecolor": "white",
           "zerolinewidth": 2
          }
         }
        },
        "title": {
         "text": "Hotel Ratings Distribution"
        },
        "width": 800,
        "xaxis": {
         "anchor": "y",
         "domain": [
          0,
          1
         ],
         "title": {
          "text": "ratings"
         }
        },
        "yaxis": {
         "anchor": "x",
         "domain": [
          0,
          1
         ],
         "title": {
          "text": "count"
         }
        }
       }
      },
      "text/html": [
       "<div>                            <div id=\"90f06751-744f-457a-a4f0-c9ffa62583c1\" class=\"plotly-graph-div\" style=\"height:400px; width:800px;\"></div>            <script type=\"text/javascript\">                require([\"plotly\"], function(Plotly) {                    window.PLOTLYENV=window.PLOTLYENV || {};                                    if (document.getElementById(\"90f06751-744f-457a-a4f0-c9ffa62583c1\")) {                    Plotly.newPlot(                        \"90f06751-744f-457a-a4f0-c9ffa62583c1\",                        [{\"alignmentgroup\":\"True\",\"bingroup\":\"x\",\"hovertemplate\":\"ratings=%{x}\\u003cbr\\u003ecount=%{y}\\u003cextra\\u003e\\u003c\\u002fextra\\u003e\",\"legendgroup\":\"\",\"marker\":{\"color\":\"pink\",\"pattern\":{\"shape\":\"\"},\"line\":{\"color\":\"orchid\",\"width\":1.5}},\"name\":\"\",\"offsetgroup\":\"\",\"orientation\":\"v\",\"showlegend\":false,\"x\":[4.5,4.5,4.5,4.0,4.5,4.5,4.0,4.5,4.5,4.5,4.5,4.0,5.0,4.5,4.5,4.0,4.0,3.5,4.5,4.0,4.0,5.0,3.5,4.5,4.0,3.5,3.0,4.0,4.0,4.5,4.5,4.5,4.5,4.5,4.5,4.5,4.5,4.5,4.0,4.0,4.0,4.0,4.5,4.0,4.5,4.0,4.5,4.0,3.5,4.0,4.0,4.0,4.5,3.5,4.0,3.5,4.0,3.5,3.5,2.5,4.5,4.5,4.0,4.5,4.0,4.5,4.5,4.0,4.5,4.5,4.0,4.5,4.0,4.0,4.0,4.5,4.5,4.0,4.0,4.0,4.0,3.5,4.0,3.5,3.5,4.0,3.5,3.5,4.5,3.5,4.5,4.5,4.0,4.0,4.5,4.5,4.0,3.5,4.5,4.5,4.5,4.0,4.0,4.0,4.5,4.5,4.0,4.0,4.0,4.0,3.0,3.5,4.5,3.5,3.5,4.0,4.0,4.0,3.5,3.5,4.5,4.5,4.5,4.5,4.5,4.0,4.0,4.0,4.5,4.0,4.5,4.0,4.0,4.5,3.5,4.0,4.0,4.0,4.0,3.5,4.5,3.5,4.0,3.5,5.0,3.5,4.0,3.0,3.5,2.5,4.5,4.5,4.5,4.0,4.0,4.5,3.5,4.5,4.0,4.0,3.5,3.5,4.0,3.5,4.0,3.5,4.0,4.0,4.0,3.5,4.0,4.5,3.5,3.0,3.5,3.5,2.5,2.5,2.5,2.5,4.5,4.0,4.5,3.5,4.0,4.0,4.0,4.0,3.5,3.5,4.0,4.0,4.0,5.0,3.5,4.5,4.5,3.5,3.5,4.0,3.5,4.0,3.5,3.0,3.5,3.5,3.0,1.5,2.5,2.5,4.5,4.5,4.0,4.5,4.5,4.5,4.5,5.0,4.5,4.5,4.5,4.5,4.0,4.5,4.5,3.5,4.5,4.5,3.0,3.5,4.0,3.5,4.0,5.0,4.5,4.0,3.0,3.5,3.0,3.5,5.0,5.0,4.5,4.5,4.5,4.0,4.0,4.5,4.5,4.5,4.0,4.5,3.0,4.5,3.5,3.5,3.5,3.5,3.5,5.0,5.0,3.5,5.0,3.5,4.0,4.5,3.0,3.5,2.5,2.0,5.0,3.5,4.5,3.5,3.5,4.0,4.0,4.0,5.0,5.0,3.5,4.5,3.5,4.5,5.0,5.0,5.0,4.0,5.0,4.0,5.0,4.0,4.5,5.0,4.5,4.5,3.5,5.0,5.0,5.0],\"xaxis\":\"x\",\"yaxis\":\"y\",\"type\":\"histogram\"}],                        {\"template\":{\"data\":{\"histogram2dcontour\":[{\"type\":\"histogram2dcontour\",\"colorbar\":{\"outlinewidth\":0,\"ticks\":\"\"},\"colorscale\":[[0.0,\"#0d0887\"],[0.1111111111111111,\"#46039f\"],[0.2222222222222222,\"#7201a8\"],[0.3333333333333333,\"#9c179e\"],[0.4444444444444444,\"#bd3786\"],[0.5555555555555556,\"#d8576b\"],[0.6666666666666666,\"#ed7953\"],[0.7777777777777778,\"#fb9f3a\"],[0.8888888888888888,\"#fdca26\"],[1.0,\"#f0f921\"]]}],\"choropleth\":[{\"type\":\"choropleth\",\"colorbar\":{\"outlinewidth\":0,\"ticks\":\"\"}}],\"histogram2d\":[{\"type\":\"histogram2d\",\"colorbar\":{\"outlinewidth\":0,\"ticks\":\"\"},\"colorscale\":[[0.0,\"#0d0887\"],[0.1111111111111111,\"#46039f\"],[0.2222222222222222,\"#7201a8\"],[0.3333333333333333,\"#9c179e\"],[0.4444444444444444,\"#bd3786\"],[0.5555555555555556,\"#d8576b\"],[0.6666666666666666,\"#ed7953\"],[0.7777777777777778,\"#fb9f3a\"],[0.8888888888888888,\"#fdca26\"],[1.0,\"#f0f921\"]]}],\"heatmap\":[{\"type\":\"heatmap\",\"colorbar\":{\"outlinewidth\":0,\"ticks\":\"\"},\"colorscale\":[[0.0,\"#0d0887\"],[0.1111111111111111,\"#46039f\"],[0.2222222222222222,\"#7201a8\"],[0.3333333333333333,\"#9c179e\"],[0.4444444444444444,\"#bd3786\"],[0.5555555555555556,\"#d8576b\"],[0.6666666666666666,\"#ed7953\"],[0.7777777777777778,\"#fb9f3a\"],[0.8888888888888888,\"#fdca26\"],[1.0,\"#f0f921\"]]}],\"heatmapgl\":[{\"type\":\"heatmapgl\",\"colorbar\":{\"outlinewidth\":0,\"ticks\":\"\"},\"colorscale\":[[0.0,\"#0d0887\"],[0.1111111111111111,\"#46039f\"],[0.2222222222222222,\"#7201a8\"],[0.3333333333333333,\"#9c179e\"],[0.4444444444444444,\"#bd3786\"],[0.5555555555555556,\"#d8576b\"],[0.6666666666666666,\"#ed7953\"],[0.7777777777777778,\"#fb9f3a\"],[0.8888888888888888,\"#fdca26\"],[1.0,\"#f0f921\"]]}],\"contourcarpet\":[{\"type\":\"contourcarpet\",\"colorbar\":{\"outlinewidth\":0,\"ticks\":\"\"}}],\"contour\":[{\"type\":\"contour\",\"colorbar\":{\"outlinewidth\":0,\"ticks\":\"\"},\"colorscale\":[[0.0,\"#0d0887\"],[0.1111111111111111,\"#46039f\"],[0.2222222222222222,\"#7201a8\"],[0.3333333333333333,\"#9c179e\"],[0.4444444444444444,\"#bd3786\"],[0.5555555555555556,\"#d8576b\"],[0.6666666666666666,\"#ed7953\"],[0.7777777777777778,\"#fb9f3a\"],[0.8888888888888888,\"#fdca26\"],[1.0,\"#f0f921\"]]}],\"surface\":[{\"type\":\"surface\",\"colorbar\":{\"outlinewidth\":0,\"ticks\":\"\"},\"colorscale\":[[0.0,\"#0d0887\"],[0.1111111111111111,\"#46039f\"],[0.2222222222222222,\"#7201a8\"],[0.3333333333333333,\"#9c179e\"],[0.4444444444444444,\"#bd3786\"],[0.5555555555555556,\"#d8576b\"],[0.6666666666666666,\"#ed7953\"],[0.7777777777777778,\"#fb9f3a\"],[0.8888888888888888,\"#fdca26\"],[1.0,\"#f0f921\"]]}],\"mesh3d\":[{\"type\":\"mesh3d\",\"colorbar\":{\"outlinewidth\":0,\"ticks\":\"\"}}],\"scatter\":[{\"fillpattern\":{\"fillmode\":\"overlay\",\"size\":10,\"solidity\":0.2},\"type\":\"scatter\"}],\"parcoords\":[{\"type\":\"parcoords\",\"line\":{\"colorbar\":{\"outlinewidth\":0,\"ticks\":\"\"}}}],\"scatterpolargl\":[{\"type\":\"scatterpolargl\",\"marker\":{\"colorbar\":{\"outlinewidth\":0,\"ticks\":\"\"}}}],\"bar\":[{\"error_x\":{\"color\":\"#2a3f5f\"},\"error_y\":{\"color\":\"#2a3f5f\"},\"marker\":{\"line\":{\"color\":\"#E5ECF6\",\"width\":0.5},\"pattern\":{\"fillmode\":\"overlay\",\"size\":10,\"solidity\":0.2}},\"type\":\"bar\"}],\"scattergeo\":[{\"type\":\"scattergeo\",\"marker\":{\"colorbar\":{\"outlinewidth\":0,\"ticks\":\"\"}}}],\"scatterpolar\":[{\"type\":\"scatterpolar\",\"marker\":{\"colorbar\":{\"outlinewidth\":0,\"ticks\":\"\"}}}],\"histogram\":[{\"marker\":{\"pattern\":{\"fillmode\":\"overlay\",\"size\":10,\"solidity\":0.2}},\"type\":\"histogram\"}],\"scattergl\":[{\"type\":\"scattergl\",\"marker\":{\"colorbar\":{\"outlinewidth\":0,\"ticks\":\"\"}}}],\"scatter3d\":[{\"type\":\"scatter3d\",\"line\":{\"colorbar\":{\"outlinewidth\":0,\"ticks\":\"\"}},\"marker\":{\"colorbar\":{\"outlinewidth\":0,\"ticks\":\"\"}}}],\"scattermapbox\":[{\"type\":\"scattermapbox\",\"marker\":{\"colorbar\":{\"outlinewidth\":0,\"ticks\":\"\"}}}],\"scatterternary\":[{\"type\":\"scatterternary\",\"marker\":{\"colorbar\":{\"outlinewidth\":0,\"ticks\":\"\"}}}],\"scattercarpet\":[{\"type\":\"scattercarpet\",\"marker\":{\"colorbar\":{\"outlinewidth\":0,\"ticks\":\"\"}}}],\"carpet\":[{\"aaxis\":{\"endlinecolor\":\"#2a3f5f\",\"gridcolor\":\"white\",\"linecolor\":\"white\",\"minorgridcolor\":\"white\",\"startlinecolor\":\"#2a3f5f\"},\"baxis\":{\"endlinecolor\":\"#2a3f5f\",\"gridcolor\":\"white\",\"linecolor\":\"white\",\"minorgridcolor\":\"white\",\"startlinecolor\":\"#2a3f5f\"},\"type\":\"carpet\"}],\"table\":[{\"cells\":{\"fill\":{\"color\":\"#EBF0F8\"},\"line\":{\"color\":\"white\"}},\"header\":{\"fill\":{\"color\":\"#C8D4E3\"},\"line\":{\"color\":\"white\"}},\"type\":\"table\"}],\"barpolar\":[{\"marker\":{\"line\":{\"color\":\"#E5ECF6\",\"width\":0.5},\"pattern\":{\"fillmode\":\"overlay\",\"size\":10,\"solidity\":0.2}},\"type\":\"barpolar\"}],\"pie\":[{\"automargin\":true,\"type\":\"pie\"}]},\"layout\":{\"autotypenumbers\":\"strict\",\"colorway\":[\"#636efa\",\"#EF553B\",\"#00cc96\",\"#ab63fa\",\"#FFA15A\",\"#19d3f3\",\"#FF6692\",\"#B6E880\",\"#FF97FF\",\"#FECB52\"],\"font\":{\"color\":\"#2a3f5f\"},\"hovermode\":\"closest\",\"hoverlabel\":{\"align\":\"left\"},\"paper_bgcolor\":\"white\",\"plot_bgcolor\":\"#E5ECF6\",\"polar\":{\"bgcolor\":\"#E5ECF6\",\"angularaxis\":{\"gridcolor\":\"white\",\"linecolor\":\"white\",\"ticks\":\"\"},\"radialaxis\":{\"gridcolor\":\"white\",\"linecolor\":\"white\",\"ticks\":\"\"}},\"ternary\":{\"bgcolor\":\"#E5ECF6\",\"aaxis\":{\"gridcolor\":\"white\",\"linecolor\":\"white\",\"ticks\":\"\"},\"baxis\":{\"gridcolor\":\"white\",\"linecolor\":\"white\",\"ticks\":\"\"},\"caxis\":{\"gridcolor\":\"white\",\"linecolor\":\"white\",\"ticks\":\"\"}},\"coloraxis\":{\"colorbar\":{\"outlinewidth\":0,\"ticks\":\"\"}},\"colorscale\":{\"sequential\":[[0.0,\"#0d0887\"],[0.1111111111111111,\"#46039f\"],[0.2222222222222222,\"#7201a8\"],[0.3333333333333333,\"#9c179e\"],[0.4444444444444444,\"#bd3786\"],[0.5555555555555556,\"#d8576b\"],[0.6666666666666666,\"#ed7953\"],[0.7777777777777778,\"#fb9f3a\"],[0.8888888888888888,\"#fdca26\"],[1.0,\"#f0f921\"]],\"sequentialminus\":[[0.0,\"#0d0887\"],[0.1111111111111111,\"#46039f\"],[0.2222222222222222,\"#7201a8\"],[0.3333333333333333,\"#9c179e\"],[0.4444444444444444,\"#bd3786\"],[0.5555555555555556,\"#d8576b\"],[0.6666666666666666,\"#ed7953\"],[0.7777777777777778,\"#fb9f3a\"],[0.8888888888888888,\"#fdca26\"],[1.0,\"#f0f921\"]],\"diverging\":[[0,\"#8e0152\"],[0.1,\"#c51b7d\"],[0.2,\"#de77ae\"],[0.3,\"#f1b6da\"],[0.4,\"#fde0ef\"],[0.5,\"#f7f7f7\"],[0.6,\"#e6f5d0\"],[0.7,\"#b8e186\"],[0.8,\"#7fbc41\"],[0.9,\"#4d9221\"],[1,\"#276419\"]]},\"xaxis\":{\"gridcolor\":\"white\",\"linecolor\":\"white\",\"ticks\":\"\",\"title\":{\"standoff\":15},\"zerolinecolor\":\"white\",\"automargin\":true,\"zerolinewidth\":2},\"yaxis\":{\"gridcolor\":\"white\",\"linecolor\":\"white\",\"ticks\":\"\",\"title\":{\"standoff\":15},\"zerolinecolor\":\"white\",\"automargin\":true,\"zerolinewidth\":2},\"scene\":{\"xaxis\":{\"backgroundcolor\":\"#E5ECF6\",\"gridcolor\":\"white\",\"linecolor\":\"white\",\"showbackground\":true,\"ticks\":\"\",\"zerolinecolor\":\"white\",\"gridwidth\":2},\"yaxis\":{\"backgroundcolor\":\"#E5ECF6\",\"gridcolor\":\"white\",\"linecolor\":\"white\",\"showbackground\":true,\"ticks\":\"\",\"zerolinecolor\":\"white\",\"gridwidth\":2},\"zaxis\":{\"backgroundcolor\":\"#E5ECF6\",\"gridcolor\":\"white\",\"linecolor\":\"white\",\"showbackground\":true,\"ticks\":\"\",\"zerolinecolor\":\"white\",\"gridwidth\":2}},\"shapedefaults\":{\"line\":{\"color\":\"#2a3f5f\"}},\"annotationdefaults\":{\"arrowcolor\":\"#2a3f5f\",\"arrowhead\":0,\"arrowwidth\":1},\"geo\":{\"bgcolor\":\"white\",\"landcolor\":\"#E5ECF6\",\"subunitcolor\":\"white\",\"showland\":true,\"showlakes\":true,\"lakecolor\":\"white\"},\"title\":{\"x\":0.05},\"mapbox\":{\"style\":\"light\"}}},\"xaxis\":{\"anchor\":\"y\",\"domain\":[0.0,1.0],\"title\":{\"text\":\"ratings\"}},\"yaxis\":{\"anchor\":\"x\",\"domain\":[0.0,1.0],\"title\":{\"text\":\"count\"}},\"legend\":{\"tracegroupgap\":0},\"margin\":{\"t\":60},\"barmode\":\"relative\",\"height\":400,\"width\":800,\"title\":{\"text\":\"Hotel Ratings Distribution\"}},                        {\"responsive\": true}                    ).then(function(){\n",
       "                            \n",
       "var gd = document.getElementById('90f06751-744f-457a-a4f0-c9ffa62583c1');\n",
       "var x = new MutationObserver(function (mutations, observer) {{\n",
       "        var display = window.getComputedStyle(gd).display;\n",
       "        if (!display || display === 'none') {{\n",
       "            console.log([gd, 'removed!']);\n",
       "            Plotly.purge(gd);\n",
       "            observer.disconnect();\n",
       "        }}\n",
       "}});\n",
       "\n",
       "// Listen for the removal of the full notebook cells\n",
       "var notebookContainer = gd.closest('#notebook-container');\n",
       "if (notebookContainer) {{\n",
       "    x.observe(notebookContainer, {childList: true});\n",
       "}}\n",
       "\n",
       "// Listen for the clearing of the current output cell\n",
       "var outputEl = gd.closest('.output');\n",
       "if (outputEl) {{\n",
       "    x.observe(outputEl, {childList: true});\n",
       "}}\n",
       "\n",
       "                        })                };                });            </script>        </div>"
      ]
     },
     "metadata": {},
     "output_type": "display_data"
    }
   ],
   "source": [
    "color = sns.color_palette()\n",
    "%matplotlib inline\n",
    "fig = px.histogram(hotels_df, x=\"ratings\",  width=800, height=400)\n",
    "fig.update_traces(marker_color=\"pink\",marker_line_color='orchid',\n",
    "                  marker_line_width=1.5)\n",
    "fig.update_layout(title_text='Hotel Ratings Distribution')\n",
    "fig.show()"
   ]
  },
  {
   "attachments": {},
   "cell_type": "markdown",
   "metadata": {},
   "source": [
    "There are less hotels with a ratings score of less than 3. Majority of hotel guests that have written a review have a positive experience. "
   ]
  },
  {
   "attachments": {},
   "cell_type": "markdown",
   "metadata": {},
   "source": [
    "## Data Cleaning & Processing"
   ]
  },
  {
   "attachments": {},
   "cell_type": "markdown",
   "metadata": {},
   "source": [
    "Functions for text cleaning & Tokenization:"
   ]
  },
  {
   "cell_type": "code",
   "execution_count": 22,
   "metadata": {},
   "outputs": [],
   "source": [
    "#punctuation\n",
    "punctuation = set(punctuation) \n",
    "tw_punct = punctuation - {\"#\"}\n",
    "\n",
    "#stopwords and null removal\n",
    "\n",
    "sw = stopwords.words(\"english\")\n",
    "sw = sw + ['nan']\n",
    "\n",
    "# Two useful regex\n",
    "whitespace_pattern = re.compile(r\"\\s+\")\n",
    "hashtag_pattern = re.compile(r\"^#[0-9a-zA-Z]+\")\n",
    "\n",
    "\n",
    "# and now our functions\n",
    "def descriptive_stats(tokens, num_tokens = 5, verbose=True) :\n",
    "    \"\"\"\n",
    "        Given a list of tokens, print number of tokens, number of unique tokens, \n",
    "        number of characters, lexical diversity, and num_tokens most common\n",
    "        tokens. Return a list of \n",
    "    \"\"\"\n",
    "\n",
    "    num_tokens = len(tokens)\n",
    "    num_unique_tokens = len(set(tokens))\n",
    "    lexical_diversity = num_unique_tokens/num_tokens\n",
    "    num_characters = sum(len(token) for token in tokens)\n",
    "    \n",
    "    if verbose :        \n",
    "        print(f\"There are {num_tokens} tokens in the data.\")\n",
    "        print(f\"There are {num_unique_tokens} unique tokens in the data.\")\n",
    "        print(f\"There are {num_characters} characters in the data.\")\n",
    "        print(f\"The lexical diversity is {lexical_diversity:.3f} in the data.\")\n",
    "    \n",
    "        \n",
    "    return([num_tokens, num_unique_tokens,\n",
    "            lexical_diversity,\n",
    "            num_characters])    \n",
    "\n",
    "# Function to remove stop words:\n",
    "\n",
    "def remove_stop(tokens) :\n",
    "    \n",
    "\n",
    "    return[t for t in tokens if t not in sw]\n",
    " \n",
    "def remove_punctuation(text, punct_set=tw_punct) : \n",
    "    return(\"\".join([ch for ch in text if ch not in punct_set]))\n",
    "\n",
    "def tokenize(text) : \n",
    "    \"\"\" Splitting on whitespace rather than the book's tokenize function. That \n",
    "        function will drop tokens like '#hashtag' or '2A', which we need for Twitter. \"\"\"\n",
    "    \n",
    "    return([item.lower() for item in whitespace_pattern.split(text)])\n",
    "    \n",
    "\n",
    "full_pipeline = [str.lower, remove_punctuation, tokenize, remove_stop]\n",
    "\n",
    "\n",
    "def prepare(text, pipeline) : \n",
    "    tokens = str(text)\n",
    "    \n",
    "    for transform in pipeline : \n",
    "        tokens = transform(tokens)\n",
    "        \n",
    "    return(tokens)"
   ]
  },
  {
   "attachments": {},
   "cell_type": "markdown",
   "metadata": {},
   "source": [
    "### Cleaning & tokenizing the text data"
   ]
  },
  {
   "cell_type": "code",
   "execution_count": 30,
   "metadata": {},
   "outputs": [
    {
     "data": {
      "text/html": [
       "<div>\n",
       "<style scoped>\n",
       "    .dataframe tbody tr th:only-of-type {\n",
       "        vertical-align: middle;\n",
       "    }\n",
       "\n",
       "    .dataframe tbody tr th {\n",
       "        vertical-align: top;\n",
       "    }\n",
       "\n",
       "    .dataframe thead th {\n",
       "        text-align: right;\n",
       "    }\n",
       "</style>\n",
       "<table border=\"1\" class=\"dataframe\">\n",
       "  <thead>\n",
       "    <tr style=\"text-align: right;\">\n",
       "      <th></th>\n",
       "      <th>names</th>\n",
       "      <th>num_reviews</th>\n",
       "      <th>ratings</th>\n",
       "      <th>review_title</th>\n",
       "      <th>review_rating</th>\n",
       "      <th>review_summary</th>\n",
       "      <th>title_tokens</th>\n",
       "      <th>summary_tokens</th>\n",
       "    </tr>\n",
       "  </thead>\n",
       "  <tbody>\n",
       "    <tr>\n",
       "      <th>0</th>\n",
       "      <td>Bahia Resort Hotel</td>\n",
       "      <td>6358</td>\n",
       "      <td>4.5</td>\n",
       "      <td>[Beautiful Bahia in Sunny San Diego, Outstandi...</td>\n",
       "      <td>[4.5, 4.5, 4.5, 4.0, 4.5, 4.0, 4.5, 4.0, 4.5, ...</td>\n",
       "      <td>[What an amazing experience at the Bahia resor...</td>\n",
       "      <td>[beautiful, bahia, sunny, san, diego, outstand...</td>\n",
       "      <td>[amazing, experience, bahia, resort, hotel, lo...</td>\n",
       "    </tr>\n",
       "    <tr>\n",
       "      <th>1</th>\n",
       "      <td>Manchester Grand Hyatt San Diego</td>\n",
       "      <td>12629</td>\n",
       "      <td>4.5</td>\n",
       "      <td>[Beautiful resort in the center of San Diego, ...</td>\n",
       "      <td>[4.5, 4.5, 5.0, 4.5, 4.5, 4.0, 4.5, 4.5, 4.5, ...</td>\n",
       "      <td>[Explore the marina.  Amazing facility. I had ...</td>\n",
       "      <td>[beautiful, resort, center, san, diego, great,...</td>\n",
       "      <td>[explore, marina, amazing, facility, lunch, se...</td>\n",
       "    </tr>\n",
       "    <tr>\n",
       "      <th>2</th>\n",
       "      <td>Embassy Suites by Hilton San Diego Bay Downtown</td>\n",
       "      <td>3436</td>\n",
       "      <td>4.5</td>\n",
       "      <td>[Amazing place to stay!, Absolutely beautiful ...</td>\n",
       "      <td>[4.5, 4.5, 5.0, 4.5, 4.5, 4.0, 4.5, 4.5, 4.5, ...</td>\n",
       "      <td>[The staff is super friendly and helpful, espe...</td>\n",
       "      <td>[amazing, place, stay, absolutely, beautiful, ...</td>\n",
       "      <td>[staff, super, friendly, helpful, especially, ...</td>\n",
       "    </tr>\n",
       "    <tr>\n",
       "      <th>3</th>\n",
       "      <td>San Diego Mission Bay Resort</td>\n",
       "      <td>1357</td>\n",
       "      <td>4.0</td>\n",
       "      <td>[Staycation or Vacation. You decide!, Excellen...</td>\n",
       "      <td>[4.0, 4.0, 4.5, 4.0, 4.0, 3.5, 5.0, 4.5, 4.5, ...</td>\n",
       "      <td>[Arrive early for your day and check in. The s...</td>\n",
       "      <td>[staycation, vacation, decide, excellent, star...</td>\n",
       "      <td>[arrive, early, day, check, staff, give, call,...</td>\n",
       "    </tr>\n",
       "    <tr>\n",
       "      <th>4</th>\n",
       "      <td>Catamaran Resort Hotel and Spa</td>\n",
       "      <td>6747</td>\n",
       "      <td>4.5</td>\n",
       "      <td>[Love it!, Phenomenal stay!, Randy at Front De...</td>\n",
       "      <td>[4.5, 4.5, 5.0, 4.5, 4.5, 4.0, 4.5, 4.5, 4.5, ...</td>\n",
       "      <td>[We always have so much fun at this resort. Su...</td>\n",
       "      <td>[love, phenomenal, stay, randy, front, desk, m...</td>\n",
       "      <td>[always, much, fun, resort, super, family, pet...</td>\n",
       "    </tr>\n",
       "  </tbody>\n",
       "</table>\n",
       "</div>"
      ],
      "text/plain": [
       "                                             names  num_reviews  ratings  \\\n",
       "0                               Bahia Resort Hotel         6358      4.5   \n",
       "1                 Manchester Grand Hyatt San Diego        12629      4.5   \n",
       "2  Embassy Suites by Hilton San Diego Bay Downtown         3436      4.5   \n",
       "3                     San Diego Mission Bay Resort         1357      4.0   \n",
       "4                   Catamaran Resort Hotel and Spa         6747      4.5   \n",
       "\n",
       "                                        review_title  \\\n",
       "0  [Beautiful Bahia in Sunny San Diego, Outstandi...   \n",
       "1  [Beautiful resort in the center of San Diego, ...   \n",
       "2  [Amazing place to stay!, Absolutely beautiful ...   \n",
       "3  [Staycation or Vacation. You decide!, Excellen...   \n",
       "4  [Love it!, Phenomenal stay!, Randy at Front De...   \n",
       "\n",
       "                                       review_rating  \\\n",
       "0  [4.5, 4.5, 4.5, 4.0, 4.5, 4.0, 4.5, 4.0, 4.5, ...   \n",
       "1  [4.5, 4.5, 5.0, 4.5, 4.5, 4.0, 4.5, 4.5, 4.5, ...   \n",
       "2  [4.5, 4.5, 5.0, 4.5, 4.5, 4.0, 4.5, 4.5, 4.5, ...   \n",
       "3  [4.0, 4.0, 4.5, 4.0, 4.0, 3.5, 5.0, 4.5, 4.5, ...   \n",
       "4  [4.5, 4.5, 5.0, 4.5, 4.5, 4.0, 4.5, 4.5, 4.5, ...   \n",
       "\n",
       "                                      review_summary  \\\n",
       "0  [What an amazing experience at the Bahia resor...   \n",
       "1  [Explore the marina.  Amazing facility. I had ...   \n",
       "2  [The staff is super friendly and helpful, espe...   \n",
       "3  [Arrive early for your day and check in. The s...   \n",
       "4  [We always have so much fun at this resort. Su...   \n",
       "\n",
       "                                        title_tokens  \\\n",
       "0  [beautiful, bahia, sunny, san, diego, outstand...   \n",
       "1  [beautiful, resort, center, san, diego, great,...   \n",
       "2  [amazing, place, stay, absolutely, beautiful, ...   \n",
       "3  [staycation, vacation, decide, excellent, star...   \n",
       "4  [love, phenomenal, stay, randy, front, desk, m...   \n",
       "\n",
       "                                      summary_tokens  \n",
       "0  [amazing, experience, bahia, resort, hotel, lo...  \n",
       "1  [explore, marina, amazing, facility, lunch, se...  \n",
       "2  [staff, super, friendly, helpful, especially, ...  \n",
       "3  [arrive, early, day, check, staff, give, call,...  \n",
       "4  [always, much, fun, resort, super, family, pet...  "
      ]
     },
     "execution_count": 30,
     "metadata": {},
     "output_type": "execute_result"
    }
   ],
   "source": [
    "\n",
    "hotels_df['title_tokens']= hotels_df['review_title'].apply(prepare, pipeline=full_pipeline)\n",
    "hotels_df['summary_tokens']= hotels_df['review_summary'].apply(prepare, pipeline=full_pipeline)\n",
    "\n",
    "hotels_df.head()"
   ]
  },
  {
   "attachments": {},
   "cell_type": "markdown",
   "metadata": {},
   "source": [
    "### Lemmatization of the text data"
   ]
  },
  {
   "cell_type": "code",
   "execution_count": 34,
   "metadata": {},
   "outputs": [
    {
     "data": {
      "text/html": [
       "<div>\n",
       "<style scoped>\n",
       "    .dataframe tbody tr th:only-of-type {\n",
       "        vertical-align: middle;\n",
       "    }\n",
       "\n",
       "    .dataframe tbody tr th {\n",
       "        vertical-align: top;\n",
       "    }\n",
       "\n",
       "    .dataframe thead th {\n",
       "        text-align: right;\n",
       "    }\n",
       "</style>\n",
       "<table border=\"1\" class=\"dataframe\">\n",
       "  <thead>\n",
       "    <tr style=\"text-align: right;\">\n",
       "      <th></th>\n",
       "      <th>names</th>\n",
       "      <th>num_reviews</th>\n",
       "      <th>ratings</th>\n",
       "      <th>review_title</th>\n",
       "      <th>review_rating</th>\n",
       "      <th>review_summary</th>\n",
       "      <th>title_tokens</th>\n",
       "      <th>summary_tokens</th>\n",
       "      <th>title_lemma</th>\n",
       "      <th>summary_lemma</th>\n",
       "    </tr>\n",
       "  </thead>\n",
       "  <tbody>\n",
       "    <tr>\n",
       "      <th>0</th>\n",
       "      <td>Bahia Resort Hotel</td>\n",
       "      <td>6358</td>\n",
       "      <td>4.5</td>\n",
       "      <td>[Beautiful Bahia in Sunny San Diego, Outstandi...</td>\n",
       "      <td>[4.5, 4.5, 4.5, 4.0, 4.5, 4.0, 4.5, 4.0, 4.5, ...</td>\n",
       "      <td>[What an amazing experience at the Bahia resor...</td>\n",
       "      <td>[beautiful, bahia, sunny, san, diego, outstand...</td>\n",
       "      <td>[amazing, experience, bahia, resort, hotel, lo...</td>\n",
       "      <td>[beautiful, bahia, sunny, san, diego, outstand...</td>\n",
       "      <td>[amazing, experience, bahia, resort, hotel, lo...</td>\n",
       "    </tr>\n",
       "    <tr>\n",
       "      <th>1</th>\n",
       "      <td>Manchester Grand Hyatt San Diego</td>\n",
       "      <td>12629</td>\n",
       "      <td>4.5</td>\n",
       "      <td>[Beautiful resort in the center of San Diego, ...</td>\n",
       "      <td>[4.5, 4.5, 5.0, 4.5, 4.5, 4.0, 4.5, 4.5, 4.5, ...</td>\n",
       "      <td>[Explore the marina.  Amazing facility. I had ...</td>\n",
       "      <td>[beautiful, resort, center, san, diego, great,...</td>\n",
       "      <td>[explore, marina, amazing, facility, lunch, se...</td>\n",
       "      <td>[beautiful, resort, center, san, diego, great,...</td>\n",
       "      <td>[explore, marina, amazing, facility, lunch, se...</td>\n",
       "    </tr>\n",
       "    <tr>\n",
       "      <th>2</th>\n",
       "      <td>Embassy Suites by Hilton San Diego Bay Downtown</td>\n",
       "      <td>3436</td>\n",
       "      <td>4.5</td>\n",
       "      <td>[Amazing place to stay!, Absolutely beautiful ...</td>\n",
       "      <td>[4.5, 4.5, 5.0, 4.5, 4.5, 4.0, 4.5, 4.5, 4.5, ...</td>\n",
       "      <td>[The staff is super friendly and helpful, espe...</td>\n",
       "      <td>[amazing, place, stay, absolutely, beautiful, ...</td>\n",
       "      <td>[staff, super, friendly, helpful, especially, ...</td>\n",
       "      <td>[amazing, place, stay, absolutely, beautiful, ...</td>\n",
       "      <td>[staff, super, friendly, helpful, especially, ...</td>\n",
       "    </tr>\n",
       "    <tr>\n",
       "      <th>3</th>\n",
       "      <td>San Diego Mission Bay Resort</td>\n",
       "      <td>1357</td>\n",
       "      <td>4.0</td>\n",
       "      <td>[Staycation or Vacation. You decide!, Excellen...</td>\n",
       "      <td>[4.0, 4.0, 4.5, 4.0, 4.0, 3.5, 5.0, 4.5, 4.5, ...</td>\n",
       "      <td>[Arrive early for your day and check in. The s...</td>\n",
       "      <td>[staycation, vacation, decide, excellent, star...</td>\n",
       "      <td>[arrive, early, day, check, staff, give, call,...</td>\n",
       "      <td>[staycation, vacation, decide, excellent, star...</td>\n",
       "      <td>[arrive, early, day, check, staff, give, call,...</td>\n",
       "    </tr>\n",
       "    <tr>\n",
       "      <th>4</th>\n",
       "      <td>Catamaran Resort Hotel and Spa</td>\n",
       "      <td>6747</td>\n",
       "      <td>4.5</td>\n",
       "      <td>[Love it!, Phenomenal stay!, Randy at Front De...</td>\n",
       "      <td>[4.5, 4.5, 5.0, 4.5, 4.5, 4.0, 4.5, 4.5, 4.5, ...</td>\n",
       "      <td>[We always have so much fun at this resort. Su...</td>\n",
       "      <td>[love, phenomenal, stay, randy, front, desk, m...</td>\n",
       "      <td>[always, much, fun, resort, super, family, pet...</td>\n",
       "      <td>[love, phenomenal, stay, randy, front, desk, m...</td>\n",
       "      <td>[always, much, fun, resort, super, family, pet...</td>\n",
       "    </tr>\n",
       "  </tbody>\n",
       "</table>\n",
       "</div>"
      ],
      "text/plain": [
       "                                             names  num_reviews  ratings  \\\n",
       "0                               Bahia Resort Hotel         6358      4.5   \n",
       "1                 Manchester Grand Hyatt San Diego        12629      4.5   \n",
       "2  Embassy Suites by Hilton San Diego Bay Downtown         3436      4.5   \n",
       "3                     San Diego Mission Bay Resort         1357      4.0   \n",
       "4                   Catamaran Resort Hotel and Spa         6747      4.5   \n",
       "\n",
       "                                        review_title  \\\n",
       "0  [Beautiful Bahia in Sunny San Diego, Outstandi...   \n",
       "1  [Beautiful resort in the center of San Diego, ...   \n",
       "2  [Amazing place to stay!, Absolutely beautiful ...   \n",
       "3  [Staycation or Vacation. You decide!, Excellen...   \n",
       "4  [Love it!, Phenomenal stay!, Randy at Front De...   \n",
       "\n",
       "                                       review_rating  \\\n",
       "0  [4.5, 4.5, 4.5, 4.0, 4.5, 4.0, 4.5, 4.0, 4.5, ...   \n",
       "1  [4.5, 4.5, 5.0, 4.5, 4.5, 4.0, 4.5, 4.5, 4.5, ...   \n",
       "2  [4.5, 4.5, 5.0, 4.5, 4.5, 4.0, 4.5, 4.5, 4.5, ...   \n",
       "3  [4.0, 4.0, 4.5, 4.0, 4.0, 3.5, 5.0, 4.5, 4.5, ...   \n",
       "4  [4.5, 4.5, 5.0, 4.5, 4.5, 4.0, 4.5, 4.5, 4.5, ...   \n",
       "\n",
       "                                      review_summary  \\\n",
       "0  [What an amazing experience at the Bahia resor...   \n",
       "1  [Explore the marina.  Amazing facility. I had ...   \n",
       "2  [The staff is super friendly and helpful, espe...   \n",
       "3  [Arrive early for your day and check in. The s...   \n",
       "4  [We always have so much fun at this resort. Su...   \n",
       "\n",
       "                                        title_tokens  \\\n",
       "0  [beautiful, bahia, sunny, san, diego, outstand...   \n",
       "1  [beautiful, resort, center, san, diego, great,...   \n",
       "2  [amazing, place, stay, absolutely, beautiful, ...   \n",
       "3  [staycation, vacation, decide, excellent, star...   \n",
       "4  [love, phenomenal, stay, randy, front, desk, m...   \n",
       "\n",
       "                                      summary_tokens  \\\n",
       "0  [amazing, experience, bahia, resort, hotel, lo...   \n",
       "1  [explore, marina, amazing, facility, lunch, se...   \n",
       "2  [staff, super, friendly, helpful, especially, ...   \n",
       "3  [arrive, early, day, check, staff, give, call,...   \n",
       "4  [always, much, fun, resort, super, family, pet...   \n",
       "\n",
       "                                         title_lemma  \\\n",
       "0  [beautiful, bahia, sunny, san, diego, outstand...   \n",
       "1  [beautiful, resort, center, san, diego, great,...   \n",
       "2  [amazing, place, stay, absolutely, beautiful, ...   \n",
       "3  [staycation, vacation, decide, excellent, star...   \n",
       "4  [love, phenomenal, stay, randy, front, desk, m...   \n",
       "\n",
       "                                       summary_lemma  \n",
       "0  [amazing, experience, bahia, resort, hotel, lo...  \n",
       "1  [explore, marina, amazing, facility, lunch, se...  \n",
       "2  [staff, super, friendly, helpful, especially, ...  \n",
       "3  [arrive, early, day, check, staff, give, call,...  \n",
       "4  [always, much, fun, resort, super, family, pet...  "
      ]
     },
     "execution_count": 34,
     "metadata": {},
     "output_type": "execute_result"
    }
   ],
   "source": [
    "def word_lemmatizer(text):\n",
    "    lem_text = [WordNetLemmatizer().lemmatize(i) for i in text]\n",
    "    return lem_text\n",
    "\n",
    "hotels_df['title_lemma'] = hotels_df['title_tokens'].apply(lambda x: word_lemmatizer(x))\n",
    "hotels_df['summary_lemma'] = hotels_df['summary_tokens'].apply(lambda x: word_lemmatizer(x))\n",
    "\n",
    "hotels_df.head()"
   ]
  },
  {
   "attachments": {},
   "cell_type": "markdown",
   "metadata": {},
   "source": [
    "### Descriptive statistics"
   ]
  },
  {
   "attachments": {},
   "cell_type": "markdown",
   "metadata": {},
   "source": [
    "### Sentiment Analysis"
   ]
  },
  {
   "cell_type": "code",
   "execution_count": 36,
   "metadata": {},
   "outputs": [
    {
     "data": {
      "text/html": [
       "<div>\n",
       "<style scoped>\n",
       "    .dataframe tbody tr th:only-of-type {\n",
       "        vertical-align: middle;\n",
       "    }\n",
       "\n",
       "    .dataframe tbody tr th {\n",
       "        vertical-align: top;\n",
       "    }\n",
       "\n",
       "    .dataframe thead th {\n",
       "        text-align: right;\n",
       "    }\n",
       "</style>\n",
       "<table border=\"1\" class=\"dataframe\">\n",
       "  <thead>\n",
       "    <tr style=\"text-align: right;\">\n",
       "      <th></th>\n",
       "      <th>names</th>\n",
       "      <th>num_reviews</th>\n",
       "      <th>ratings</th>\n",
       "      <th>review_title</th>\n",
       "      <th>review_rating</th>\n",
       "      <th>review_summary</th>\n",
       "      <th>title_tokens</th>\n",
       "      <th>summary_tokens</th>\n",
       "      <th>title_lemma</th>\n",
       "      <th>summary_lemma</th>\n",
       "      <th>title_lemma_str</th>\n",
       "      <th>summary_lemma_str</th>\n",
       "    </tr>\n",
       "  </thead>\n",
       "  <tbody>\n",
       "    <tr>\n",
       "      <th>0</th>\n",
       "      <td>Bahia Resort Hotel</td>\n",
       "      <td>6358</td>\n",
       "      <td>4.5</td>\n",
       "      <td>[Beautiful Bahia in Sunny San Diego, Outstandi...</td>\n",
       "      <td>[4.5, 4.5, 4.5, 4.0, 4.5, 4.0, 4.5, 4.0, 4.5, ...</td>\n",
       "      <td>[What an amazing experience at the Bahia resor...</td>\n",
       "      <td>[beautiful, bahia, sunny, san, diego, outstand...</td>\n",
       "      <td>[amazing, experience, bahia, resort, hotel, lo...</td>\n",
       "      <td>[beautiful, bahia, sunny, san, diego, outstand...</td>\n",
       "      <td>[amazing, experience, bahia, resort, hotel, lo...</td>\n",
       "      <td>beautiful bahia sunny san diego outstanding la...</td>\n",
       "      <td>amazing experience bahia resort hotel long tri...</td>\n",
       "    </tr>\n",
       "    <tr>\n",
       "      <th>1</th>\n",
       "      <td>Manchester Grand Hyatt San Diego</td>\n",
       "      <td>12629</td>\n",
       "      <td>4.5</td>\n",
       "      <td>[Beautiful resort in the center of San Diego, ...</td>\n",
       "      <td>[4.5, 4.5, 5.0, 4.5, 4.5, 4.0, 4.5, 4.5, 4.5, ...</td>\n",
       "      <td>[Explore the marina.  Amazing facility. I had ...</td>\n",
       "      <td>[beautiful, resort, center, san, diego, great,...</td>\n",
       "      <td>[explore, marina, amazing, facility, lunch, se...</td>\n",
       "      <td>[beautiful, resort, center, san, diego, great,...</td>\n",
       "      <td>[explore, marina, amazing, facility, lunch, se...</td>\n",
       "      <td>beautiful resort center san diego great stay n...</td>\n",
       "      <td>explore marina amazing facility lunch seafood ...</td>\n",
       "    </tr>\n",
       "    <tr>\n",
       "      <th>2</th>\n",
       "      <td>Embassy Suites by Hilton San Diego Bay Downtown</td>\n",
       "      <td>3436</td>\n",
       "      <td>4.5</td>\n",
       "      <td>[Amazing place to stay!, Absolutely beautiful ...</td>\n",
       "      <td>[4.5, 4.5, 5.0, 4.5, 4.5, 4.0, 4.5, 4.5, 4.5, ...</td>\n",
       "      <td>[The staff is super friendly and helpful, espe...</td>\n",
       "      <td>[amazing, place, stay, absolutely, beautiful, ...</td>\n",
       "      <td>[staff, super, friendly, helpful, especially, ...</td>\n",
       "      <td>[amazing, place, stay, absolutely, beautiful, ...</td>\n",
       "      <td>[staff, super, friendly, helpful, especially, ...</td>\n",
       "      <td>amazing place stay absolutely beautiful clean ...</td>\n",
       "      <td>staff super friendly helpful especially ida st...</td>\n",
       "    </tr>\n",
       "    <tr>\n",
       "      <th>3</th>\n",
       "      <td>San Diego Mission Bay Resort</td>\n",
       "      <td>1357</td>\n",
       "      <td>4.0</td>\n",
       "      <td>[Staycation or Vacation. You decide!, Excellen...</td>\n",
       "      <td>[4.0, 4.0, 4.5, 4.0, 4.0, 3.5, 5.0, 4.5, 4.5, ...</td>\n",
       "      <td>[Arrive early for your day and check in. The s...</td>\n",
       "      <td>[staycation, vacation, decide, excellent, star...</td>\n",
       "      <td>[arrive, early, day, check, staff, give, call,...</td>\n",
       "      <td>[staycation, vacation, decide, excellent, star...</td>\n",
       "      <td>[arrive, early, day, check, staff, give, call,...</td>\n",
       "      <td>staycation vacation decide excellent start fin...</td>\n",
       "      <td>arrive early day check staff give call room re...</td>\n",
       "    </tr>\n",
       "    <tr>\n",
       "      <th>4</th>\n",
       "      <td>Catamaran Resort Hotel and Spa</td>\n",
       "      <td>6747</td>\n",
       "      <td>4.5</td>\n",
       "      <td>[Love it!, Phenomenal stay!, Randy at Front De...</td>\n",
       "      <td>[4.5, 4.5, 5.0, 4.5, 4.5, 4.0, 4.5, 4.5, 4.5, ...</td>\n",
       "      <td>[We always have so much fun at this resort. Su...</td>\n",
       "      <td>[love, phenomenal, stay, randy, front, desk, m...</td>\n",
       "      <td>[always, much, fun, resort, super, family, pet...</td>\n",
       "      <td>[love, phenomenal, stay, randy, front, desk, m...</td>\n",
       "      <td>[always, much, fun, resort, super, family, pet...</td>\n",
       "      <td>love phenomenal stay randy front desk made sta...</td>\n",
       "      <td>always much fun resort super family pet friend...</td>\n",
       "    </tr>\n",
       "  </tbody>\n",
       "</table>\n",
       "</div>"
      ],
      "text/plain": [
       "                                             names  num_reviews  ratings  \\\n",
       "0                               Bahia Resort Hotel         6358      4.5   \n",
       "1                 Manchester Grand Hyatt San Diego        12629      4.5   \n",
       "2  Embassy Suites by Hilton San Diego Bay Downtown         3436      4.5   \n",
       "3                     San Diego Mission Bay Resort         1357      4.0   \n",
       "4                   Catamaran Resort Hotel and Spa         6747      4.5   \n",
       "\n",
       "                                        review_title  \\\n",
       "0  [Beautiful Bahia in Sunny San Diego, Outstandi...   \n",
       "1  [Beautiful resort in the center of San Diego, ...   \n",
       "2  [Amazing place to stay!, Absolutely beautiful ...   \n",
       "3  [Staycation or Vacation. You decide!, Excellen...   \n",
       "4  [Love it!, Phenomenal stay!, Randy at Front De...   \n",
       "\n",
       "                                       review_rating  \\\n",
       "0  [4.5, 4.5, 4.5, 4.0, 4.5, 4.0, 4.5, 4.0, 4.5, ...   \n",
       "1  [4.5, 4.5, 5.0, 4.5, 4.5, 4.0, 4.5, 4.5, 4.5, ...   \n",
       "2  [4.5, 4.5, 5.0, 4.5, 4.5, 4.0, 4.5, 4.5, 4.5, ...   \n",
       "3  [4.0, 4.0, 4.5, 4.0, 4.0, 3.5, 5.0, 4.5, 4.5, ...   \n",
       "4  [4.5, 4.5, 5.0, 4.5, 4.5, 4.0, 4.5, 4.5, 4.5, ...   \n",
       "\n",
       "                                      review_summary  \\\n",
       "0  [What an amazing experience at the Bahia resor...   \n",
       "1  [Explore the marina.  Amazing facility. I had ...   \n",
       "2  [The staff is super friendly and helpful, espe...   \n",
       "3  [Arrive early for your day and check in. The s...   \n",
       "4  [We always have so much fun at this resort. Su...   \n",
       "\n",
       "                                        title_tokens  \\\n",
       "0  [beautiful, bahia, sunny, san, diego, outstand...   \n",
       "1  [beautiful, resort, center, san, diego, great,...   \n",
       "2  [amazing, place, stay, absolutely, beautiful, ...   \n",
       "3  [staycation, vacation, decide, excellent, star...   \n",
       "4  [love, phenomenal, stay, randy, front, desk, m...   \n",
       "\n",
       "                                      summary_tokens  \\\n",
       "0  [amazing, experience, bahia, resort, hotel, lo...   \n",
       "1  [explore, marina, amazing, facility, lunch, se...   \n",
       "2  [staff, super, friendly, helpful, especially, ...   \n",
       "3  [arrive, early, day, check, staff, give, call,...   \n",
       "4  [always, much, fun, resort, super, family, pet...   \n",
       "\n",
       "                                         title_lemma  \\\n",
       "0  [beautiful, bahia, sunny, san, diego, outstand...   \n",
       "1  [beautiful, resort, center, san, diego, great,...   \n",
       "2  [amazing, place, stay, absolutely, beautiful, ...   \n",
       "3  [staycation, vacation, decide, excellent, star...   \n",
       "4  [love, phenomenal, stay, randy, front, desk, m...   \n",
       "\n",
       "                                       summary_lemma  \\\n",
       "0  [amazing, experience, bahia, resort, hotel, lo...   \n",
       "1  [explore, marina, amazing, facility, lunch, se...   \n",
       "2  [staff, super, friendly, helpful, especially, ...   \n",
       "3  [arrive, early, day, check, staff, give, call,...   \n",
       "4  [always, much, fun, resort, super, family, pet...   \n",
       "\n",
       "                                     title_lemma_str  \\\n",
       "0  beautiful bahia sunny san diego outstanding la...   \n",
       "1  beautiful resort center san diego great stay n...   \n",
       "2  amazing place stay absolutely beautiful clean ...   \n",
       "3  staycation vacation decide excellent start fin...   \n",
       "4  love phenomenal stay randy front desk made sta...   \n",
       "\n",
       "                                   summary_lemma_str  \n",
       "0  amazing experience bahia resort hotel long tri...  \n",
       "1  explore marina amazing facility lunch seafood ...  \n",
       "2  staff super friendly helpful especially ida st...  \n",
       "3  arrive early day check staff give call room re...  \n",
       "4  always much fun resort super family pet friend...  "
      ]
     },
     "execution_count": 36,
     "metadata": {},
     "output_type": "execute_result"
    }
   ],
   "source": [
    "#converting lemmatized data into string\n",
    "\n",
    "hotels_df['title_lemma_str'] = [' '.join(map(str,l)) for l in hotels_df['title_lemma']]\n",
    "hotels_df['summary_lemma_str'] = [' '.join(map(str,l)) for l in hotels_df['summary_lemma']]\n",
    "\n",
    "\n",
    "hotels_df.head()"
   ]
  },
  {
   "cell_type": "code",
   "execution_count": 38,
   "metadata": {},
   "outputs": [
    {
     "data": {
      "text/html": [
       "<div>\n",
       "<style scoped>\n",
       "    .dataframe tbody tr th:only-of-type {\n",
       "        vertical-align: middle;\n",
       "    }\n",
       "\n",
       "    .dataframe tbody tr th {\n",
       "        vertical-align: top;\n",
       "    }\n",
       "\n",
       "    .dataframe thead th {\n",
       "        text-align: right;\n",
       "    }\n",
       "</style>\n",
       "<table border=\"1\" class=\"dataframe\">\n",
       "  <thead>\n",
       "    <tr style=\"text-align: right;\">\n",
       "      <th></th>\n",
       "      <th>names</th>\n",
       "      <th>num_reviews</th>\n",
       "      <th>ratings</th>\n",
       "      <th>review_title</th>\n",
       "      <th>review_rating</th>\n",
       "      <th>review_summary</th>\n",
       "      <th>title_tokens</th>\n",
       "      <th>summary_tokens</th>\n",
       "      <th>title_lemma</th>\n",
       "      <th>summary_lemma</th>\n",
       "      <th>title_lemma_str</th>\n",
       "      <th>summary_lemma_str</th>\n",
       "      <th>title_sentiment</th>\n",
       "      <th>summary_sentiment</th>\n",
       "    </tr>\n",
       "  </thead>\n",
       "  <tbody>\n",
       "    <tr>\n",
       "      <th>0</th>\n",
       "      <td>Bahia Resort Hotel</td>\n",
       "      <td>6358</td>\n",
       "      <td>4.5</td>\n",
       "      <td>[Beautiful Bahia in Sunny San Diego, Outstandi...</td>\n",
       "      <td>[4.5, 4.5, 4.5, 4.0, 4.5, 4.0, 4.5, 4.0, 4.5, ...</td>\n",
       "      <td>[What an amazing experience at the Bahia resor...</td>\n",
       "      <td>[beautiful, bahia, sunny, san, diego, outstand...</td>\n",
       "      <td>[amazing, experience, bahia, resort, hotel, lo...</td>\n",
       "      <td>[beautiful, bahia, sunny, san, diego, outstand...</td>\n",
       "      <td>[amazing, experience, bahia, resort, hotel, lo...</td>\n",
       "      <td>beautiful bahia sunny san diego outstanding la...</td>\n",
       "      <td>amazing experience bahia resort hotel long tri...</td>\n",
       "      <td>0.435714</td>\n",
       "      <td>0.311219</td>\n",
       "    </tr>\n",
       "    <tr>\n",
       "      <th>1</th>\n",
       "      <td>Manchester Grand Hyatt San Diego</td>\n",
       "      <td>12629</td>\n",
       "      <td>4.5</td>\n",
       "      <td>[Beautiful resort in the center of San Diego, ...</td>\n",
       "      <td>[4.5, 4.5, 5.0, 4.5, 4.5, 4.0, 4.5, 4.5, 4.5, ...</td>\n",
       "      <td>[Explore the marina.  Amazing facility. I had ...</td>\n",
       "      <td>[beautiful, resort, center, san, diego, great,...</td>\n",
       "      <td>[explore, marina, amazing, facility, lunch, se...</td>\n",
       "      <td>[beautiful, resort, center, san, diego, great,...</td>\n",
       "      <td>[explore, marina, amazing, facility, lunch, se...</td>\n",
       "      <td>beautiful resort center san diego great stay n...</td>\n",
       "      <td>explore marina amazing facility lunch seafood ...</td>\n",
       "      <td>0.454167</td>\n",
       "      <td>0.486703</td>\n",
       "    </tr>\n",
       "    <tr>\n",
       "      <th>2</th>\n",
       "      <td>Embassy Suites by Hilton San Diego Bay Downtown</td>\n",
       "      <td>3436</td>\n",
       "      <td>4.5</td>\n",
       "      <td>[Amazing place to stay!, Absolutely beautiful ...</td>\n",
       "      <td>[4.5, 4.5, 5.0, 4.5, 4.5, 4.0, 4.5, 4.5, 4.5, ...</td>\n",
       "      <td>[The staff is super friendly and helpful, espe...</td>\n",
       "      <td>[amazing, place, stay, absolutely, beautiful, ...</td>\n",
       "      <td>[staff, super, friendly, helpful, especially, ...</td>\n",
       "      <td>[amazing, place, stay, absolutely, beautiful, ...</td>\n",
       "      <td>[staff, super, friendly, helpful, especially, ...</td>\n",
       "      <td>amazing place stay absolutely beautiful clean ...</td>\n",
       "      <td>staff super friendly helpful especially ida st...</td>\n",
       "      <td>0.649306</td>\n",
       "      <td>0.451384</td>\n",
       "    </tr>\n",
       "    <tr>\n",
       "      <th>3</th>\n",
       "      <td>San Diego Mission Bay Resort</td>\n",
       "      <td>1357</td>\n",
       "      <td>4.0</td>\n",
       "      <td>[Staycation or Vacation. You decide!, Excellen...</td>\n",
       "      <td>[4.0, 4.0, 4.5, 4.0, 4.0, 3.5, 5.0, 4.5, 4.5, ...</td>\n",
       "      <td>[Arrive early for your day and check in. The s...</td>\n",
       "      <td>[staycation, vacation, decide, excellent, star...</td>\n",
       "      <td>[arrive, early, day, check, staff, give, call,...</td>\n",
       "      <td>[staycation, vacation, decide, excellent, star...</td>\n",
       "      <td>[arrive, early, day, check, staff, give, call,...</td>\n",
       "      <td>staycation vacation decide excellent start fin...</td>\n",
       "      <td>arrive early day check staff give call room re...</td>\n",
       "      <td>0.491667</td>\n",
       "      <td>0.346883</td>\n",
       "    </tr>\n",
       "    <tr>\n",
       "      <th>4</th>\n",
       "      <td>Catamaran Resort Hotel and Spa</td>\n",
       "      <td>6747</td>\n",
       "      <td>4.5</td>\n",
       "      <td>[Love it!, Phenomenal stay!, Randy at Front De...</td>\n",
       "      <td>[4.5, 4.5, 5.0, 4.5, 4.5, 4.0, 4.5, 4.5, 4.5, ...</td>\n",
       "      <td>[We always have so much fun at this resort. Su...</td>\n",
       "      <td>[love, phenomenal, stay, randy, front, desk, m...</td>\n",
       "      <td>[always, much, fun, resort, super, family, pet...</td>\n",
       "      <td>[love, phenomenal, stay, randy, front, desk, m...</td>\n",
       "      <td>[always, much, fun, resort, super, family, pet...</td>\n",
       "      <td>love phenomenal stay randy front desk made sta...</td>\n",
       "      <td>always much fun resort super family pet friend...</td>\n",
       "      <td>0.448052</td>\n",
       "      <td>0.282974</td>\n",
       "    </tr>\n",
       "  </tbody>\n",
       "</table>\n",
       "</div>"
      ],
      "text/plain": [
       "                                             names  num_reviews  ratings  \\\n",
       "0                               Bahia Resort Hotel         6358      4.5   \n",
       "1                 Manchester Grand Hyatt San Diego        12629      4.5   \n",
       "2  Embassy Suites by Hilton San Diego Bay Downtown         3436      4.5   \n",
       "3                     San Diego Mission Bay Resort         1357      4.0   \n",
       "4                   Catamaran Resort Hotel and Spa         6747      4.5   \n",
       "\n",
       "                                        review_title  \\\n",
       "0  [Beautiful Bahia in Sunny San Diego, Outstandi...   \n",
       "1  [Beautiful resort in the center of San Diego, ...   \n",
       "2  [Amazing place to stay!, Absolutely beautiful ...   \n",
       "3  [Staycation or Vacation. You decide!, Excellen...   \n",
       "4  [Love it!, Phenomenal stay!, Randy at Front De...   \n",
       "\n",
       "                                       review_rating  \\\n",
       "0  [4.5, 4.5, 4.5, 4.0, 4.5, 4.0, 4.5, 4.0, 4.5, ...   \n",
       "1  [4.5, 4.5, 5.0, 4.5, 4.5, 4.0, 4.5, 4.5, 4.5, ...   \n",
       "2  [4.5, 4.5, 5.0, 4.5, 4.5, 4.0, 4.5, 4.5, 4.5, ...   \n",
       "3  [4.0, 4.0, 4.5, 4.0, 4.0, 3.5, 5.0, 4.5, 4.5, ...   \n",
       "4  [4.5, 4.5, 5.0, 4.5, 4.5, 4.0, 4.5, 4.5, 4.5, ...   \n",
       "\n",
       "                                      review_summary  \\\n",
       "0  [What an amazing experience at the Bahia resor...   \n",
       "1  [Explore the marina.  Amazing facility. I had ...   \n",
       "2  [The staff is super friendly and helpful, espe...   \n",
       "3  [Arrive early for your day and check in. The s...   \n",
       "4  [We always have so much fun at this resort. Su...   \n",
       "\n",
       "                                        title_tokens  \\\n",
       "0  [beautiful, bahia, sunny, san, diego, outstand...   \n",
       "1  [beautiful, resort, center, san, diego, great,...   \n",
       "2  [amazing, place, stay, absolutely, beautiful, ...   \n",
       "3  [staycation, vacation, decide, excellent, star...   \n",
       "4  [love, phenomenal, stay, randy, front, desk, m...   \n",
       "\n",
       "                                      summary_tokens  \\\n",
       "0  [amazing, experience, bahia, resort, hotel, lo...   \n",
       "1  [explore, marina, amazing, facility, lunch, se...   \n",
       "2  [staff, super, friendly, helpful, especially, ...   \n",
       "3  [arrive, early, day, check, staff, give, call,...   \n",
       "4  [always, much, fun, resort, super, family, pet...   \n",
       "\n",
       "                                         title_lemma  \\\n",
       "0  [beautiful, bahia, sunny, san, diego, outstand...   \n",
       "1  [beautiful, resort, center, san, diego, great,...   \n",
       "2  [amazing, place, stay, absolutely, beautiful, ...   \n",
       "3  [staycation, vacation, decide, excellent, star...   \n",
       "4  [love, phenomenal, stay, randy, front, desk, m...   \n",
       "\n",
       "                                       summary_lemma  \\\n",
       "0  [amazing, experience, bahia, resort, hotel, lo...   \n",
       "1  [explore, marina, amazing, facility, lunch, se...   \n",
       "2  [staff, super, friendly, helpful, especially, ...   \n",
       "3  [arrive, early, day, check, staff, give, call,...   \n",
       "4  [always, much, fun, resort, super, family, pet...   \n",
       "\n",
       "                                     title_lemma_str  \\\n",
       "0  beautiful bahia sunny san diego outstanding la...   \n",
       "1  beautiful resort center san diego great stay n...   \n",
       "2  amazing place stay absolutely beautiful clean ...   \n",
       "3  staycation vacation decide excellent start fin...   \n",
       "4  love phenomenal stay randy front desk made sta...   \n",
       "\n",
       "                                   summary_lemma_str  title_sentiment  \\\n",
       "0  amazing experience bahia resort hotel long tri...         0.435714   \n",
       "1  explore marina amazing facility lunch seafood ...         0.454167   \n",
       "2  staff super friendly helpful especially ida st...         0.649306   \n",
       "3  arrive early day check staff give call room re...         0.491667   \n",
       "4  always much fun resort super family pet friend...         0.448052   \n",
       "\n",
       "   summary_sentiment  \n",
       "0           0.311219  \n",
       "1           0.486703  \n",
       "2           0.451384  \n",
       "3           0.346883  \n",
       "4           0.282974  "
      ]
     },
     "execution_count": 38,
     "metadata": {},
     "output_type": "execute_result"
    }
   ],
   "source": [
    "hotels_df['title_sentiment'] = hotels_df['title_lemma_str'].apply(lambda x: TextBlob(x).sentiment.polarity)\n",
    "hotels_df['summary_sentiment'] = hotels_df['summary_lemma_str'].apply(lambda x: TextBlob(x).sentiment.polarity)\n",
    "\n",
    "hotels_df.head()"
   ]
  },
  {
   "attachments": {},
   "cell_type": "markdown",
   "metadata": {},
   "source": [
    "### Sentiment Distribution Plot"
   ]
  },
  {
   "cell_type": "code",
   "execution_count": 41,
   "metadata": {},
   "outputs": [
    {
     "data": {
      "application/vnd.plotly.v1+json": {
       "config": {
        "plotlyServerURL": "https://plot.ly"
       },
       "data": [
        {
         "alignmentgroup": "True",
         "bingroup": "x",
         "hovertemplate": "title_sentiment=%{x}<br>count=%{y}<extra></extra>",
         "legendgroup": "",
         "marker": {
          "color": "pink",
          "line": {
           "color": "orchid",
           "width": 1.5
          },
          "pattern": {
           "shape": ""
          }
         },
         "name": "",
         "offsetgroup": "",
         "orientation": "v",
         "showlegend": false,
         "type": "histogram",
         "x": [
          0.43571428571428567,
          0.4541666666666666,
          0.6493055555555555,
          0.49166666666666675,
          0.4480519480519481,
          0.3066287878787879,
          0.4446428571428571,
          0.3917948717948718,
          0.3226851851851852,
          0.5975,
          0.6875,
          0.4681818181818182,
          0.4425595238095239,
          0.546875,
          0.5641025641025641,
          0.28047619047619043,
          0.41230769230769226,
          0.32916666666666666,
          0.3878787878787879,
          0.4522727272727273,
          0.32472222222222225,
          0.6699999999999999,
          0.4851851851851852,
          0.14333333333333337,
          0.12274659863945578,
          0.606060606060606,
          0.07037037037037039,
          -0.004999999999999993,
          0.7219696969696968,
          0.014583333333333347,
          0.6094387755102042,
          0.44814814814814813,
          0.46666666666666656,
          0.605,
          0.5371212121212121,
          0.7571428571428572,
          0.6554761904761904,
          0.4606349206349207,
          0.521487603305785,
          0.4372395833333333,
          0.7527777777777777,
          0.34621212121212125,
          0.4354395604395605,
          0.5251851851851852,
          0.5625,
          0.4466666666666666,
          0.30833333333333335,
          0.07115384615384614,
          0.26666666666666666,
          0.23842592592592593,
          0.3179687499999999,
          0.5538461538461539,
          0.7636363636363636,
          0.706060606060606,
          0.2,
          -0.12142857142857146,
          0.3145833333333334,
          -0.07142857142857141,
          -0.11785714285714281,
          -0.1962962962962963,
          0.5307539682539683,
          0.6500000000000001,
          0.4256410256410256,
          0.39999999999999997,
          0.33238095238095233,
          0.16614583333333333,
          0.39545454545454545,
          0.3963869463869463,
          0.29642857142857143,
          0.6675925925925925,
          0.5475,
          0.546875,
          0.24583333333333335,
          0.5863095238095238,
          0.096875,
          0.6407407407407407,
          0.6363636363636364,
          0.7242424242424242,
          0.2685714285714286,
          0.6658333333333333,
          0.40214285714285714,
          0.21499999999999994,
          0.41607142857142854,
          -0.6333333333333333,
          0.2857142857142857,
          0.08523809523809524,
          0.37666666666666665,
          -0.03518518518518518,
          0.1,
          0.35705128205128206,
          0.4623376623376623,
          0.51875,
          0.5277777777777778,
          0.13666666666666666,
          0.20000000000000004,
          0.6783333333333333,
          0.5134615384615384,
          0.5652777777777779,
          0.03333333333333331,
          -0.1285714285714286,
          0.2545833333333333,
          0.5529411764705883,
          0.4857142857142857,
          0.21403508771929824,
          0.39166666666666666,
          0.47129629629629627,
          0.5974999999999999,
          0.5319444444444444,
          0.4666666666666666,
          0.4388888888888889,
          0.4420454545454546,
          0.318939393939394,
          0.5471428571428572,
          -0.03194444444444444,
          0.25892857142857145,
          0.31515151515151524,
          -0.03263888888888888,
          0.26223958333333325,
          0.33888888888888885,
          0.6499999999999999,
          0.7955555555555556,
          0.537012987012987,
          0.7166666666666667,
          0.7833333333333332,
          0.1944444444444445,
          0.5260714285714285,
          0.16203703703703706,
          0.15607142857142858,
          0.05500000000000001,
          0.6484848484848484,
          0.2785714285714286,
          0.52,
          0.6875,
          0.41819444444444437,
          0.5950549450549449,
          0.22000000000000003,
          0.274074074074074,
          0.3828571428571429,
          0.3116071428571429,
          -0.07999999999999999,
          0.3821428571428572,
          0.29625,
          0.6,
          -0.2619047619047619,
          0.6047619047619047,
          0.43999999999999995,
          0.33636363636363636,
          0.14583333333333334,
          -0.05000000000000001,
          -0.05739795918367344,
          0.41715686274509806,
          0.4362044817927171,
          0.19444444444444442,
          -0.16,
          0.0935897435897436,
          0.6437499999999999,
          0.6555555555555556,
          0.39499999999999996,
          -0.29910714285714285,
          0.8075000000000001,
          0.2972222222222222,
          0.5249999999999999,
          0.26666666666666666,
          0.33148148148148154,
          0.00625,
          0.2775,
          0.268732782369146,
          0.15,
          0.165,
          0.2511111111111111,
          0.30740740740740735,
          0.25555555555555554,
          0.33636363636363636,
          0.29907407407407405,
          0.2833333333333333,
          0.46547619047619054,
          0.06785714285714287,
          -0.3227272727272727,
          -0.13749999999999998,
          0.31666666666666665,
          0.5108495670995671,
          0.3680555555555556,
          0.37307692307692303,
          0.4055555555555556,
          0.6151515151515151,
          0.2947619047619048,
          0.3089743589743589,
          0.4768939393939393,
          0.036250000000000004,
          0.47500000000000003,
          -0.15587121212121216,
          0.4257575757575757,
          0.26666666666666666,
          0.4577441077441078,
          0.34464285714285714,
          0.38358395989974936,
          0.5295454545454545,
          0.32083333333333336,
          0.48521825396825397,
          0.27156250000000004,
          0.30625,
          0.0416666666666667,
          0.42000000000000004,
          0.24427083333333333,
          0.09038461538461537,
          0.21916666666666668,
          0.037500000000000006,
          -0.4333333333333333,
          0.13000000000000003,
          -0.6666666666666667,
          0.3479166666666667,
          0.6395833333333333,
          0.4783333333333335,
          0.7433333333333334,
          0.23142857142857146,
          0.511904761904762,
          0.7666666666666667,
          0.5369047619047619,
          0.43831168831168826,
          0.06472222222222222,
          0.49416666666666664,
          0.6055555555555555,
          0.5447916666666667,
          0.4350852272727273,
          0.5590909090909091,
          0.32962962962962966,
          0.3666666666666667,
          0.2448717948717949,
          -0.3476190476190476,
          -0.0006666666666666377,
          0.5032051282051282,
          0.43999999999999995,
          0.4681818181818182,
          0.37916666666666665,
          0.3482142857142857,
          0.275,
          0.3368055555555556,
          0.5121212121212122,
          0.3638888888888889,
          -0.1666666666666666,
          0.38571428571428573,
          0.4305555555555556,
          0.5666666666666667,
          0.29659090909090907,
          0.5259259259259259,
          0.49791666666666673,
          0.3121794871794872,
          0.6074074074074074,
          0.42060606060606054,
          0.4809523809523809,
          -0.5333333333333333,
          0.71875,
          0.1722222222222222,
          0.49523809523809526,
          0.10833333333333334,
          0.14583333333333334,
          0.24102564102564106,
          0.09375000000000006,
          0.35416666666666663,
          0.47500000000000003,
          0.3847222222222222,
          0.11428571428571432,
          0.4833333333333334,
          0.024999999999999984,
          0.6041666666666669,
          0.64,
          0,
          0.03717948717948719,
          0.024166666666666704,
          0,
          0.7833333333333332,
          0.2972222222222222,
          0.6727272727272727,
          0.24916666666666668,
          0.5562499999999999,
          0.2571428571428571,
          0.32272727272727275,
          0.6571428571428571,
          0.7142857142857143,
          0.6083333333333333,
          0.48055555555555546,
          0.6291666666666668,
          0.33505892255892256,
          0.625,
          0.6166666666666666,
          0.5416666666666667,
          0.8,
          0.4166666666666667,
          0.65,
          0.03333333333333336,
          0,
          0.31000000000000005,
          0.7200000000000001,
          0.6,
          0.4265625,
          1,
          0.3547619047619048,
          0.7000000000000001,
          0.2,
          0.51
         ],
         "xaxis": "x",
         "yaxis": "y"
        }
       ],
       "layout": {
        "barmode": "relative",
        "height": 400,
        "legend": {
         "tracegroupgap": 0
        },
        "margin": {
         "t": 60
        },
        "template": {
         "data": {
          "bar": [
           {
            "error_x": {
             "color": "#2a3f5f"
            },
            "error_y": {
             "color": "#2a3f5f"
            },
            "marker": {
             "line": {
              "color": "#E5ECF6",
              "width": 0.5
             },
             "pattern": {
              "fillmode": "overlay",
              "size": 10,
              "solidity": 0.2
             }
            },
            "type": "bar"
           }
          ],
          "barpolar": [
           {
            "marker": {
             "line": {
              "color": "#E5ECF6",
              "width": 0.5
             },
             "pattern": {
              "fillmode": "overlay",
              "size": 10,
              "solidity": 0.2
             }
            },
            "type": "barpolar"
           }
          ],
          "carpet": [
           {
            "aaxis": {
             "endlinecolor": "#2a3f5f",
             "gridcolor": "white",
             "linecolor": "white",
             "minorgridcolor": "white",
             "startlinecolor": "#2a3f5f"
            },
            "baxis": {
             "endlinecolor": "#2a3f5f",
             "gridcolor": "white",
             "linecolor": "white",
             "minorgridcolor": "white",
             "startlinecolor": "#2a3f5f"
            },
            "type": "carpet"
           }
          ],
          "choropleth": [
           {
            "colorbar": {
             "outlinewidth": 0,
             "ticks": ""
            },
            "type": "choropleth"
           }
          ],
          "contour": [
           {
            "colorbar": {
             "outlinewidth": 0,
             "ticks": ""
            },
            "colorscale": [
             [
              0,
              "#0d0887"
             ],
             [
              0.1111111111111111,
              "#46039f"
             ],
             [
              0.2222222222222222,
              "#7201a8"
             ],
             [
              0.3333333333333333,
              "#9c179e"
             ],
             [
              0.4444444444444444,
              "#bd3786"
             ],
             [
              0.5555555555555556,
              "#d8576b"
             ],
             [
              0.6666666666666666,
              "#ed7953"
             ],
             [
              0.7777777777777778,
              "#fb9f3a"
             ],
             [
              0.8888888888888888,
              "#fdca26"
             ],
             [
              1,
              "#f0f921"
             ]
            ],
            "type": "contour"
           }
          ],
          "contourcarpet": [
           {
            "colorbar": {
             "outlinewidth": 0,
             "ticks": ""
            },
            "type": "contourcarpet"
           }
          ],
          "heatmap": [
           {
            "colorbar": {
             "outlinewidth": 0,
             "ticks": ""
            },
            "colorscale": [
             [
              0,
              "#0d0887"
             ],
             [
              0.1111111111111111,
              "#46039f"
             ],
             [
              0.2222222222222222,
              "#7201a8"
             ],
             [
              0.3333333333333333,
              "#9c179e"
             ],
             [
              0.4444444444444444,
              "#bd3786"
             ],
             [
              0.5555555555555556,
              "#d8576b"
             ],
             [
              0.6666666666666666,
              "#ed7953"
             ],
             [
              0.7777777777777778,
              "#fb9f3a"
             ],
             [
              0.8888888888888888,
              "#fdca26"
             ],
             [
              1,
              "#f0f921"
             ]
            ],
            "type": "heatmap"
           }
          ],
          "heatmapgl": [
           {
            "colorbar": {
             "outlinewidth": 0,
             "ticks": ""
            },
            "colorscale": [
             [
              0,
              "#0d0887"
             ],
             [
              0.1111111111111111,
              "#46039f"
             ],
             [
              0.2222222222222222,
              "#7201a8"
             ],
             [
              0.3333333333333333,
              "#9c179e"
             ],
             [
              0.4444444444444444,
              "#bd3786"
             ],
             [
              0.5555555555555556,
              "#d8576b"
             ],
             [
              0.6666666666666666,
              "#ed7953"
             ],
             [
              0.7777777777777778,
              "#fb9f3a"
             ],
             [
              0.8888888888888888,
              "#fdca26"
             ],
             [
              1,
              "#f0f921"
             ]
            ],
            "type": "heatmapgl"
           }
          ],
          "histogram": [
           {
            "marker": {
             "pattern": {
              "fillmode": "overlay",
              "size": 10,
              "solidity": 0.2
             }
            },
            "type": "histogram"
           }
          ],
          "histogram2d": [
           {
            "colorbar": {
             "outlinewidth": 0,
             "ticks": ""
            },
            "colorscale": [
             [
              0,
              "#0d0887"
             ],
             [
              0.1111111111111111,
              "#46039f"
             ],
             [
              0.2222222222222222,
              "#7201a8"
             ],
             [
              0.3333333333333333,
              "#9c179e"
             ],
             [
              0.4444444444444444,
              "#bd3786"
             ],
             [
              0.5555555555555556,
              "#d8576b"
             ],
             [
              0.6666666666666666,
              "#ed7953"
             ],
             [
              0.7777777777777778,
              "#fb9f3a"
             ],
             [
              0.8888888888888888,
              "#fdca26"
             ],
             [
              1,
              "#f0f921"
             ]
            ],
            "type": "histogram2d"
           }
          ],
          "histogram2dcontour": [
           {
            "colorbar": {
             "outlinewidth": 0,
             "ticks": ""
            },
            "colorscale": [
             [
              0,
              "#0d0887"
             ],
             [
              0.1111111111111111,
              "#46039f"
             ],
             [
              0.2222222222222222,
              "#7201a8"
             ],
             [
              0.3333333333333333,
              "#9c179e"
             ],
             [
              0.4444444444444444,
              "#bd3786"
             ],
             [
              0.5555555555555556,
              "#d8576b"
             ],
             [
              0.6666666666666666,
              "#ed7953"
             ],
             [
              0.7777777777777778,
              "#fb9f3a"
             ],
             [
              0.8888888888888888,
              "#fdca26"
             ],
             [
              1,
              "#f0f921"
             ]
            ],
            "type": "histogram2dcontour"
           }
          ],
          "mesh3d": [
           {
            "colorbar": {
             "outlinewidth": 0,
             "ticks": ""
            },
            "type": "mesh3d"
           }
          ],
          "parcoords": [
           {
            "line": {
             "colorbar": {
              "outlinewidth": 0,
              "ticks": ""
             }
            },
            "type": "parcoords"
           }
          ],
          "pie": [
           {
            "automargin": true,
            "type": "pie"
           }
          ],
          "scatter": [
           {
            "fillpattern": {
             "fillmode": "overlay",
             "size": 10,
             "solidity": 0.2
            },
            "type": "scatter"
           }
          ],
          "scatter3d": [
           {
            "line": {
             "colorbar": {
              "outlinewidth": 0,
              "ticks": ""
             }
            },
            "marker": {
             "colorbar": {
              "outlinewidth": 0,
              "ticks": ""
             }
            },
            "type": "scatter3d"
           }
          ],
          "scattercarpet": [
           {
            "marker": {
             "colorbar": {
              "outlinewidth": 0,
              "ticks": ""
             }
            },
            "type": "scattercarpet"
           }
          ],
          "scattergeo": [
           {
            "marker": {
             "colorbar": {
              "outlinewidth": 0,
              "ticks": ""
             }
            },
            "type": "scattergeo"
           }
          ],
          "scattergl": [
           {
            "marker": {
             "colorbar": {
              "outlinewidth": 0,
              "ticks": ""
             }
            },
            "type": "scattergl"
           }
          ],
          "scattermapbox": [
           {
            "marker": {
             "colorbar": {
              "outlinewidth": 0,
              "ticks": ""
             }
            },
            "type": "scattermapbox"
           }
          ],
          "scatterpolar": [
           {
            "marker": {
             "colorbar": {
              "outlinewidth": 0,
              "ticks": ""
             }
            },
            "type": "scatterpolar"
           }
          ],
          "scatterpolargl": [
           {
            "marker": {
             "colorbar": {
              "outlinewidth": 0,
              "ticks": ""
             }
            },
            "type": "scatterpolargl"
           }
          ],
          "scatterternary": [
           {
            "marker": {
             "colorbar": {
              "outlinewidth": 0,
              "ticks": ""
             }
            },
            "type": "scatterternary"
           }
          ],
          "surface": [
           {
            "colorbar": {
             "outlinewidth": 0,
             "ticks": ""
            },
            "colorscale": [
             [
              0,
              "#0d0887"
             ],
             [
              0.1111111111111111,
              "#46039f"
             ],
             [
              0.2222222222222222,
              "#7201a8"
             ],
             [
              0.3333333333333333,
              "#9c179e"
             ],
             [
              0.4444444444444444,
              "#bd3786"
             ],
             [
              0.5555555555555556,
              "#d8576b"
             ],
             [
              0.6666666666666666,
              "#ed7953"
             ],
             [
              0.7777777777777778,
              "#fb9f3a"
             ],
             [
              0.8888888888888888,
              "#fdca26"
             ],
             [
              1,
              "#f0f921"
             ]
            ],
            "type": "surface"
           }
          ],
          "table": [
           {
            "cells": {
             "fill": {
              "color": "#EBF0F8"
             },
             "line": {
              "color": "white"
             }
            },
            "header": {
             "fill": {
              "color": "#C8D4E3"
             },
             "line": {
              "color": "white"
             }
            },
            "type": "table"
           }
          ]
         },
         "layout": {
          "annotationdefaults": {
           "arrowcolor": "#2a3f5f",
           "arrowhead": 0,
           "arrowwidth": 1
          },
          "autotypenumbers": "strict",
          "coloraxis": {
           "colorbar": {
            "outlinewidth": 0,
            "ticks": ""
           }
          },
          "colorscale": {
           "diverging": [
            [
             0,
             "#8e0152"
            ],
            [
             0.1,
             "#c51b7d"
            ],
            [
             0.2,
             "#de77ae"
            ],
            [
             0.3,
             "#f1b6da"
            ],
            [
             0.4,
             "#fde0ef"
            ],
            [
             0.5,
             "#f7f7f7"
            ],
            [
             0.6,
             "#e6f5d0"
            ],
            [
             0.7,
             "#b8e186"
            ],
            [
             0.8,
             "#7fbc41"
            ],
            [
             0.9,
             "#4d9221"
            ],
            [
             1,
             "#276419"
            ]
           ],
           "sequential": [
            [
             0,
             "#0d0887"
            ],
            [
             0.1111111111111111,
             "#46039f"
            ],
            [
             0.2222222222222222,
             "#7201a8"
            ],
            [
             0.3333333333333333,
             "#9c179e"
            ],
            [
             0.4444444444444444,
             "#bd3786"
            ],
            [
             0.5555555555555556,
             "#d8576b"
            ],
            [
             0.6666666666666666,
             "#ed7953"
            ],
            [
             0.7777777777777778,
             "#fb9f3a"
            ],
            [
             0.8888888888888888,
             "#fdca26"
            ],
            [
             1,
             "#f0f921"
            ]
           ],
           "sequentialminus": [
            [
             0,
             "#0d0887"
            ],
            [
             0.1111111111111111,
             "#46039f"
            ],
            [
             0.2222222222222222,
             "#7201a8"
            ],
            [
             0.3333333333333333,
             "#9c179e"
            ],
            [
             0.4444444444444444,
             "#bd3786"
            ],
            [
             0.5555555555555556,
             "#d8576b"
            ],
            [
             0.6666666666666666,
             "#ed7953"
            ],
            [
             0.7777777777777778,
             "#fb9f3a"
            ],
            [
             0.8888888888888888,
             "#fdca26"
            ],
            [
             1,
             "#f0f921"
            ]
           ]
          },
          "colorway": [
           "#636efa",
           "#EF553B",
           "#00cc96",
           "#ab63fa",
           "#FFA15A",
           "#19d3f3",
           "#FF6692",
           "#B6E880",
           "#FF97FF",
           "#FECB52"
          ],
          "font": {
           "color": "#2a3f5f"
          },
          "geo": {
           "bgcolor": "white",
           "lakecolor": "white",
           "landcolor": "#E5ECF6",
           "showlakes": true,
           "showland": true,
           "subunitcolor": "white"
          },
          "hoverlabel": {
           "align": "left"
          },
          "hovermode": "closest",
          "mapbox": {
           "style": "light"
          },
          "paper_bgcolor": "white",
          "plot_bgcolor": "#E5ECF6",
          "polar": {
           "angularaxis": {
            "gridcolor": "white",
            "linecolor": "white",
            "ticks": ""
           },
           "bgcolor": "#E5ECF6",
           "radialaxis": {
            "gridcolor": "white",
            "linecolor": "white",
            "ticks": ""
           }
          },
          "scene": {
           "xaxis": {
            "backgroundcolor": "#E5ECF6",
            "gridcolor": "white",
            "gridwidth": 2,
            "linecolor": "white",
            "showbackground": true,
            "ticks": "",
            "zerolinecolor": "white"
           },
           "yaxis": {
            "backgroundcolor": "#E5ECF6",
            "gridcolor": "white",
            "gridwidth": 2,
            "linecolor": "white",
            "showbackground": true,
            "ticks": "",
            "zerolinecolor": "white"
           },
           "zaxis": {
            "backgroundcolor": "#E5ECF6",
            "gridcolor": "white",
            "gridwidth": 2,
            "linecolor": "white",
            "showbackground": true,
            "ticks": "",
            "zerolinecolor": "white"
           }
          },
          "shapedefaults": {
           "line": {
            "color": "#2a3f5f"
           }
          },
          "ternary": {
           "aaxis": {
            "gridcolor": "white",
            "linecolor": "white",
            "ticks": ""
           },
           "baxis": {
            "gridcolor": "white",
            "linecolor": "white",
            "ticks": ""
           },
           "bgcolor": "#E5ECF6",
           "caxis": {
            "gridcolor": "white",
            "linecolor": "white",
            "ticks": ""
           }
          },
          "title": {
           "x": 0.05
          },
          "xaxis": {
           "automargin": true,
           "gridcolor": "white",
           "linecolor": "white",
           "ticks": "",
           "title": {
            "standoff": 15
           },
           "zerolinecolor": "white",
           "zerolinewidth": 2
          },
          "yaxis": {
           "automargin": true,
           "gridcolor": "white",
           "linecolor": "white",
           "ticks": "",
           "title": {
            "standoff": 15
           },
           "zerolinecolor": "white",
           "zerolinewidth": 2
          }
         }
        },
        "title": {
         "text": "Review Title Sentiment Distribution"
        },
        "width": 800,
        "xaxis": {
         "anchor": "y",
         "domain": [
          0,
          1
         ],
         "title": {
          "text": "title_sentiment"
         }
        },
        "yaxis": {
         "anchor": "x",
         "domain": [
          0,
          1
         ],
         "title": {
          "text": "count"
         }
        }
       }
      },
      "text/html": [
       "<div>                            <div id=\"aa6ba6ad-5672-49be-8d56-a40fdedcfef6\" class=\"plotly-graph-div\" style=\"height:400px; width:800px;\"></div>            <script type=\"text/javascript\">                require([\"plotly\"], function(Plotly) {                    window.PLOTLYENV=window.PLOTLYENV || {};                                    if (document.getElementById(\"aa6ba6ad-5672-49be-8d56-a40fdedcfef6\")) {                    Plotly.newPlot(                        \"aa6ba6ad-5672-49be-8d56-a40fdedcfef6\",                        [{\"alignmentgroup\":\"True\",\"bingroup\":\"x\",\"hovertemplate\":\"title_sentiment=%{x}\\u003cbr\\u003ecount=%{y}\\u003cextra\\u003e\\u003c\\u002fextra\\u003e\",\"legendgroup\":\"\",\"marker\":{\"color\":\"pink\",\"pattern\":{\"shape\":\"\"},\"line\":{\"color\":\"orchid\",\"width\":1.5}},\"name\":\"\",\"offsetgroup\":\"\",\"orientation\":\"v\",\"showlegend\":false,\"x\":[0.43571428571428567,0.4541666666666666,0.6493055555555555,0.49166666666666675,0.4480519480519481,0.3066287878787879,0.4446428571428571,0.3917948717948718,0.3226851851851852,0.5975,0.6875,0.4681818181818182,0.4425595238095239,0.546875,0.5641025641025641,0.28047619047619043,0.41230769230769226,0.32916666666666666,0.3878787878787879,0.4522727272727273,0.32472222222222225,0.6699999999999999,0.4851851851851852,0.14333333333333337,0.12274659863945578,0.606060606060606,0.07037037037037039,-0.004999999999999993,0.7219696969696968,0.014583333333333347,0.6094387755102042,0.44814814814814813,0.46666666666666656,0.605,0.5371212121212121,0.7571428571428572,0.6554761904761904,0.4606349206349207,0.521487603305785,0.4372395833333333,0.7527777777777777,0.34621212121212125,0.4354395604395605,0.5251851851851852,0.5625,0.4466666666666666,0.30833333333333335,0.07115384615384614,0.26666666666666666,0.23842592592592593,0.3179687499999999,0.5538461538461539,0.7636363636363636,0.706060606060606,0.2,-0.12142857142857146,0.3145833333333334,-0.07142857142857141,-0.11785714285714281,-0.1962962962962963,0.5307539682539683,0.6500000000000001,0.4256410256410256,0.39999999999999997,0.33238095238095233,0.16614583333333333,0.39545454545454545,0.3963869463869463,0.29642857142857143,0.6675925925925925,0.5475,0.546875,0.24583333333333335,0.5863095238095238,0.096875,0.6407407407407407,0.6363636363636364,0.7242424242424242,0.2685714285714286,0.6658333333333333,0.40214285714285714,0.21499999999999994,0.41607142857142854,-0.6333333333333333,0.2857142857142857,0.08523809523809524,0.37666666666666665,-0.03518518518518518,0.1,0.35705128205128206,0.4623376623376623,0.51875,0.5277777777777778,0.13666666666666666,0.20000000000000004,0.6783333333333333,0.5134615384615384,0.5652777777777779,0.03333333333333331,-0.1285714285714286,0.2545833333333333,0.5529411764705883,0.4857142857142857,0.21403508771929824,0.39166666666666666,0.47129629629629627,0.5974999999999999,0.5319444444444444,0.4666666666666666,0.4388888888888889,0.4420454545454546,0.318939393939394,0.5471428571428572,-0.03194444444444444,0.25892857142857145,0.31515151515151524,-0.03263888888888888,0.26223958333333325,0.33888888888888885,0.6499999999999999,0.7955555555555556,0.537012987012987,0.7166666666666667,0.7833333333333332,0.1944444444444445,0.5260714285714285,0.16203703703703706,0.15607142857142858,0.05500000000000001,0.6484848484848484,0.2785714285714286,0.52,0.6875,0.41819444444444437,0.5950549450549449,0.22000000000000003,0.274074074074074,0.3828571428571429,0.3116071428571429,-0.07999999999999999,0.3821428571428572,0.29625,0.6,-0.2619047619047619,0.6047619047619047,0.43999999999999995,0.33636363636363636,0.14583333333333334,-0.05000000000000001,-0.05739795918367344,0.41715686274509806,0.4362044817927171,0.19444444444444442,-0.16,0.0935897435897436,0.6437499999999999,0.6555555555555556,0.39499999999999996,-0.29910714285714285,0.8075000000000001,0.2972222222222222,0.5249999999999999,0.26666666666666666,0.33148148148148154,0.00625,0.2775,0.268732782369146,0.15,0.165,0.2511111111111111,0.30740740740740735,0.25555555555555554,0.33636363636363636,0.29907407407407405,0.2833333333333333,0.46547619047619054,0.06785714285714287,-0.3227272727272727,-0.13749999999999998,0.31666666666666665,0.5108495670995671,0.3680555555555556,0.37307692307692303,0.4055555555555556,0.6151515151515151,0.2947619047619048,0.3089743589743589,0.4768939393939393,0.036250000000000004,0.47500000000000003,-0.15587121212121216,0.4257575757575757,0.26666666666666666,0.4577441077441078,0.34464285714285714,0.38358395989974936,0.5295454545454545,0.32083333333333336,0.48521825396825397,0.27156250000000004,0.30625,0.0416666666666667,0.42000000000000004,0.24427083333333333,0.09038461538461537,0.21916666666666668,0.037500000000000006,-0.4333333333333333,0.13000000000000003,-0.6666666666666667,0.3479166666666667,0.6395833333333333,0.4783333333333335,0.7433333333333334,0.23142857142857146,0.511904761904762,0.7666666666666667,0.5369047619047619,0.43831168831168826,0.06472222222222222,0.49416666666666664,0.6055555555555555,0.5447916666666667,0.4350852272727273,0.5590909090909091,0.32962962962962966,0.3666666666666667,0.2448717948717949,-0.3476190476190476,-0.0006666666666666377,0.5032051282051282,0.43999999999999995,0.4681818181818182,0.37916666666666665,0.3482142857142857,0.275,0.3368055555555556,0.5121212121212122,0.3638888888888889,-0.1666666666666666,0.38571428571428573,0.4305555555555556,0.5666666666666667,0.29659090909090907,0.5259259259259259,0.49791666666666673,0.3121794871794872,0.6074074074074074,0.42060606060606054,0.4809523809523809,-0.5333333333333333,0.71875,0.1722222222222222,0.49523809523809526,0.10833333333333334,0.14583333333333334,0.24102564102564106,0.09375000000000006,0.35416666666666663,0.47500000000000003,0.3847222222222222,0.11428571428571432,0.4833333333333334,0.024999999999999984,0.6041666666666669,0.64,0.0,0.03717948717948719,0.024166666666666704,0.0,0.7833333333333332,0.2972222222222222,0.6727272727272727,0.24916666666666668,0.5562499999999999,0.2571428571428571,0.32272727272727275,0.6571428571428571,0.7142857142857143,0.6083333333333333,0.48055555555555546,0.6291666666666668,0.33505892255892256,0.625,0.6166666666666666,0.5416666666666667,0.8,0.4166666666666667,0.65,0.03333333333333336,0.0,0.31000000000000005,0.7200000000000001,0.6,0.4265625,1.0,0.3547619047619048,0.7000000000000001,0.2,0.51],\"xaxis\":\"x\",\"yaxis\":\"y\",\"type\":\"histogram\"}],                        {\"template\":{\"data\":{\"histogram2dcontour\":[{\"type\":\"histogram2dcontour\",\"colorbar\":{\"outlinewidth\":0,\"ticks\":\"\"},\"colorscale\":[[0.0,\"#0d0887\"],[0.1111111111111111,\"#46039f\"],[0.2222222222222222,\"#7201a8\"],[0.3333333333333333,\"#9c179e\"],[0.4444444444444444,\"#bd3786\"],[0.5555555555555556,\"#d8576b\"],[0.6666666666666666,\"#ed7953\"],[0.7777777777777778,\"#fb9f3a\"],[0.8888888888888888,\"#fdca26\"],[1.0,\"#f0f921\"]]}],\"choropleth\":[{\"type\":\"choropleth\",\"colorbar\":{\"outlinewidth\":0,\"ticks\":\"\"}}],\"histogram2d\":[{\"type\":\"histogram2d\",\"colorbar\":{\"outlinewidth\":0,\"ticks\":\"\"},\"colorscale\":[[0.0,\"#0d0887\"],[0.1111111111111111,\"#46039f\"],[0.2222222222222222,\"#7201a8\"],[0.3333333333333333,\"#9c179e\"],[0.4444444444444444,\"#bd3786\"],[0.5555555555555556,\"#d8576b\"],[0.6666666666666666,\"#ed7953\"],[0.7777777777777778,\"#fb9f3a\"],[0.8888888888888888,\"#fdca26\"],[1.0,\"#f0f921\"]]}],\"heatmap\":[{\"type\":\"heatmap\",\"colorbar\":{\"outlinewidth\":0,\"ticks\":\"\"},\"colorscale\":[[0.0,\"#0d0887\"],[0.1111111111111111,\"#46039f\"],[0.2222222222222222,\"#7201a8\"],[0.3333333333333333,\"#9c179e\"],[0.4444444444444444,\"#bd3786\"],[0.5555555555555556,\"#d8576b\"],[0.6666666666666666,\"#ed7953\"],[0.7777777777777778,\"#fb9f3a\"],[0.8888888888888888,\"#fdca26\"],[1.0,\"#f0f921\"]]}],\"heatmapgl\":[{\"type\":\"heatmapgl\",\"colorbar\":{\"outlinewidth\":0,\"ticks\":\"\"},\"colorscale\":[[0.0,\"#0d0887\"],[0.1111111111111111,\"#46039f\"],[0.2222222222222222,\"#7201a8\"],[0.3333333333333333,\"#9c179e\"],[0.4444444444444444,\"#bd3786\"],[0.5555555555555556,\"#d8576b\"],[0.6666666666666666,\"#ed7953\"],[0.7777777777777778,\"#fb9f3a\"],[0.8888888888888888,\"#fdca26\"],[1.0,\"#f0f921\"]]}],\"contourcarpet\":[{\"type\":\"contourcarpet\",\"colorbar\":{\"outlinewidth\":0,\"ticks\":\"\"}}],\"contour\":[{\"type\":\"contour\",\"colorbar\":{\"outlinewidth\":0,\"ticks\":\"\"},\"colorscale\":[[0.0,\"#0d0887\"],[0.1111111111111111,\"#46039f\"],[0.2222222222222222,\"#7201a8\"],[0.3333333333333333,\"#9c179e\"],[0.4444444444444444,\"#bd3786\"],[0.5555555555555556,\"#d8576b\"],[0.6666666666666666,\"#ed7953\"],[0.7777777777777778,\"#fb9f3a\"],[0.8888888888888888,\"#fdca26\"],[1.0,\"#f0f921\"]]}],\"surface\":[{\"type\":\"surface\",\"colorbar\":{\"outlinewidth\":0,\"ticks\":\"\"},\"colorscale\":[[0.0,\"#0d0887\"],[0.1111111111111111,\"#46039f\"],[0.2222222222222222,\"#7201a8\"],[0.3333333333333333,\"#9c179e\"],[0.4444444444444444,\"#bd3786\"],[0.5555555555555556,\"#d8576b\"],[0.6666666666666666,\"#ed7953\"],[0.7777777777777778,\"#fb9f3a\"],[0.8888888888888888,\"#fdca26\"],[1.0,\"#f0f921\"]]}],\"mesh3d\":[{\"type\":\"mesh3d\",\"colorbar\":{\"outlinewidth\":0,\"ticks\":\"\"}}],\"scatter\":[{\"fillpattern\":{\"fillmode\":\"overlay\",\"size\":10,\"solidity\":0.2},\"type\":\"scatter\"}],\"parcoords\":[{\"type\":\"parcoords\",\"line\":{\"colorbar\":{\"outlinewidth\":0,\"ticks\":\"\"}}}],\"scatterpolargl\":[{\"type\":\"scatterpolargl\",\"marker\":{\"colorbar\":{\"outlinewidth\":0,\"ticks\":\"\"}}}],\"bar\":[{\"error_x\":{\"color\":\"#2a3f5f\"},\"error_y\":{\"color\":\"#2a3f5f\"},\"marker\":{\"line\":{\"color\":\"#E5ECF6\",\"width\":0.5},\"pattern\":{\"fillmode\":\"overlay\",\"size\":10,\"solidity\":0.2}},\"type\":\"bar\"}],\"scattergeo\":[{\"type\":\"scattergeo\",\"marker\":{\"colorbar\":{\"outlinewidth\":0,\"ticks\":\"\"}}}],\"scatterpolar\":[{\"type\":\"scatterpolar\",\"marker\":{\"colorbar\":{\"outlinewidth\":0,\"ticks\":\"\"}}}],\"histogram\":[{\"marker\":{\"pattern\":{\"fillmode\":\"overlay\",\"size\":10,\"solidity\":0.2}},\"type\":\"histogram\"}],\"scattergl\":[{\"type\":\"scattergl\",\"marker\":{\"colorbar\":{\"outlinewidth\":0,\"ticks\":\"\"}}}],\"scatter3d\":[{\"type\":\"scatter3d\",\"line\":{\"colorbar\":{\"outlinewidth\":0,\"ticks\":\"\"}},\"marker\":{\"colorbar\":{\"outlinewidth\":0,\"ticks\":\"\"}}}],\"scattermapbox\":[{\"type\":\"scattermapbox\",\"marker\":{\"colorbar\":{\"outlinewidth\":0,\"ticks\":\"\"}}}],\"scatterternary\":[{\"type\":\"scatterternary\",\"marker\":{\"colorbar\":{\"outlinewidth\":0,\"ticks\":\"\"}}}],\"scattercarpet\":[{\"type\":\"scattercarpet\",\"marker\":{\"colorbar\":{\"outlinewidth\":0,\"ticks\":\"\"}}}],\"carpet\":[{\"aaxis\":{\"endlinecolor\":\"#2a3f5f\",\"gridcolor\":\"white\",\"linecolor\":\"white\",\"minorgridcolor\":\"white\",\"startlinecolor\":\"#2a3f5f\"},\"baxis\":{\"endlinecolor\":\"#2a3f5f\",\"gridcolor\":\"white\",\"linecolor\":\"white\",\"minorgridcolor\":\"white\",\"startlinecolor\":\"#2a3f5f\"},\"type\":\"carpet\"}],\"table\":[{\"cells\":{\"fill\":{\"color\":\"#EBF0F8\"},\"line\":{\"color\":\"white\"}},\"header\":{\"fill\":{\"color\":\"#C8D4E3\"},\"line\":{\"color\":\"white\"}},\"type\":\"table\"}],\"barpolar\":[{\"marker\":{\"line\":{\"color\":\"#E5ECF6\",\"width\":0.5},\"pattern\":{\"fillmode\":\"overlay\",\"size\":10,\"solidity\":0.2}},\"type\":\"barpolar\"}],\"pie\":[{\"automargin\":true,\"type\":\"pie\"}]},\"layout\":{\"autotypenumbers\":\"strict\",\"colorway\":[\"#636efa\",\"#EF553B\",\"#00cc96\",\"#ab63fa\",\"#FFA15A\",\"#19d3f3\",\"#FF6692\",\"#B6E880\",\"#FF97FF\",\"#FECB52\"],\"font\":{\"color\":\"#2a3f5f\"},\"hovermode\":\"closest\",\"hoverlabel\":{\"align\":\"left\"},\"paper_bgcolor\":\"white\",\"plot_bgcolor\":\"#E5ECF6\",\"polar\":{\"bgcolor\":\"#E5ECF6\",\"angularaxis\":{\"gridcolor\":\"white\",\"linecolor\":\"white\",\"ticks\":\"\"},\"radialaxis\":{\"gridcolor\":\"white\",\"linecolor\":\"white\",\"ticks\":\"\"}},\"ternary\":{\"bgcolor\":\"#E5ECF6\",\"aaxis\":{\"gridcolor\":\"white\",\"linecolor\":\"white\",\"ticks\":\"\"},\"baxis\":{\"gridcolor\":\"white\",\"linecolor\":\"white\",\"ticks\":\"\"},\"caxis\":{\"gridcolor\":\"white\",\"linecolor\":\"white\",\"ticks\":\"\"}},\"coloraxis\":{\"colorbar\":{\"outlinewidth\":0,\"ticks\":\"\"}},\"colorscale\":{\"sequential\":[[0.0,\"#0d0887\"],[0.1111111111111111,\"#46039f\"],[0.2222222222222222,\"#7201a8\"],[0.3333333333333333,\"#9c179e\"],[0.4444444444444444,\"#bd3786\"],[0.5555555555555556,\"#d8576b\"],[0.6666666666666666,\"#ed7953\"],[0.7777777777777778,\"#fb9f3a\"],[0.8888888888888888,\"#fdca26\"],[1.0,\"#f0f921\"]],\"sequentialminus\":[[0.0,\"#0d0887\"],[0.1111111111111111,\"#46039f\"],[0.2222222222222222,\"#7201a8\"],[0.3333333333333333,\"#9c179e\"],[0.4444444444444444,\"#bd3786\"],[0.5555555555555556,\"#d8576b\"],[0.6666666666666666,\"#ed7953\"],[0.7777777777777778,\"#fb9f3a\"],[0.8888888888888888,\"#fdca26\"],[1.0,\"#f0f921\"]],\"diverging\":[[0,\"#8e0152\"],[0.1,\"#c51b7d\"],[0.2,\"#de77ae\"],[0.3,\"#f1b6da\"],[0.4,\"#fde0ef\"],[0.5,\"#f7f7f7\"],[0.6,\"#e6f5d0\"],[0.7,\"#b8e186\"],[0.8,\"#7fbc41\"],[0.9,\"#4d9221\"],[1,\"#276419\"]]},\"xaxis\":{\"gridcolor\":\"white\",\"linecolor\":\"white\",\"ticks\":\"\",\"title\":{\"standoff\":15},\"zerolinecolor\":\"white\",\"automargin\":true,\"zerolinewidth\":2},\"yaxis\":{\"gridcolor\":\"white\",\"linecolor\":\"white\",\"ticks\":\"\",\"title\":{\"standoff\":15},\"zerolinecolor\":\"white\",\"automargin\":true,\"zerolinewidth\":2},\"scene\":{\"xaxis\":{\"backgroundcolor\":\"#E5ECF6\",\"gridcolor\":\"white\",\"linecolor\":\"white\",\"showbackground\":true,\"ticks\":\"\",\"zerolinecolor\":\"white\",\"gridwidth\":2},\"yaxis\":{\"backgroundcolor\":\"#E5ECF6\",\"gridcolor\":\"white\",\"linecolor\":\"white\",\"showbackground\":true,\"ticks\":\"\",\"zerolinecolor\":\"white\",\"gridwidth\":2},\"zaxis\":{\"backgroundcolor\":\"#E5ECF6\",\"gridcolor\":\"white\",\"linecolor\":\"white\",\"showbackground\":true,\"ticks\":\"\",\"zerolinecolor\":\"white\",\"gridwidth\":2}},\"shapedefaults\":{\"line\":{\"color\":\"#2a3f5f\"}},\"annotationdefaults\":{\"arrowcolor\":\"#2a3f5f\",\"arrowhead\":0,\"arrowwidth\":1},\"geo\":{\"bgcolor\":\"white\",\"landcolor\":\"#E5ECF6\",\"subunitcolor\":\"white\",\"showland\":true,\"showlakes\":true,\"lakecolor\":\"white\"},\"title\":{\"x\":0.05},\"mapbox\":{\"style\":\"light\"}}},\"xaxis\":{\"anchor\":\"y\",\"domain\":[0.0,1.0],\"title\":{\"text\":\"title_sentiment\"}},\"yaxis\":{\"anchor\":\"x\",\"domain\":[0.0,1.0],\"title\":{\"text\":\"count\"}},\"legend\":{\"tracegroupgap\":0},\"margin\":{\"t\":60},\"barmode\":\"relative\",\"height\":400,\"width\":800,\"title\":{\"text\":\"Review Title Sentiment Distribution\"}},                        {\"responsive\": true}                    ).then(function(){\n",
       "                            \n",
       "var gd = document.getElementById('aa6ba6ad-5672-49be-8d56-a40fdedcfef6');\n",
       "var x = new MutationObserver(function (mutations, observer) {{\n",
       "        var display = window.getComputedStyle(gd).display;\n",
       "        if (!display || display === 'none') {{\n",
       "            console.log([gd, 'removed!']);\n",
       "            Plotly.purge(gd);\n",
       "            observer.disconnect();\n",
       "        }}\n",
       "}});\n",
       "\n",
       "// Listen for the removal of the full notebook cells\n",
       "var notebookContainer = gd.closest('#notebook-container');\n",
       "if (notebookContainer) {{\n",
       "    x.observe(notebookContainer, {childList: true});\n",
       "}}\n",
       "\n",
       "// Listen for the clearing of the current output cell\n",
       "var outputEl = gd.closest('.output');\n",
       "if (outputEl) {{\n",
       "    x.observe(outputEl, {childList: true});\n",
       "}}\n",
       "\n",
       "                        })                };                });            </script>        </div>"
      ]
     },
     "metadata": {},
     "output_type": "display_data"
    },
    {
     "data": {
      "application/vnd.plotly.v1+json": {
       "config": {
        "plotlyServerURL": "https://plot.ly"
       },
       "data": [
        {
         "alignmentgroup": "True",
         "bingroup": "x",
         "hovertemplate": "summary_sentiment=%{x}<br>count=%{y}<extra></extra>",
         "legendgroup": "",
         "marker": {
          "color": "pink",
          "line": {
           "color": "orchid",
           "width": 1.5
          },
          "pattern": {
           "shape": ""
          }
         },
         "name": "",
         "offsetgroup": "",
         "orientation": "v",
         "showlegend": false,
         "type": "histogram",
         "x": [
          0.3112185163321527,
          0.4867029291055265,
          0.4513842746400886,
          0.3468825412176476,
          0.2829739738173473,
          0.18661380286380289,
          0.35184729064039416,
          0.3494561425629386,
          0.3329650928167878,
          0.3342444444444445,
          0.33966125541125547,
          0.316511544011544,
          0.32452706942180637,
          0.36287878787878786,
          0.27718855218855226,
          0.31669925057021836,
          0.2260257491426323,
          0.11064686679440781,
          0.2955175438596492,
          0.3788377679231338,
          0.2956925087108015,
          0.30565476190476193,
          0.24076031398320558,
          0.2320736320736321,
          0.204112554112554,
          0.30456338274520095,
          0.1665473929362818,
          0.1101028806584362,
          0.34737691686844224,
          0.2755449585137086,
          0.415593984962406,
          0.35861712361712367,
          0.2874681559866745,
          0.4196053196053196,
          0.31128525196486356,
          0.2778005085529358,
          0.3220507399577168,
          0.21085090399796283,
          0.33155779405779423,
          0.3208597883597885,
          0.41055528691167,
          0.39711052836052846,
          0.32539215686274514,
          0.3954802259887006,
          0.3521271008403363,
          0.24887648809523819,
          0.1362893462469734,
          0.22388888888888892,
          0.1535064935064935,
          0.22898042929292936,
          0.2500677583286279,
          0.2903854210305824,
          0.31872294372294363,
          0.2826030424974087,
          0.35519841269841257,
          0.13946798815219869,
          0.24139610389610386,
          -0.013324029771398179,
          0.170771144278607,
          -0.013791079812206548,
          0.3806652661064427,
          0.4113401048492792,
          0.3606754880339788,
          0.23573280423280427,
          0.24861819727891152,
          0.36810559006211174,
          0.25008049242424246,
          0.26956311769991037,
          0.22532456922162813,
          0.28680781024531027,
          0.34223525230987917,
          0.318216496764884,
          0.2441239316239316,
          0.3830267930267931,
          0.15865339868464862,
          0.3800616752725187,
          0.3098199023199023,
          0.39446741854636597,
          0.1854670514670515,
          0.36312552213868005,
          0.10683928571428572,
          0.14904618473895587,
          0.2565901360544219,
          -0.14848823866896152,
          0.24281497238393798,
          0.09076015727391876,
          0.21506097560975612,
          0.19979642857142862,
          0.19982187950937952,
          0.14655791546416547,
          0.40997986509614415,
          0.3212644668256913,
          0.2844817927170868,
          0.2649858303208819,
          0.3452418414918416,
          0.4733217031724494,
          0.2954285714285715,
          0.24555921052631577,
          0.0958067375886524,
          0.2519907438839479,
          0.29839751832326095,
          0.23382177871148457,
          0.26386717024472134,
          0.22778330319469564,
          0.1916407496012759,
          0.20253720238095235,
          0.29304425494184533,
          0.28584734563681946,
          0.19424522649969078,
          0.23331387713410195,
          0.20138888888888887,
          0.16311871227364189,
          0.2648881046489744,
          0.06144279274444564,
          0.1735482954545455,
          0.2650313971742544,
          0.055690476190476186,
          0.1509183449400841,
          0.2010923600209315,
          0.16136689615605276,
          0.3961893090569561,
          0.2589002017400076,
          0.32529962546816477,
          0.5110469187675072,
          0.2555104405398523,
          0.36150584795321644,
          0.21118371212121217,
          0.1207895279323851,
          0.14356655844155844,
          0.29576044703595733,
          0.32008300567933595,
          0.2602015558698728,
          0.23754232566113762,
          0.3306682063640828,
          0.30591843762298326,
          0.07595282089184527,
          0.16309390198279086,
          0.1422831797831798,
          0.2625398465171193,
          0.11774461839530333,
          0.29494113609967276,
          0.23735119047619052,
          0.32996830550402,
          0.029228927934810318,
          0.3104488335738336,
          0.20304325955734406,
          0.2587675500175501,
          0.1624935064935065,
          0.06550836550836552,
          0.147780701754386,
          0.30228334749362795,
          0.2669221720308677,
          0.15882375776397514,
          0.10720238095238097,
          0.2366376902667225,
          0.3936461623961624,
          0.42164502164502166,
          0.2155037878787879,
          -0.0304228998849252,
          0.32423717059639406,
          0.11333723653395786,
          0.29883223772112655,
          0.28119533527696794,
          0.2087570861678004,
          0.11466970121381884,
          0.2141749723145072,
          0.3535777506322062,
          0.2644047619047619,
          0.05768252018252016,
          0.21742662536240523,
          0.19744637494637493,
          0.22082787243337704,
          0.2378743748161224,
          0.31171066252588,
          0.03160173160173162,
          0.2954495759342698,
          0.013566112250322771,
          -0.0115623728123728,
          -0.05549292929292927,
          0.15249853027630803,
          0.25994483159117304,
          0.11530612244897959,
          0.20657535829865922,
          0.29375364219114214,
          0.30432900432900445,
          0.17477246959389814,
          0.09376318126318127,
          0.3374589490968802,
          0.2283333333333334,
          0.2144389438943894,
          0.09638424518743668,
          0.27357020127638676,
          0.193840579710145,
          0.3020838438291269,
          0.20394179894179895,
          0.2955501253132833,
          0.3268651515151516,
          0.09251054852320678,
          0.21797293208583535,
          0.29249083269671516,
          0.16337719298245612,
          0.16648332690411893,
          0.231754130223518,
          0.05600490196078431,
          0.10870142454444782,
          0.09067261904761902,
          0.08352638352638354,
          -0.08461317722681358,
          0.13576923076923075,
          0.05365899252262887,
          0.2216201126915413,
          0.43638492063492074,
          0.2945078180525943,
          0.3338595779220779,
          0.16190476190476188,
          0.24913737124944027,
          0.2811411149825785,
          0.3893467643467643,
          0.31148868200073027,
          0.11205324270744833,
          0.24792755137582725,
          0.18742455163883728,
          0.35461711711711724,
          0.2622179089026915,
          0.26302111410601986,
          0.2021863799283153,
          0.2294571428571428,
          0.17612121212121215,
          0.032101806239737275,
          0.019797979797979814,
          0.22130398671096346,
          0.23772893772893777,
          0.19773388116308477,
          0.2882227891156463,
          0.31703192640692646,
          0.1775017356856979,
          0.18991299270904533,
          0.28728571428571426,
          0.10049723424723425,
          0.09037430287430288,
          0.2948504645760743,
          0.27035074244751667,
          0.3663194444444446,
          0.2948686151811152,
          0.3188988095238096,
          0.23571875000000003,
          0.29770987940630794,
          0.2607322068612391,
          0.24655826545249623,
          0.39503543499511246,
          -0.11297558075727088,
          0.32288519594440646,
          0.17651067323481118,
          0.276859410430839,
          0.07453840058750774,
          0.1232795698924731,
          0.2006456400742115,
          0.04045864045864047,
          0.20818508748196252,
          0.3624068322981367,
          0.32471738288811464,
          0.16971694971694973,
          0.3298356807511738,
          0.09851052048726469,
          0.26421399885255314,
          0.2768132624950807,
          0.17833333333333334,
          0.02052849927849931,
          0.05307971014492754,
          -0.12083333333333329,
          0.3105530753968255,
          0.2460568783068783,
          0.3169994262765347,
          0.28023809523809523,
          0.34111111111111114,
          0.25643726046951854,
          0.27237223094365937,
          0.19572201607915884,
          0.34147619047619054,
          0.3112468671679198,
          0.1912443883277217,
          0.2559720041862898,
          0.17662920412920402,
          0.1786858974358974,
          0.2854978354978355,
          0.36894635126777986,
          0.5545454545454546,
          0.300189393939394,
          0.40494047619047613,
          0.3018011750154607,
          0.030952380952380957,
          0.4285554796081112,
          0.28247619047619044,
          0.3419907963185273,
          0.22680399555399555,
          0.3707467532467532,
          0.16905405405405408,
          0.5891666666666667,
          0.45,
          0.29444444444444445
         ],
         "xaxis": "x",
         "yaxis": "y"
        }
       ],
       "layout": {
        "barmode": "relative",
        "height": 400,
        "legend": {
         "tracegroupgap": 0
        },
        "margin": {
         "t": 60
        },
        "template": {
         "data": {
          "bar": [
           {
            "error_x": {
             "color": "#2a3f5f"
            },
            "error_y": {
             "color": "#2a3f5f"
            },
            "marker": {
             "line": {
              "color": "#E5ECF6",
              "width": 0.5
             },
             "pattern": {
              "fillmode": "overlay",
              "size": 10,
              "solidity": 0.2
             }
            },
            "type": "bar"
           }
          ],
          "barpolar": [
           {
            "marker": {
             "line": {
              "color": "#E5ECF6",
              "width": 0.5
             },
             "pattern": {
              "fillmode": "overlay",
              "size": 10,
              "solidity": 0.2
             }
            },
            "type": "barpolar"
           }
          ],
          "carpet": [
           {
            "aaxis": {
             "endlinecolor": "#2a3f5f",
             "gridcolor": "white",
             "linecolor": "white",
             "minorgridcolor": "white",
             "startlinecolor": "#2a3f5f"
            },
            "baxis": {
             "endlinecolor": "#2a3f5f",
             "gridcolor": "white",
             "linecolor": "white",
             "minorgridcolor": "white",
             "startlinecolor": "#2a3f5f"
            },
            "type": "carpet"
           }
          ],
          "choropleth": [
           {
            "colorbar": {
             "outlinewidth": 0,
             "ticks": ""
            },
            "type": "choropleth"
           }
          ],
          "contour": [
           {
            "colorbar": {
             "outlinewidth": 0,
             "ticks": ""
            },
            "colorscale": [
             [
              0,
              "#0d0887"
             ],
             [
              0.1111111111111111,
              "#46039f"
             ],
             [
              0.2222222222222222,
              "#7201a8"
             ],
             [
              0.3333333333333333,
              "#9c179e"
             ],
             [
              0.4444444444444444,
              "#bd3786"
             ],
             [
              0.5555555555555556,
              "#d8576b"
             ],
             [
              0.6666666666666666,
              "#ed7953"
             ],
             [
              0.7777777777777778,
              "#fb9f3a"
             ],
             [
              0.8888888888888888,
              "#fdca26"
             ],
             [
              1,
              "#f0f921"
             ]
            ],
            "type": "contour"
           }
          ],
          "contourcarpet": [
           {
            "colorbar": {
             "outlinewidth": 0,
             "ticks": ""
            },
            "type": "contourcarpet"
           }
          ],
          "heatmap": [
           {
            "colorbar": {
             "outlinewidth": 0,
             "ticks": ""
            },
            "colorscale": [
             [
              0,
              "#0d0887"
             ],
             [
              0.1111111111111111,
              "#46039f"
             ],
             [
              0.2222222222222222,
              "#7201a8"
             ],
             [
              0.3333333333333333,
              "#9c179e"
             ],
             [
              0.4444444444444444,
              "#bd3786"
             ],
             [
              0.5555555555555556,
              "#d8576b"
             ],
             [
              0.6666666666666666,
              "#ed7953"
             ],
             [
              0.7777777777777778,
              "#fb9f3a"
             ],
             [
              0.8888888888888888,
              "#fdca26"
             ],
             [
              1,
              "#f0f921"
             ]
            ],
            "type": "heatmap"
           }
          ],
          "heatmapgl": [
           {
            "colorbar": {
             "outlinewidth": 0,
             "ticks": ""
            },
            "colorscale": [
             [
              0,
              "#0d0887"
             ],
             [
              0.1111111111111111,
              "#46039f"
             ],
             [
              0.2222222222222222,
              "#7201a8"
             ],
             [
              0.3333333333333333,
              "#9c179e"
             ],
             [
              0.4444444444444444,
              "#bd3786"
             ],
             [
              0.5555555555555556,
              "#d8576b"
             ],
             [
              0.6666666666666666,
              "#ed7953"
             ],
             [
              0.7777777777777778,
              "#fb9f3a"
             ],
             [
              0.8888888888888888,
              "#fdca26"
             ],
             [
              1,
              "#f0f921"
             ]
            ],
            "type": "heatmapgl"
           }
          ],
          "histogram": [
           {
            "marker": {
             "pattern": {
              "fillmode": "overlay",
              "size": 10,
              "solidity": 0.2
             }
            },
            "type": "histogram"
           }
          ],
          "histogram2d": [
           {
            "colorbar": {
             "outlinewidth": 0,
             "ticks": ""
            },
            "colorscale": [
             [
              0,
              "#0d0887"
             ],
             [
              0.1111111111111111,
              "#46039f"
             ],
             [
              0.2222222222222222,
              "#7201a8"
             ],
             [
              0.3333333333333333,
              "#9c179e"
             ],
             [
              0.4444444444444444,
              "#bd3786"
             ],
             [
              0.5555555555555556,
              "#d8576b"
             ],
             [
              0.6666666666666666,
              "#ed7953"
             ],
             [
              0.7777777777777778,
              "#fb9f3a"
             ],
             [
              0.8888888888888888,
              "#fdca26"
             ],
             [
              1,
              "#f0f921"
             ]
            ],
            "type": "histogram2d"
           }
          ],
          "histogram2dcontour": [
           {
            "colorbar": {
             "outlinewidth": 0,
             "ticks": ""
            },
            "colorscale": [
             [
              0,
              "#0d0887"
             ],
             [
              0.1111111111111111,
              "#46039f"
             ],
             [
              0.2222222222222222,
              "#7201a8"
             ],
             [
              0.3333333333333333,
              "#9c179e"
             ],
             [
              0.4444444444444444,
              "#bd3786"
             ],
             [
              0.5555555555555556,
              "#d8576b"
             ],
             [
              0.6666666666666666,
              "#ed7953"
             ],
             [
              0.7777777777777778,
              "#fb9f3a"
             ],
             [
              0.8888888888888888,
              "#fdca26"
             ],
             [
              1,
              "#f0f921"
             ]
            ],
            "type": "histogram2dcontour"
           }
          ],
          "mesh3d": [
           {
            "colorbar": {
             "outlinewidth": 0,
             "ticks": ""
            },
            "type": "mesh3d"
           }
          ],
          "parcoords": [
           {
            "line": {
             "colorbar": {
              "outlinewidth": 0,
              "ticks": ""
             }
            },
            "type": "parcoords"
           }
          ],
          "pie": [
           {
            "automargin": true,
            "type": "pie"
           }
          ],
          "scatter": [
           {
            "fillpattern": {
             "fillmode": "overlay",
             "size": 10,
             "solidity": 0.2
            },
            "type": "scatter"
           }
          ],
          "scatter3d": [
           {
            "line": {
             "colorbar": {
              "outlinewidth": 0,
              "ticks": ""
             }
            },
            "marker": {
             "colorbar": {
              "outlinewidth": 0,
              "ticks": ""
             }
            },
            "type": "scatter3d"
           }
          ],
          "scattercarpet": [
           {
            "marker": {
             "colorbar": {
              "outlinewidth": 0,
              "ticks": ""
             }
            },
            "type": "scattercarpet"
           }
          ],
          "scattergeo": [
           {
            "marker": {
             "colorbar": {
              "outlinewidth": 0,
              "ticks": ""
             }
            },
            "type": "scattergeo"
           }
          ],
          "scattergl": [
           {
            "marker": {
             "colorbar": {
              "outlinewidth": 0,
              "ticks": ""
             }
            },
            "type": "scattergl"
           }
          ],
          "scattermapbox": [
           {
            "marker": {
             "colorbar": {
              "outlinewidth": 0,
              "ticks": ""
             }
            },
            "type": "scattermapbox"
           }
          ],
          "scatterpolar": [
           {
            "marker": {
             "colorbar": {
              "outlinewidth": 0,
              "ticks": ""
             }
            },
            "type": "scatterpolar"
           }
          ],
          "scatterpolargl": [
           {
            "marker": {
             "colorbar": {
              "outlinewidth": 0,
              "ticks": ""
             }
            },
            "type": "scatterpolargl"
           }
          ],
          "scatterternary": [
           {
            "marker": {
             "colorbar": {
              "outlinewidth": 0,
              "ticks": ""
             }
            },
            "type": "scatterternary"
           }
          ],
          "surface": [
           {
            "colorbar": {
             "outlinewidth": 0,
             "ticks": ""
            },
            "colorscale": [
             [
              0,
              "#0d0887"
             ],
             [
              0.1111111111111111,
              "#46039f"
             ],
             [
              0.2222222222222222,
              "#7201a8"
             ],
             [
              0.3333333333333333,
              "#9c179e"
             ],
             [
              0.4444444444444444,
              "#bd3786"
             ],
             [
              0.5555555555555556,
              "#d8576b"
             ],
             [
              0.6666666666666666,
              "#ed7953"
             ],
             [
              0.7777777777777778,
              "#fb9f3a"
             ],
             [
              0.8888888888888888,
              "#fdca26"
             ],
             [
              1,
              "#f0f921"
             ]
            ],
            "type": "surface"
           }
          ],
          "table": [
           {
            "cells": {
             "fill": {
              "color": "#EBF0F8"
             },
             "line": {
              "color": "white"
             }
            },
            "header": {
             "fill": {
              "color": "#C8D4E3"
             },
             "line": {
              "color": "white"
             }
            },
            "type": "table"
           }
          ]
         },
         "layout": {
          "annotationdefaults": {
           "arrowcolor": "#2a3f5f",
           "arrowhead": 0,
           "arrowwidth": 1
          },
          "autotypenumbers": "strict",
          "coloraxis": {
           "colorbar": {
            "outlinewidth": 0,
            "ticks": ""
           }
          },
          "colorscale": {
           "diverging": [
            [
             0,
             "#8e0152"
            ],
            [
             0.1,
             "#c51b7d"
            ],
            [
             0.2,
             "#de77ae"
            ],
            [
             0.3,
             "#f1b6da"
            ],
            [
             0.4,
             "#fde0ef"
            ],
            [
             0.5,
             "#f7f7f7"
            ],
            [
             0.6,
             "#e6f5d0"
            ],
            [
             0.7,
             "#b8e186"
            ],
            [
             0.8,
             "#7fbc41"
            ],
            [
             0.9,
             "#4d9221"
            ],
            [
             1,
             "#276419"
            ]
           ],
           "sequential": [
            [
             0,
             "#0d0887"
            ],
            [
             0.1111111111111111,
             "#46039f"
            ],
            [
             0.2222222222222222,
             "#7201a8"
            ],
            [
             0.3333333333333333,
             "#9c179e"
            ],
            [
             0.4444444444444444,
             "#bd3786"
            ],
            [
             0.5555555555555556,
             "#d8576b"
            ],
            [
             0.6666666666666666,
             "#ed7953"
            ],
            [
             0.7777777777777778,
             "#fb9f3a"
            ],
            [
             0.8888888888888888,
             "#fdca26"
            ],
            [
             1,
             "#f0f921"
            ]
           ],
           "sequentialminus": [
            [
             0,
             "#0d0887"
            ],
            [
             0.1111111111111111,
             "#46039f"
            ],
            [
             0.2222222222222222,
             "#7201a8"
            ],
            [
             0.3333333333333333,
             "#9c179e"
            ],
            [
             0.4444444444444444,
             "#bd3786"
            ],
            [
             0.5555555555555556,
             "#d8576b"
            ],
            [
             0.6666666666666666,
             "#ed7953"
            ],
            [
             0.7777777777777778,
             "#fb9f3a"
            ],
            [
             0.8888888888888888,
             "#fdca26"
            ],
            [
             1,
             "#f0f921"
            ]
           ]
          },
          "colorway": [
           "#636efa",
           "#EF553B",
           "#00cc96",
           "#ab63fa",
           "#FFA15A",
           "#19d3f3",
           "#FF6692",
           "#B6E880",
           "#FF97FF",
           "#FECB52"
          ],
          "font": {
           "color": "#2a3f5f"
          },
          "geo": {
           "bgcolor": "white",
           "lakecolor": "white",
           "landcolor": "#E5ECF6",
           "showlakes": true,
           "showland": true,
           "subunitcolor": "white"
          },
          "hoverlabel": {
           "align": "left"
          },
          "hovermode": "closest",
          "mapbox": {
           "style": "light"
          },
          "paper_bgcolor": "white",
          "plot_bgcolor": "#E5ECF6",
          "polar": {
           "angularaxis": {
            "gridcolor": "white",
            "linecolor": "white",
            "ticks": ""
           },
           "bgcolor": "#E5ECF6",
           "radialaxis": {
            "gridcolor": "white",
            "linecolor": "white",
            "ticks": ""
           }
          },
          "scene": {
           "xaxis": {
            "backgroundcolor": "#E5ECF6",
            "gridcolor": "white",
            "gridwidth": 2,
            "linecolor": "white",
            "showbackground": true,
            "ticks": "",
            "zerolinecolor": "white"
           },
           "yaxis": {
            "backgroundcolor": "#E5ECF6",
            "gridcolor": "white",
            "gridwidth": 2,
            "linecolor": "white",
            "showbackground": true,
            "ticks": "",
            "zerolinecolor": "white"
           },
           "zaxis": {
            "backgroundcolor": "#E5ECF6",
            "gridcolor": "white",
            "gridwidth": 2,
            "linecolor": "white",
            "showbackground": true,
            "ticks": "",
            "zerolinecolor": "white"
           }
          },
          "shapedefaults": {
           "line": {
            "color": "#2a3f5f"
           }
          },
          "ternary": {
           "aaxis": {
            "gridcolor": "white",
            "linecolor": "white",
            "ticks": ""
           },
           "baxis": {
            "gridcolor": "white",
            "linecolor": "white",
            "ticks": ""
           },
           "bgcolor": "#E5ECF6",
           "caxis": {
            "gridcolor": "white",
            "linecolor": "white",
            "ticks": ""
           }
          },
          "title": {
           "x": 0.05
          },
          "xaxis": {
           "automargin": true,
           "gridcolor": "white",
           "linecolor": "white",
           "ticks": "",
           "title": {
            "standoff": 15
           },
           "zerolinecolor": "white",
           "zerolinewidth": 2
          },
          "yaxis": {
           "automargin": true,
           "gridcolor": "white",
           "linecolor": "white",
           "ticks": "",
           "title": {
            "standoff": 15
           },
           "zerolinecolor": "white",
           "zerolinewidth": 2
          }
         }
        },
        "title": {
         "text": "Review Summary Sentiment Distribution"
        },
        "width": 800,
        "xaxis": {
         "anchor": "y",
         "domain": [
          0,
          1
         ],
         "title": {
          "text": "summary_sentiment"
         }
        },
        "yaxis": {
         "anchor": "x",
         "domain": [
          0,
          1
         ],
         "title": {
          "text": "count"
         }
        }
       }
      },
      "text/html": [
       "<div>                            <div id=\"9f2b57b0-d39c-4bcf-a884-3d5f8a4b5c57\" class=\"plotly-graph-div\" style=\"height:400px; width:800px;\"></div>            <script type=\"text/javascript\">                require([\"plotly\"], function(Plotly) {                    window.PLOTLYENV=window.PLOTLYENV || {};                                    if (document.getElementById(\"9f2b57b0-d39c-4bcf-a884-3d5f8a4b5c57\")) {                    Plotly.newPlot(                        \"9f2b57b0-d39c-4bcf-a884-3d5f8a4b5c57\",                        [{\"alignmentgroup\":\"True\",\"bingroup\":\"x\",\"hovertemplate\":\"summary_sentiment=%{x}\\u003cbr\\u003ecount=%{y}\\u003cextra\\u003e\\u003c\\u002fextra\\u003e\",\"legendgroup\":\"\",\"marker\":{\"color\":\"pink\",\"pattern\":{\"shape\":\"\"},\"line\":{\"color\":\"orchid\",\"width\":1.5}},\"name\":\"\",\"offsetgroup\":\"\",\"orientation\":\"v\",\"showlegend\":false,\"x\":[0.3112185163321527,0.4867029291055265,0.4513842746400886,0.3468825412176476,0.2829739738173473,0.18661380286380289,0.35184729064039416,0.3494561425629386,0.3329650928167878,0.3342444444444445,0.33966125541125547,0.316511544011544,0.32452706942180637,0.36287878787878786,0.27718855218855226,0.31669925057021836,0.2260257491426323,0.11064686679440781,0.2955175438596492,0.3788377679231338,0.2956925087108015,0.30565476190476193,0.24076031398320558,0.2320736320736321,0.204112554112554,0.30456338274520095,0.1665473929362818,0.1101028806584362,0.34737691686844224,0.2755449585137086,0.415593984962406,0.35861712361712367,0.2874681559866745,0.4196053196053196,0.31128525196486356,0.2778005085529358,0.3220507399577168,0.21085090399796283,0.33155779405779423,0.3208597883597885,0.41055528691167,0.39711052836052846,0.32539215686274514,0.3954802259887006,0.3521271008403363,0.24887648809523819,0.1362893462469734,0.22388888888888892,0.1535064935064935,0.22898042929292936,0.2500677583286279,0.2903854210305824,0.31872294372294363,0.2826030424974087,0.35519841269841257,0.13946798815219869,0.24139610389610386,-0.013324029771398179,0.170771144278607,-0.013791079812206548,0.3806652661064427,0.4113401048492792,0.3606754880339788,0.23573280423280427,0.24861819727891152,0.36810559006211174,0.25008049242424246,0.26956311769991037,0.22532456922162813,0.28680781024531027,0.34223525230987917,0.318216496764884,0.2441239316239316,0.3830267930267931,0.15865339868464862,0.3800616752725187,0.3098199023199023,0.39446741854636597,0.1854670514670515,0.36312552213868005,0.10683928571428572,0.14904618473895587,0.2565901360544219,-0.14848823866896152,0.24281497238393798,0.09076015727391876,0.21506097560975612,0.19979642857142862,0.19982187950937952,0.14655791546416547,0.40997986509614415,0.3212644668256913,0.2844817927170868,0.2649858303208819,0.3452418414918416,0.4733217031724494,0.2954285714285715,0.24555921052631577,0.0958067375886524,0.2519907438839479,0.29839751832326095,0.23382177871148457,0.26386717024472134,0.22778330319469564,0.1916407496012759,0.20253720238095235,0.29304425494184533,0.28584734563681946,0.19424522649969078,0.23331387713410195,0.20138888888888887,0.16311871227364189,0.2648881046489744,0.06144279274444564,0.1735482954545455,0.2650313971742544,0.055690476190476186,0.1509183449400841,0.2010923600209315,0.16136689615605276,0.3961893090569561,0.2589002017400076,0.32529962546816477,0.5110469187675072,0.2555104405398523,0.36150584795321644,0.21118371212121217,0.1207895279323851,0.14356655844155844,0.29576044703595733,0.32008300567933595,0.2602015558698728,0.23754232566113762,0.3306682063640828,0.30591843762298326,0.07595282089184527,0.16309390198279086,0.1422831797831798,0.2625398465171193,0.11774461839530333,0.29494113609967276,0.23735119047619052,0.32996830550402,0.029228927934810318,0.3104488335738336,0.20304325955734406,0.2587675500175501,0.1624935064935065,0.06550836550836552,0.147780701754386,0.30228334749362795,0.2669221720308677,0.15882375776397514,0.10720238095238097,0.2366376902667225,0.3936461623961624,0.42164502164502166,0.2155037878787879,-0.0304228998849252,0.32423717059639406,0.11333723653395786,0.29883223772112655,0.28119533527696794,0.2087570861678004,0.11466970121381884,0.2141749723145072,0.3535777506322062,0.2644047619047619,0.05768252018252016,0.21742662536240523,0.19744637494637493,0.22082787243337704,0.2378743748161224,0.31171066252588,0.03160173160173162,0.2954495759342698,0.013566112250322771,-0.0115623728123728,-0.05549292929292927,0.15249853027630803,0.25994483159117304,0.11530612244897959,0.20657535829865922,0.29375364219114214,0.30432900432900445,0.17477246959389814,0.09376318126318127,0.3374589490968802,0.2283333333333334,0.2144389438943894,0.09638424518743668,0.27357020127638676,0.193840579710145,0.3020838438291269,0.20394179894179895,0.2955501253132833,0.3268651515151516,0.09251054852320678,0.21797293208583535,0.29249083269671516,0.16337719298245612,0.16648332690411893,0.231754130223518,0.05600490196078431,0.10870142454444782,0.09067261904761902,0.08352638352638354,-0.08461317722681358,0.13576923076923075,0.05365899252262887,0.2216201126915413,0.43638492063492074,0.2945078180525943,0.3338595779220779,0.16190476190476188,0.24913737124944027,0.2811411149825785,0.3893467643467643,0.31148868200073027,0.11205324270744833,0.24792755137582725,0.18742455163883728,0.35461711711711724,0.2622179089026915,0.26302111410601986,0.2021863799283153,0.2294571428571428,0.17612121212121215,0.032101806239737275,0.019797979797979814,0.22130398671096346,0.23772893772893777,0.19773388116308477,0.2882227891156463,0.31703192640692646,0.1775017356856979,0.18991299270904533,0.28728571428571426,0.10049723424723425,0.09037430287430288,0.2948504645760743,0.27035074244751667,0.3663194444444446,0.2948686151811152,0.3188988095238096,0.23571875000000003,0.29770987940630794,0.2607322068612391,0.24655826545249623,0.39503543499511246,-0.11297558075727088,0.32288519594440646,0.17651067323481118,0.276859410430839,0.07453840058750774,0.1232795698924731,0.2006456400742115,0.04045864045864047,0.20818508748196252,0.3624068322981367,0.32471738288811464,0.16971694971694973,0.3298356807511738,0.09851052048726469,0.26421399885255314,0.2768132624950807,0.17833333333333334,0.02052849927849931,0.05307971014492754,-0.12083333333333329,0.3105530753968255,0.2460568783068783,0.3169994262765347,0.28023809523809523,0.34111111111111114,0.25643726046951854,0.27237223094365937,0.19572201607915884,0.34147619047619054,0.3112468671679198,0.1912443883277217,0.2559720041862898,0.17662920412920402,0.1786858974358974,0.2854978354978355,0.36894635126777986,0.5545454545454546,0.300189393939394,0.40494047619047613,0.3018011750154607,0.030952380952380957,0.4285554796081112,0.28247619047619044,0.3419907963185273,0.22680399555399555,0.3707467532467532,0.16905405405405408,0.5891666666666667,0.45,0.29444444444444445],\"xaxis\":\"x\",\"yaxis\":\"y\",\"type\":\"histogram\"}],                        {\"template\":{\"data\":{\"histogram2dcontour\":[{\"type\":\"histogram2dcontour\",\"colorbar\":{\"outlinewidth\":0,\"ticks\":\"\"},\"colorscale\":[[0.0,\"#0d0887\"],[0.1111111111111111,\"#46039f\"],[0.2222222222222222,\"#7201a8\"],[0.3333333333333333,\"#9c179e\"],[0.4444444444444444,\"#bd3786\"],[0.5555555555555556,\"#d8576b\"],[0.6666666666666666,\"#ed7953\"],[0.7777777777777778,\"#fb9f3a\"],[0.8888888888888888,\"#fdca26\"],[1.0,\"#f0f921\"]]}],\"choropleth\":[{\"type\":\"choropleth\",\"colorbar\":{\"outlinewidth\":0,\"ticks\":\"\"}}],\"histogram2d\":[{\"type\":\"histogram2d\",\"colorbar\":{\"outlinewidth\":0,\"ticks\":\"\"},\"colorscale\":[[0.0,\"#0d0887\"],[0.1111111111111111,\"#46039f\"],[0.2222222222222222,\"#7201a8\"],[0.3333333333333333,\"#9c179e\"],[0.4444444444444444,\"#bd3786\"],[0.5555555555555556,\"#d8576b\"],[0.6666666666666666,\"#ed7953\"],[0.7777777777777778,\"#fb9f3a\"],[0.8888888888888888,\"#fdca26\"],[1.0,\"#f0f921\"]]}],\"heatmap\":[{\"type\":\"heatmap\",\"colorbar\":{\"outlinewidth\":0,\"ticks\":\"\"},\"colorscale\":[[0.0,\"#0d0887\"],[0.1111111111111111,\"#46039f\"],[0.2222222222222222,\"#7201a8\"],[0.3333333333333333,\"#9c179e\"],[0.4444444444444444,\"#bd3786\"],[0.5555555555555556,\"#d8576b\"],[0.6666666666666666,\"#ed7953\"],[0.7777777777777778,\"#fb9f3a\"],[0.8888888888888888,\"#fdca26\"],[1.0,\"#f0f921\"]]}],\"heatmapgl\":[{\"type\":\"heatmapgl\",\"colorbar\":{\"outlinewidth\":0,\"ticks\":\"\"},\"colorscale\":[[0.0,\"#0d0887\"],[0.1111111111111111,\"#46039f\"],[0.2222222222222222,\"#7201a8\"],[0.3333333333333333,\"#9c179e\"],[0.4444444444444444,\"#bd3786\"],[0.5555555555555556,\"#d8576b\"],[0.6666666666666666,\"#ed7953\"],[0.7777777777777778,\"#fb9f3a\"],[0.8888888888888888,\"#fdca26\"],[1.0,\"#f0f921\"]]}],\"contourcarpet\":[{\"type\":\"contourcarpet\",\"colorbar\":{\"outlinewidth\":0,\"ticks\":\"\"}}],\"contour\":[{\"type\":\"contour\",\"colorbar\":{\"outlinewidth\":0,\"ticks\":\"\"},\"colorscale\":[[0.0,\"#0d0887\"],[0.1111111111111111,\"#46039f\"],[0.2222222222222222,\"#7201a8\"],[0.3333333333333333,\"#9c179e\"],[0.4444444444444444,\"#bd3786\"],[0.5555555555555556,\"#d8576b\"],[0.6666666666666666,\"#ed7953\"],[0.7777777777777778,\"#fb9f3a\"],[0.8888888888888888,\"#fdca26\"],[1.0,\"#f0f921\"]]}],\"surface\":[{\"type\":\"surface\",\"colorbar\":{\"outlinewidth\":0,\"ticks\":\"\"},\"colorscale\":[[0.0,\"#0d0887\"],[0.1111111111111111,\"#46039f\"],[0.2222222222222222,\"#7201a8\"],[0.3333333333333333,\"#9c179e\"],[0.4444444444444444,\"#bd3786\"],[0.5555555555555556,\"#d8576b\"],[0.6666666666666666,\"#ed7953\"],[0.7777777777777778,\"#fb9f3a\"],[0.8888888888888888,\"#fdca26\"],[1.0,\"#f0f921\"]]}],\"mesh3d\":[{\"type\":\"mesh3d\",\"colorbar\":{\"outlinewidth\":0,\"ticks\":\"\"}}],\"scatter\":[{\"fillpattern\":{\"fillmode\":\"overlay\",\"size\":10,\"solidity\":0.2},\"type\":\"scatter\"}],\"parcoords\":[{\"type\":\"parcoords\",\"line\":{\"colorbar\":{\"outlinewidth\":0,\"ticks\":\"\"}}}],\"scatterpolargl\":[{\"type\":\"scatterpolargl\",\"marker\":{\"colorbar\":{\"outlinewidth\":0,\"ticks\":\"\"}}}],\"bar\":[{\"error_x\":{\"color\":\"#2a3f5f\"},\"error_y\":{\"color\":\"#2a3f5f\"},\"marker\":{\"line\":{\"color\":\"#E5ECF6\",\"width\":0.5},\"pattern\":{\"fillmode\":\"overlay\",\"size\":10,\"solidity\":0.2}},\"type\":\"bar\"}],\"scattergeo\":[{\"type\":\"scattergeo\",\"marker\":{\"colorbar\":{\"outlinewidth\":0,\"ticks\":\"\"}}}],\"scatterpolar\":[{\"type\":\"scatterpolar\",\"marker\":{\"colorbar\":{\"outlinewidth\":0,\"ticks\":\"\"}}}],\"histogram\":[{\"marker\":{\"pattern\":{\"fillmode\":\"overlay\",\"size\":10,\"solidity\":0.2}},\"type\":\"histogram\"}],\"scattergl\":[{\"type\":\"scattergl\",\"marker\":{\"colorbar\":{\"outlinewidth\":0,\"ticks\":\"\"}}}],\"scatter3d\":[{\"type\":\"scatter3d\",\"line\":{\"colorbar\":{\"outlinewidth\":0,\"ticks\":\"\"}},\"marker\":{\"colorbar\":{\"outlinewidth\":0,\"ticks\":\"\"}}}],\"scattermapbox\":[{\"type\":\"scattermapbox\",\"marker\":{\"colorbar\":{\"outlinewidth\":0,\"ticks\":\"\"}}}],\"scatterternary\":[{\"type\":\"scatterternary\",\"marker\":{\"colorbar\":{\"outlinewidth\":0,\"ticks\":\"\"}}}],\"scattercarpet\":[{\"type\":\"scattercarpet\",\"marker\":{\"colorbar\":{\"outlinewidth\":0,\"ticks\":\"\"}}}],\"carpet\":[{\"aaxis\":{\"endlinecolor\":\"#2a3f5f\",\"gridcolor\":\"white\",\"linecolor\":\"white\",\"minorgridcolor\":\"white\",\"startlinecolor\":\"#2a3f5f\"},\"baxis\":{\"endlinecolor\":\"#2a3f5f\",\"gridcolor\":\"white\",\"linecolor\":\"white\",\"minorgridcolor\":\"white\",\"startlinecolor\":\"#2a3f5f\"},\"type\":\"carpet\"}],\"table\":[{\"cells\":{\"fill\":{\"color\":\"#EBF0F8\"},\"line\":{\"color\":\"white\"}},\"header\":{\"fill\":{\"color\":\"#C8D4E3\"},\"line\":{\"color\":\"white\"}},\"type\":\"table\"}],\"barpolar\":[{\"marker\":{\"line\":{\"color\":\"#E5ECF6\",\"width\":0.5},\"pattern\":{\"fillmode\":\"overlay\",\"size\":10,\"solidity\":0.2}},\"type\":\"barpolar\"}],\"pie\":[{\"automargin\":true,\"type\":\"pie\"}]},\"layout\":{\"autotypenumbers\":\"strict\",\"colorway\":[\"#636efa\",\"#EF553B\",\"#00cc96\",\"#ab63fa\",\"#FFA15A\",\"#19d3f3\",\"#FF6692\",\"#B6E880\",\"#FF97FF\",\"#FECB52\"],\"font\":{\"color\":\"#2a3f5f\"},\"hovermode\":\"closest\",\"hoverlabel\":{\"align\":\"left\"},\"paper_bgcolor\":\"white\",\"plot_bgcolor\":\"#E5ECF6\",\"polar\":{\"bgcolor\":\"#E5ECF6\",\"angularaxis\":{\"gridcolor\":\"white\",\"linecolor\":\"white\",\"ticks\":\"\"},\"radialaxis\":{\"gridcolor\":\"white\",\"linecolor\":\"white\",\"ticks\":\"\"}},\"ternary\":{\"bgcolor\":\"#E5ECF6\",\"aaxis\":{\"gridcolor\":\"white\",\"linecolor\":\"white\",\"ticks\":\"\"},\"baxis\":{\"gridcolor\":\"white\",\"linecolor\":\"white\",\"ticks\":\"\"},\"caxis\":{\"gridcolor\":\"white\",\"linecolor\":\"white\",\"ticks\":\"\"}},\"coloraxis\":{\"colorbar\":{\"outlinewidth\":0,\"ticks\":\"\"}},\"colorscale\":{\"sequential\":[[0.0,\"#0d0887\"],[0.1111111111111111,\"#46039f\"],[0.2222222222222222,\"#7201a8\"],[0.3333333333333333,\"#9c179e\"],[0.4444444444444444,\"#bd3786\"],[0.5555555555555556,\"#d8576b\"],[0.6666666666666666,\"#ed7953\"],[0.7777777777777778,\"#fb9f3a\"],[0.8888888888888888,\"#fdca26\"],[1.0,\"#f0f921\"]],\"sequentialminus\":[[0.0,\"#0d0887\"],[0.1111111111111111,\"#46039f\"],[0.2222222222222222,\"#7201a8\"],[0.3333333333333333,\"#9c179e\"],[0.4444444444444444,\"#bd3786\"],[0.5555555555555556,\"#d8576b\"],[0.6666666666666666,\"#ed7953\"],[0.7777777777777778,\"#fb9f3a\"],[0.8888888888888888,\"#fdca26\"],[1.0,\"#f0f921\"]],\"diverging\":[[0,\"#8e0152\"],[0.1,\"#c51b7d\"],[0.2,\"#de77ae\"],[0.3,\"#f1b6da\"],[0.4,\"#fde0ef\"],[0.5,\"#f7f7f7\"],[0.6,\"#e6f5d0\"],[0.7,\"#b8e186\"],[0.8,\"#7fbc41\"],[0.9,\"#4d9221\"],[1,\"#276419\"]]},\"xaxis\":{\"gridcolor\":\"white\",\"linecolor\":\"white\",\"ticks\":\"\",\"title\":{\"standoff\":15},\"zerolinecolor\":\"white\",\"automargin\":true,\"zerolinewidth\":2},\"yaxis\":{\"gridcolor\":\"white\",\"linecolor\":\"white\",\"ticks\":\"\",\"title\":{\"standoff\":15},\"zerolinecolor\":\"white\",\"automargin\":true,\"zerolinewidth\":2},\"scene\":{\"xaxis\":{\"backgroundcolor\":\"#E5ECF6\",\"gridcolor\":\"white\",\"linecolor\":\"white\",\"showbackground\":true,\"ticks\":\"\",\"zerolinecolor\":\"white\",\"gridwidth\":2},\"yaxis\":{\"backgroundcolor\":\"#E5ECF6\",\"gridcolor\":\"white\",\"linecolor\":\"white\",\"showbackground\":true,\"ticks\":\"\",\"zerolinecolor\":\"white\",\"gridwidth\":2},\"zaxis\":{\"backgroundcolor\":\"#E5ECF6\",\"gridcolor\":\"white\",\"linecolor\":\"white\",\"showbackground\":true,\"ticks\":\"\",\"zerolinecolor\":\"white\",\"gridwidth\":2}},\"shapedefaults\":{\"line\":{\"color\":\"#2a3f5f\"}},\"annotationdefaults\":{\"arrowcolor\":\"#2a3f5f\",\"arrowhead\":0,\"arrowwidth\":1},\"geo\":{\"bgcolor\":\"white\",\"landcolor\":\"#E5ECF6\",\"subunitcolor\":\"white\",\"showland\":true,\"showlakes\":true,\"lakecolor\":\"white\"},\"title\":{\"x\":0.05},\"mapbox\":{\"style\":\"light\"}}},\"xaxis\":{\"anchor\":\"y\",\"domain\":[0.0,1.0],\"title\":{\"text\":\"summary_sentiment\"}},\"yaxis\":{\"anchor\":\"x\",\"domain\":[0.0,1.0],\"title\":{\"text\":\"count\"}},\"legend\":{\"tracegroupgap\":0},\"margin\":{\"t\":60},\"barmode\":\"relative\",\"height\":400,\"width\":800,\"title\":{\"text\":\"Review Summary Sentiment Distribution\"}},                        {\"responsive\": true}                    ).then(function(){\n",
       "                            \n",
       "var gd = document.getElementById('9f2b57b0-d39c-4bcf-a884-3d5f8a4b5c57');\n",
       "var x = new MutationObserver(function (mutations, observer) {{\n",
       "        var display = window.getComputedStyle(gd).display;\n",
       "        if (!display || display === 'none') {{\n",
       "            console.log([gd, 'removed!']);\n",
       "            Plotly.purge(gd);\n",
       "            observer.disconnect();\n",
       "        }}\n",
       "}});\n",
       "\n",
       "// Listen for the removal of the full notebook cells\n",
       "var notebookContainer = gd.closest('#notebook-container');\n",
       "if (notebookContainer) {{\n",
       "    x.observe(notebookContainer, {childList: true});\n",
       "}}\n",
       "\n",
       "// Listen for the clearing of the current output cell\n",
       "var outputEl = gd.closest('.output');\n",
       "if (outputEl) {{\n",
       "    x.observe(outputEl, {childList: true});\n",
       "}}\n",
       "\n",
       "                        })                };                });            </script>        </div>"
      ]
     },
     "metadata": {},
     "output_type": "display_data"
    }
   ],
   "source": [
    "%matplotlib inline\n",
    "fig2 = px.histogram(hotels_df, x=\"title_sentiment\",  width=800, height=400)\n",
    "fig2.update_traces(marker_color=\"pink\",marker_line_color='orchid',\n",
    "                  marker_line_width=1.5)\n",
    "fig2.update_layout(title_text='Review Title Sentiment Distribution')\n",
    "fig2.show()\n",
    "\n",
    "%matplotlib inline\n",
    "fig3 = px.histogram(hotels_df, x=\"summary_sentiment\",  width=800, height=400)\n",
    "fig3.update_traces(marker_color=\"pink\",marker_line_color='orchid',\n",
    "                  marker_line_width=1.5)\n",
    "fig3.update_layout(title_text='Review Summary Sentiment Distribution')\n",
    "fig3.show()"
   ]
  },
  {
   "attachments": {},
   "cell_type": "markdown",
   "metadata": {},
   "source": [
    "Sentiment distribution looks like normal"
   ]
  },
  {
   "attachments": {},
   "cell_type": "markdown",
   "metadata": {},
   "source": [
    "### Looking at Words Frequency"
   ]
  },
  {
   "cell_type": "code",
   "execution_count": null,
   "metadata": {},
   "outputs": [],
   "source": []
  }
 ],
 "metadata": {
  "kernelspec": {
   "display_name": "ADSProgram",
   "language": "python",
   "name": "python3"
  },
  "language_info": {
   "codemirror_mode": {
    "name": "ipython",
    "version": 3
   },
   "file_extension": ".py",
   "mimetype": "text/x-python",
   "name": "python",
   "nbconvert_exporter": "python",
   "pygments_lexer": "ipython3",
   "version": "3.8.0"
  },
  "orig_nbformat": 4,
  "vscode": {
   "interpreter": {
    "hash": "7951f347f00c15a6c7244c3e3f597bc8ba51df93b8ab253d0dc61c925351e543"
   }
  }
 },
 "nbformat": 4,
 "nbformat_minor": 2
}
